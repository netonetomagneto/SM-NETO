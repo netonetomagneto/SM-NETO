{
 "cells": [
  {
   "cell_type": "markdown",
   "id": "8842f5fa-6c20-4f2f-a9fd-25af8c9fe26d",
   "metadata": {},
   "source": [
    "# A10, HUGO ERNESTO CARDENAS ALCARAZ, "
   ]
  },
  {
   "cell_type": "markdown",
   "id": "e21f3c98-0ef3-409b-9e82-b7de4aa29784",
   "metadata": {},
   "source": [
    "1. Menciona tres ejemplos de variables aleatorias discretas:"
   ]
  },
  {
   "cell_type": "markdown",
   "id": "f2e4b634-e44f-43c4-91cd-f52449329d8e",
   "metadata": {},
   "source": [
    "* Al sacar una carta se conoce que el resultado es $ p \\in \\{0, 1, 2, 3,..., 52\\} $ \n",
    "* Cantidad de accidentes fatales de los 200 accidentes generales anuales en Lopez Mateos.$ p \\in \\{0, 1, 2, 3,..., 200\\} $\n",
    "* Ruleta en el casino con $ p \\in \\{0, 1, 2, 3,..., 50\\} $"
   ]
  },
  {
   "cell_type": "markdown",
   "id": "3369d9ea-4855-4641-b9ed-34178ba88930",
   "metadata": {},
   "source": [
    "2. Menciona tres ejemplos de variables aleatorias continuas:"
   ]
  },
  {
   "cell_type": "markdown",
   "id": "23fc2fbb-5da0-4d2f-a957-2e9754bdbb2d",
   "metadata": {},
   "source": [
    "* Longevidad de una persona.\n",
    "* Martillazos dados por un martillo.\n",
    "* Peso de un persona."
   ]
  },
  {
   "cell_type": "markdown",
   "id": "d0be0000-d014-4593-8d3a-b9e32bc0b310",
   "metadata": {},
   "source": [
    "3. Dos equipos juegan una serie de juegos (4 de 7, el que gane 4 juegos gana). Cada equipo tiene un 50% de probabilidad de ganar cada juego (no empates). ¿Cuál es la probabilidad de que la serie se vaya a 7 juegos? (5/16)"
   ]
  },
  {
   "cell_type": "code",
   "execution_count": 170,
   "id": "d8f93771-a130-4044-92ab-64196f3e51bd",
   "metadata": {},
   "outputs": [
    {
     "data": {
      "text/plain": [
       "4"
      ]
     },
     "execution_count": 170,
     "metadata": {},
     "output_type": "execute_result"
    }
   ],
   "source": [
    "import numpy as np\n",
    "import math as math\n",
    "\"\"\"n = 6\n",
    "k= 3\n",
    "N = n-k\n",
    "p = (0.5)**6\n",
    "nk = (math.factorial(n))/(math.factorial(k)*math.factorial(N))\n",
    "R = nk*p\"\"\"\n",
    "\n",
    "\n",
    "\n",
    "n = 10000\n",
    "def game():\n",
    "    juegos = 0\n",
    "    pos = 0\n",
    "    while pos < 4:\n",
    "        x = np.random.choice([1,-1])\n",
    "        if x == 1:\n",
    "            pos +=  1\n",
    "            juegos += 1\n",
    "        else:\n",
    "            pos += 0 \n",
    "            juegos += 1\n",
    "    return juegos\n",
    "    \n",
    "game()\n"
   ]
  },
  {
   "cell_type": "code",
   "execution_count": 172,
   "id": "b34f4aad-3bb9-4299-b280-38fa70ce76bb",
   "metadata": {},
   "outputs": [
    {
     "data": {
      "text/plain": [
       "0.155"
      ]
     },
     "execution_count": 172,
     "metadata": {},
     "output_type": "execute_result"
    }
   ],
   "source": [
    "def juegos_tot(n):\n",
    "    tot = []\n",
    "    for i in range(n):\n",
    "        exitos = game()\n",
    "        tot.append(exitos)\n",
    "    return tot\n",
    "\n",
    "totales = juegos_tot(n)\n"
   ]
  },
  {
   "cell_type": "markdown",
   "id": "6a1e5262-f65e-4a10-9bef-baaa773e5d81",
   "metadata": {},
   "source": [
    "4. Una en mil personas tienen una enfermedad H, y la prueba de la enfermedad sale correcta 98% de las veces cuando la persona está enferma. Por otro lado, si la persona está enferma la prueba tiene un error del 1%. Si alguien se hace una prueba y sale positiva, ¿cuál es la probabilidad de que tengan la enfermedad? (98/1097)"
   ]
  },
  {
   "cell_type": "code",
   "execution_count": 119,
   "id": "cdeb3c55-68bc-4e1b-a8b5-58e846859e26",
   "metadata": {},
   "outputs": [
    {
     "data": {
      "text/plain": [
       "0.08716026241799438"
      ]
     },
     "execution_count": 119,
     "metadata": {},
     "output_type": "execute_result"
    }
   ],
   "source": [
    "import numpy as np\n",
    "p = 0.01\n",
    "x = np.random.rand(1,101)\n",
    "\n",
    "\n",
    "n = 100000\n",
    "personas = np.random.choice([0,1],n,p = [0.999,0.001])\n",
    "ti_di = np.random.choice([0,1],personas.sum(),p = [0.02,0.98])\n",
    "ti_d0 = np.random.choice([0,1],n - personas.sum(),p = [0.99,0.01])\n",
    "ti_di.sum()/(ti_di.sum() + ti_d0.sum())"
   ]
  },
  {
   "cell_type": "markdown",
   "id": "c8938e08-403e-47e0-899c-026f643aed5c",
   "metadata": {},
   "source": [
    "5. Tres amigos diferentes te dijeron que está lloviendo, y cada persona tiene 1/3 de probabilidad de mentir. Si el pronóstico del clima dijo que la probabilidad de lluvia era 25%, ¿cuál es la probabilidad de que sí esté lloviendo? (8/11)"
   ]
  },
  {
   "cell_type": "code",
   "execution_count": null,
   "id": "98b90c27-635a-4534-91b7-867bbaa53596",
   "metadata": {},
   "outputs": [],
   "source": []
  },
  {
   "cell_type": "markdown",
   "id": "f851e03f-c7c2-4e37-bd13-c549a4c08d94",
   "metadata": {},
   "source": [
    "6. "
   ]
  },
  {
   "cell_type": "markdown",
   "id": "53f84872-e948-4977-8839-364a27092b6e",
   "metadata": {},
   "source": [
    "1.- Avientas un dado tres veces. ¿Cuál es la probabilidad de tirar dos 6 seguidos?"
   ]
  },
  {
   "cell_type": "code",
   "execution_count": 157,
   "id": "14b7027d-4edc-4047-a6e6-62700fe0e466",
   "metadata": {},
   "outputs": [
    {
     "data": {
      "text/plain": [
       "0.05"
      ]
     },
     "execution_count": 157,
     "metadata": {},
     "output_type": "execute_result"
    }
   ],
   "source": [
    "n = 100\n",
    "np.random.seed(0)\n",
    "d1 = np.random.randint(1,7,n)\n",
    "d2 = np.random.randint(1,7,n)\n",
    "d3 = np.random.randint(1,7,n)\n",
    "np.vstack((d1,d2,d3))\n",
    "\n",
    "caso1 = ((d1 == 6) & (d2 == 6) & (d3 != 6)) \n",
    "caso2 = ((d2 == 6) & (d3 == 6)& (d1 != 6))\n",
    "caso3 = ((d1 == 6) & (d2 == 6) & (d3 == 6)) \n",
    "\n",
    "(caso1.sum() + caso2.sum() + caso3.sum())/n"
   ]
  },
  {
   "cell_type": "markdown",
   "id": "1b9b3db0-5054-4dd4-9cbb-92a8fbfea3e7",
   "metadata": {},
   "source": [
    "2.- Avientas tres dados, uno tras otro. ¿Cuál es la probabilidad de obtener número sólo en orden ascendente?"
   ]
  },
  {
   "cell_type": "code",
   "execution_count": 155,
   "id": "e1d9827f-7c62-4127-8178-93ef618d451a",
   "metadata": {},
   "outputs": [
    {
     "data": {
      "text/plain": [
       "0.093112"
      ]
     },
     "execution_count": 155,
     "metadata": {},
     "output_type": "execute_result"
    }
   ],
   "source": [
    "n = 1000000\n",
    "np.random.seed(10)\n",
    "d1 = np.random.randint(1,7,n)\n",
    "d2 = np.random.randint(1,7,n)\n",
    "d3 = np.random.randint(1,7,n)\n",
    "\n",
    "exito = (d3 > d2) & (d2 > d1)\n",
    "exito.sum()/n"
   ]
  },
  {
   "cell_type": "code",
   "execution_count": null,
   "id": "5fe380c2-6394-410c-be3f-9f01682e630a",
   "metadata": {},
   "outputs": [],
   "source": []
  }
 ],
 "metadata": {
  "kernelspec": {
   "display_name": "Python 3 (ipykernel)",
   "language": "python",
   "name": "python3"
  },
  "language_info": {
   "codemirror_mode": {
    "name": "ipython",
    "version": 3
   },
   "file_extension": ".py",
   "mimetype": "text/x-python",
   "name": "python",
   "nbconvert_exporter": "python",
   "pygments_lexer": "ipython3",
   "version": "3.12.4"
  }
 },
 "nbformat": 4,
 "nbformat_minor": 5
}
