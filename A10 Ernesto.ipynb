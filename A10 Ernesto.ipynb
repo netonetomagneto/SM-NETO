{
 "cells": [
  {
   "cell_type": "markdown",
   "id": "8842f5fa-6c20-4f2f-a9fd-25af8c9fe26d",
   "metadata": {},
   "source": [
    "# A10, HUGO ERNESTO CARDENAS ALCARAZ, "
   ]
  },
  {
   "cell_type": "markdown",
   "id": "e21f3c98-0ef3-409b-9e82-b7de4aa29784",
   "metadata": {},
   "source": [
    "1. Menciona tres ejemplos de variables aleatorias discretas:"
   ]
  },
  {
   "cell_type": "markdown",
   "id": "f2e4b634-e44f-43c4-91cd-f52449329d8e",
   "metadata": {},
   "source": [
    "* Al sacar una carta se conoce que el resultado es $ p \\in \\{0, 1, 2, 3,..., 52\\} $ \n",
    "* Cantidad de accidentes fatales de los 200 accidentes generales anuales en Lopez Mateos.$ p \\in \\{0, 1, 2, 3,..., 200\\} $\n",
    "* Ruleta en el casino con $ p \\in \\{0, 1, 2, 3,..., 50\\} $"
   ]
  },
  {
   "cell_type": "markdown",
   "id": "3369d9ea-4855-4641-b9ed-34178ba88930",
   "metadata": {},
   "source": [
    "2. Menciona tres ejemplos de variables aleatorias continuas:"
   ]
  },
  {
   "cell_type": "markdown",
   "id": "23fc2fbb-5da0-4d2f-a957-2e9754bdbb2d",
   "metadata": {},
   "source": [
    "* Longevidad de una persona.\n",
    "* Martillazos dados por un martillo.\n",
    "* Peso de un persona."
   ]
  },
  {
   "cell_type": "markdown",
   "id": "d0be0000-d014-4593-8d3a-b9e32bc0b310",
   "metadata": {},
   "source": [
    "3. Dos equipos juegan una serie de juegos (4 de 7, el que gane 4 juegos gana). Cada equipo tiene un 50% de probabilidad de ganar cada juego (no empates). ¿Cuál es la probabilidad de que la serie se vaya a 7 juegos? (5/16)"
   ]
  },
  {
   "cell_type": "code",
   "execution_count": 212,
   "id": "d8f93771-a130-4044-92ab-64196f3e51bd",
   "metadata": {},
   "outputs": [
    {
     "data": {
      "text/plain": [
       "7"
      ]
     },
     "execution_count": 212,
     "metadata": {},
     "output_type": "execute_result"
    }
   ],
   "source": [
    "import numpy as np\n",
    "import math as math\n",
    "\"\"\"n = 6\n",
    "k= 3\n",
    "N = n-k\n",
    "p = (0.5)**6\n",
    "nk = (math.factorial(n))/(math.factorial(k)*math.factorial(N))\n",
    "R = nk*p\"\"\"\n",
    "\n",
    "\n",
    "\n",
    "n = 10000\n",
    "def game():\n",
    "    juegos = 0\n",
    "    pos = 0\n",
    "    pos2 = 0\n",
    "    while pos < 4 and pos2 < 4:\n",
    "        x = np.random.choice([1,-1])\n",
    "        if x == 1:\n",
    "            pos +=  1\n",
    "        else:\n",
    "            pos2 += 1 \n",
    "        juegos += 1\n",
    "    return juegos\n",
    "    \n",
    "game()\n"
   ]
  },
  {
   "cell_type": "code",
   "execution_count": 214,
   "id": "b34f4aad-3bb9-4299-b280-38fa70ce76bb",
   "metadata": {},
   "outputs": [
    {
     "data": {
      "text/plain": [
       "0.31566843315668436"
      ]
     },
     "execution_count": 214,
     "metadata": {},
     "output_type": "execute_result"
    }
   ],
   "source": [
    "def juegos_tot(n):\n",
    "    tot = []\n",
    "    for i in range(n+1):\n",
    "        exitos = game()\n",
    "        tot.append(exitos)\n",
    "    return tot\n",
    "\n",
    "totales = juegos_tot(n)\n",
    "(np.array(totales) == 7).mean()\n"
   ]
  },
  {
   "cell_type": "markdown",
   "id": "6a1e5262-f65e-4a10-9bef-baaa773e5d81",
   "metadata": {},
   "source": [
    "4. Una en mil personas tienen una enfermedad H, y la prueba de la enfermedad sale correcta 98% de las veces cuando la persona está enferma. Por otro lado, si la persona está enferma la prueba tiene un error del 1%. Si alguien se hace una prueba y sale positiva, ¿cuál es la probabilidad de que tengan la enfermedad? (98/1097)"
   ]
  },
  {
   "cell_type": "code",
   "execution_count": 119,
   "id": "cdeb3c55-68bc-4e1b-a8b5-58e846859e26",
   "metadata": {},
   "outputs": [
    {
     "data": {
      "text/plain": [
       "0.08716026241799438"
      ]
     },
     "execution_count": 119,
     "metadata": {},
     "output_type": "execute_result"
    }
   ],
   "source": [
    "import numpy as np\n",
    "p = 0.01\n",
    "x = np.random.rand(1,101)\n",
    "\n",
    "\n",
    "n = 100000\n",
    "personas = np.random.choice([0,1],n,p = [0.999,0.001])\n",
    "ti_di = np.random.choice([0,1],personas.sum(),p = [0.02,0.98])\n",
    "ti_d0 = np.random.choice([0,1],n - personas.sum(),p = [0.99,0.01])\n",
    "ti_di.sum()/(ti_di.sum() + ti_d0.sum())"
   ]
  },
  {
   "cell_type": "markdown",
   "id": "c8938e08-403e-47e0-899c-026f643aed5c",
   "metadata": {},
   "source": [
    "5. Tres amigos diferentes te dijeron que está lloviendo, y cada persona tiene 1/3 de probabilidad de mentir. Si el pronóstico del clima dijo que la probabilidad de lluvia era 25%, ¿cuál es la probabilidad de que sí esté lloviendo? (8/11)"
   ]
  },
  {
   "cell_type": "code",
   "execution_count": 51,
   "id": "98b90c27-635a-4534-91b7-867bbaa53596",
   "metadata": {},
   "outputs": [
    {
     "data": {
      "text/plain": [
       "0.563935"
      ]
     },
     "execution_count": 51,
     "metadata": {},
     "output_type": "execute_result"
    }
   ],
   "source": [
    "import numpy as np\n",
    "\n",
    "n5 = 100000\n",
    "#0 es falso\n",
    "#1 es verdadero\n",
    "lista_de_verdades = []\n",
    "\n",
    "amigo1 = np.random.choice([0,1],n5, p =[1/3,2/3])\n",
    "amigo2 = np.random.choice([0,1],n5, p =[1/3,2/3])\n",
    "amigo3 = np.random.choice([0,1],n5, p =[1/3,2/3])\n",
    "clima = np.random.choice([0,1],n5, p =[3/4,1/4])\n",
    "lista_de_verdades.append(amigo1)\n",
    "lista_de_verdades.append(amigo2)\n",
    "lista_de_verdades.append(amigo3)\n",
    "lista_de_verdades.append(clima)\n",
    "\n",
    "(np.array(lista_de_verdades)==1).mean()"
   ]
  },
  {
   "cell_type": "markdown",
   "id": "f851e03f-c7c2-4e37-bd13-c549a4c08d94",
   "metadata": {},
   "source": [
    "6. "
   ]
  },
  {
   "cell_type": "markdown",
   "id": "53f84872-e948-4977-8839-364a27092b6e",
   "metadata": {},
   "source": [
    "1.- Avientas un dado tres veces. ¿Cuál es la probabilidad de tirar dos 6 seguidos?"
   ]
  },
  {
   "cell_type": "code",
   "execution_count": 185,
   "id": "14b7027d-4edc-4047-a6e6-62700fe0e466",
   "metadata": {},
   "outputs": [
    {
     "data": {
      "text/plain": [
       "0.05"
      ]
     },
     "execution_count": 185,
     "metadata": {},
     "output_type": "execute_result"
    }
   ],
   "source": [
    "n = 100\n",
    "np.random.seed(0)\n",
    "d1 = np.random.randint(1,7,n)\n",
    "d2 = np.random.randint(1,7,n)\n",
    "d3 = np.random.randint(1,7,n)\n",
    "np.vstack((d1,d2,d3))\n",
    "\n",
    "caso1 = ((d1 == 6) & (d2 == 6) & (d3 != 6)) \n",
    "caso2 = ((d2 == 6) & (d3 == 6)& (d1 != 6))\n",
    "caso3 = ((d1 == 6) & (d2 == 6) & (d3 == 6)) \n",
    "\n",
    "(caso1.sum() + caso2.sum() + caso3.sum())/n"
   ]
  },
  {
   "cell_type": "markdown",
   "id": "1b9b3db0-5054-4dd4-9cbb-92a8fbfea3e7",
   "metadata": {},
   "source": [
    "2.- Avientas tres dados, uno tras otro. ¿Cuál es la probabilidad de obtener número sólo en orden ascendente?"
   ]
  },
  {
   "cell_type": "code",
   "execution_count": 155,
   "id": "e1d9827f-7c62-4127-8178-93ef618d451a",
   "metadata": {},
   "outputs": [
    {
     "data": {
      "text/plain": [
       "0.093112"
      ]
     },
     "execution_count": 155,
     "metadata": {},
     "output_type": "execute_result"
    }
   ],
   "source": [
    "n = 1000000\n",
    "np.random.seed(10)\n",
    "d1 = np.random.randint(1,7,n)\n",
    "d2 = np.random.randint(1,7,n)\n",
    "d3 = np.random.randint(1,7,n)\n",
    "\n",
    "exito = (d3 > d2) & (d2 > d1)\n",
    "exito.sum()/n"
   ]
  },
  {
   "cell_type": "markdown",
   "id": "ccb4a60d-133e-4718-8504-d11baa3bfe9e",
   "metadata": {},
   "source": [
    "4.- Tienes dos monedas: una con águila y sello, y la otra con doble sello. Escoges una al azar y la tiras 5 veces; cae sello 5 veces. ¿Cuál es la probabilidad de que tomaste la moneda con doble sello?"
   ]
  },
  {
   "cell_type": "code",
   "execution_count": 163,
   "id": "7eb84ecc-8845-4b84-a071-cec012e4b190",
   "metadata": {},
   "outputs": [
    {
     "data": {
      "text/plain": [
       "0.7489"
      ]
     },
     "execution_count": 163,
     "metadata": {},
     "output_type": "execute_result"
    }
   ],
   "source": [
    "import numpy as np\n",
    "n4 = 1000\n",
    "\n",
    "tiros = []\n",
    "moneda1 = np.random.choice([-1,1], 5)\n",
    "moneda2 = np.random.choice([1,1])\n",
    "moneda_tomada = np.random.choice([\"moneda1\",\"moneda2\"])\n",
    "for i in range(n4):\n",
    "    moneda1 = np.random.choice([-1,1],5)\n",
    "    tiros.append(moneda1)\n",
    "\n",
    "np.array(tiros)==[1,1,1,1,1]\n",
    "proba_justa = (np.array(tiros)==[1,1,1,1,1]).mean()\n",
    "#probabilidad de que moneda1 salga con puro sello  = 0.03125\n",
    "#probabilidad de que moneda2 salga con puro sello = 1\n",
    "# moneda justa\n",
    "justa = proba_justa*0.5\n",
    "justa\n",
    "injusta = 1-justa\n",
    "injusta"
   ]
  },
  {
   "cell_type": "code",
   "execution_count": null,
   "id": "ac7593bb-8b1b-43d5-985d-58cf7a67011e",
   "metadata": {},
   "outputs": [],
   "source": []
  },
  {
   "cell_type": "markdown",
   "id": "a6c1de6e-39c8-4dc9-9324-f52b71e47068",
   "metadata": {},
   "source": [
    "5.- Dos personas juegan tenis y están empatadas en 40-40. Esto significa que el set continúa hasta que alguien haya anotado 2 puntos sobre el otro:\n",
    "- Si un jugador anota la puntuación es A-40\n",
    "- Si el segundo jugador anota la puntuación regresa a 40-40\n",
    "\n",
    "El jugador 1 tiene una probabilidad de 60\\% de ganar cada punto, mientras que la probabilidad del segundo jugador es de 40\\%. ¿Cuál es la probabilidad de que el primer jugador gane el set?"
   ]
  },
  {
   "cell_type": "code",
   "execution_count": 295,
   "id": "a7394aae-dbd0-475f-9aff-2b68f947b960",
   "metadata": {},
   "outputs": [
    {
     "data": {
      "text/plain": [
       "0.673"
      ]
     },
     "execution_count": 295,
     "metadata": {},
     "output_type": "execute_result"
    }
   ],
   "source": [
    "\n",
    "def juego_empates():\n",
    "    puntuacion1 = 0\n",
    "    puntuacion2 = 0\n",
    "    while puntuacion1 != puntuacion2 + 2 and puntuacion2 !=puntuacion1 +2:\n",
    "        gane1 = np.random.choice([0,1],p = [0.4,0.6])\n",
    "        if gane1 == 1:\n",
    "            puntuacion1 += 1\n",
    "        else:\n",
    "            puntuacion2 += 1\n",
    "    if puntuacion1 == puntuacion2 +2:\n",
    "        return \"1\"\n",
    "    if puntuacion2 == puntuacion1 +2:\n",
    "        return \"0\"\n",
    "\n",
    "def juegos_empates(n5):\n",
    "    ganadores = []\n",
    "    for i in range(n5):\n",
    "        ganador = juego_empates()\n",
    "        ganadores.append(ganador)\n",
    "    mean = (np.array(ganadores)== \"1\").mean()\n",
    "    return mean\n",
    "    \n",
    "juegos_empates(1000)"
   ]
  },
  {
   "cell_type": "code",
   "execution_count": null,
   "id": "2a3aeca5-03cd-4417-8281-f25c93658249",
   "metadata": {},
   "outputs": [],
   "source": []
  },
  {
   "cell_type": "markdown",
   "id": "324f9958-ccaf-4582-89b1-0c0aa9a33991",
   "metadata": {},
   "source": [
    "2.  Hay un elevador pequeño en una plaza donde se espera que entren máximo 4 personas a la vez, y su capacidad de peso para poder operar es de 300 kg. En el último censo se encontró que habían 378350 personas en la zona:\r\n",
    "\r\n",
    "185392 mujer\n",
    "\n",
    "es\r\n",
    "162690 homb\n",
    "\n",
    "  res\r\n",
    "30268 personas que o prefirieron no dar la información o se identificaron como no bina\n",
    "\n",
    "\n",
    "rias\r\n",
    "El peso promedio medido en mujeres es de 70 kg con una desviación estándar de 11 kg. En los hombres se midió un peso promedio de 80 kg y una desviación estándar de 16 kg. En el tercer grupo se midió un peso promedio de 73 kg con una desviación estándar de 12 kg.\r\n",
    "\r\n",
    "a) Si el elevador se llenara 10,000 veces, ¿cuántas de esas veces se excedería el peso permitido?\r\n",
    "\r\n",
    "b) ¿Qué peso total tendría que soportar el elevador si se quiere que el 95% de las veces que se llene no se exceda el peso permitido?"
   ]
  },
  {
   "cell_type": "code",
   "execution_count": null,
   "id": "47ed92c1-8bb3-4e21-8eb9-b6b55acdb1e4",
   "metadata": {},
   "outputs": [],
   "source": []
  },
  {
   "cell_type": "code",
   "execution_count": null,
   "id": "cf565767-cd55-471d-b756-a7447c91c144",
   "metadata": {},
   "outputs": [],
   "source": []
  },
  {
   "cell_type": "markdown",
   "id": "8494cb41-c2a5-47f4-8bcb-93e1e3ed41a2",
   "metadata": {},
   "source": [
    "3.- Tienes diez dados justos. Si arrojas todos al mismo tiempo, ¿cuál es la probabilidad de que la suma de los dados sea múltiplo de 6?"
   ]
  },
  {
   "cell_type": "code",
   "execution_count": 303,
   "id": "65fee811-9fb6-443f-8c7a-452c1763f806",
   "metadata": {},
   "outputs": [
    {
     "data": {
      "text/plain": [
       "0.2"
      ]
     },
     "execution_count": 303,
     "metadata": {},
     "output_type": "execute_result"
    }
   ],
   "source": [
    "n = 100\n",
    "np.random.seed(0)\n",
    "d1 = np.random.randint(1,7,n)\n",
    "d2 = np.random.randint(1,7,n)\n",
    "d3 = np.random.randint(1,7,n)\n",
    "d4 = np.random.randint(1,7,n)\n",
    "d5 = np.random.randint(1,7,n)\n",
    "d6 = np.random.randint(1,7,n)\n",
    "d7 = np.random.randint(1,7,n)\n",
    "d8 = np.random.randint(1,7,n)\n",
    "d9 = np.random.randint(1,7,n)\n",
    "d10 =np.random.randint(1,7,n)\n",
    "\n",
    "suma = d1+d2+d3+d4+d5+d6+d7+d8+d9+d10\n",
    "exito = suma%6 == 0\n",
    "\n",
    "exito.mean()"
   ]
  },
  {
   "cell_type": "code",
   "execution_count": null,
   "id": "874f8779-91e5-4652-bc30-47eee82dc848",
   "metadata": {},
   "outputs": [],
   "source": []
  },
  {
   "cell_type": "markdown",
   "id": "73c6b258-e2ac-40e0-9f7e-d33a5e85187e",
   "metadata": {},
   "source": [
    "4.- A y B juegan al siguiente juego: un número k del 1 al 6 es elegido, y A y B avientan el dado por turnos hasta que alguien consiga que el dado caiga en k. El ganador recibe $100.\r\n",
    "\r\n",
    "a) ¿Cuál es la probabilidad de que el primer jugador gane?\r\n",
    "\r\n",
    "b) ¿Cuál es la probabilidad de que el segundo jugador gane?\r\n",
    "\r\n",
    "c) ¿Cuánto vale la pena pagar para ir primero?"
   ]
  },
  {
   "cell_type": "code",
   "execution_count": null,
   "id": "8b5fec5c-d023-4220-a598-96c8ca0d1538",
   "metadata": {},
   "outputs": [],
   "source": []
  }
 ],
 "metadata": {
  "kernelspec": {
   "display_name": "Python 3 (ipykernel)",
   "language": "python",
   "name": "python3"
  },
  "language_info": {
   "codemirror_mode": {
    "name": "ipython",
    "version": 3
   },
   "file_extension": ".py",
   "mimetype": "text/x-python",
   "name": "python",
   "nbconvert_exporter": "python",
   "pygments_lexer": "ipython3",
   "version": "3.12.4"
  }
 },
 "nbformat": 4,
 "nbformat_minor": 5
}
