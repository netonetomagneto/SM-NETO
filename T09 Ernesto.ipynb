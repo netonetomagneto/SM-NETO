{
 "cells": [
  {
   "cell_type": "markdown",
   "id": "aeba65d4-3db2-4c20-87e6-773f3e4a958c",
   "metadata": {},
   "source": [
    "HUGO ERNESTO CARDENAS ALCARAZ"
   ]
  },
  {
   "cell_type": "markdown",
   "id": "ccb21282-3c8a-42d8-abba-66e0ecc29b3f",
   "metadata": {},
   "source": [
    "# T09 La aguja de Buffon"
   ]
  },
  {
   "cell_type": "markdown",
   "id": "99de225f-3896-4cc0-8286-9b826f51991b",
   "metadata": {},
   "source": [
    "El experimento de la aguja ade Buffon consiste en dejar caer un palillo muchísimas veces sobre una hoja rayada con lineas paralelas y contar las veces que el palillo ha cruzado alguna de las líneas. Posteriormente, se multiplica por 2 la cantidad de tiros y ese producto se divide entre la cantidad de cruces. Dando así una aproximación del valor de $\\pi$. Cabe recalcar que el palillo debe ser menor o igual a la separación de las líneas paralelas"
   ]
  },
  {
   "cell_type": "markdown",
   "id": "64463a90-0ad6-4b86-8ac9-50c8635e8896",
   "metadata": {},
   "source": [
    "#### CÁLCULO"
   ]
  },
  {
   "cell_type": "markdown",
   "id": "bc950ee7-a42f-4f11-b778-c24c47798d6f",
   "metadata": {},
   "source": [
    "Para poder establer la integral, debemos determinar que nos basaremos en el centro del palillo y en el ángulo qe toma el mismo. Esto nos ayudaría a determinar su posición entre las líneas, además de su ángulo de inclinación y su longitud para determinar si es que toca alguna de las líneas separadas con una distancia igual o mayor a la longitud del palillo."
   ]
  },
  {
   "cell_type": "markdown",
   "id": "2299bc9e-636d-4035-9af8-5362d0b14730",
   "metadata": {},
   "source": [
    "DATOS:\n",
    "* a = distancia del centro del palillo a una línea\n",
    "* l = longitud del palillo\n",
    "* d = distancia entre líneas (en este caso l y d son iguales)\n",
    "* $\\theta$ = ángulo del palillo\n",
    "\n",
    "\n",
    "1. El centro del palillo puede tomar una posición entre 0 y d/2, debido a que si sobrepasa esa distancia, ya estaría cruzando una línea.\n",
    "\n",
    "2. El ángulo del palillo puede tomar una posición entre 0 y $\\pi$, debido a que es el rango entre estar vertical u horizontal hacia la izquierda o derecha (primer y segundo plano).\n",
    "\n",
    "La única forma de que se pueda juntar el palillo es con $f(\\theta) = \\frac {1}{2}\\ l sin(\\theta)$, en concordancia con la Fig. 2."
   ]
  },
  {
   "attachments": {
    "7a4f4527-6e99-46a7-b038-976d7f024643.png": {
     "image/png": "[encoded data removed]"
    }
   },
   "cell_type": "markdown",
   "id": "3161eea6-b254-46b7-9f22-3188c2c63b97",
   "metadata": {},
   "source": [
    "![image.png](attachment:7a4f4527-6e99-46a7-b038-976d7f024643.png)"
   ]
  },
  {
   "cell_type": "markdown",
   "id": "4113aca9-de58-4487-8fc7-74f368d9aa62",
   "metadata": {},
   "source": [
    "Una vez obtenido el criterio podemos realizar la integral de su criterio en el parámetro posible de $\\theta$ y de l, para determinar que espacio abarca del total.\n",
    "\n",
    "$\\int f(\\theta) d\\theta = \\int_{0}^{\\pi/2} \\frac{1}{2} l sin(\\theta) d\\theta = \\frac{1}{2}l + \\frac{1}{2}l = l$\n",
    "\n",
    "Con los casos bajo la curva de la función que delimita la función de $\\theta$,podemos obtener su probabilidad total al ver su porcetaje total del área que lo contiene (límites de integración).\n",
    "\n",
    "$P = 1 = \\frac{l}{\\frac{\\pi}{2}} = \\frac{2l}{\\pi d} $\n",
    "\n",
    "Esta probabilidad es igual/aproximada a la cantidad de cruces entre la cantidad de tiros totales.\n",
    "\n",
    "$ \\frac {cruces}{n}  = \\frac{2l}{\\pi d} $\n",
    "\n",
    "$ \\pi  = \\frac{2ln}{ d cruces} $\n",
    "\n",
    "En dicho caso actual, nuestro l y d son los mismos por que obtenemos.\n",
    "\n",
    "$ \\pi  = \\frac{2n}{ cruces} $\n"
   ]
  },
  {
   "cell_type": "markdown",
   "id": "e8dca164-f776-497a-af27-effa1760b075",
   "metadata": {},
   "source": [
    "#### PALABRAS"
   ]
  },
  {
   "cell_type": "markdown",
   "id": "b150e6b6-851a-4494-b4d1-4c19516dff7d",
   "metadata": {},
   "source": [
    "Para poder comprenderlo, lo entendí como el área ocupada por la restricción del área total que está delimitada por los extremos de los dos parámetros de la función de la restricción. \n",
    "\n",
    "Esto quiere decir que la función de $\\theta$ ocupa cierta curva en el espacio de longitud con respecto al ángulo. \n",
    "\n",
    "Esto nos da la proporción de dods veces la cantidad de tiros entre los cruces."
   ]
  },
  {
   "cell_type": "code",
   "execution_count": 283,
   "id": "25eeb417-9223-4d22-8a78-7cb0f9ecca9e",
   "metadata": {},
   "outputs": [
    {
     "data": {
      "text/plain": [
       "3.1413941507240914"
      ]
     },
     "execution_count": 283,
     "metadata": {},
     "output_type": "execute_result"
    }
   ],
   "source": [
    "import numpy as np\n",
    "\n",
    "def Buffon(n,L):\n",
    "    a = 0\n",
    "    CRUCES = 0\n",
    "    TIRADAS = 0 \n",
    "    for i in range(n):\n",
    "        a = np.random.rand()*(L/2)\n",
    "        theta = np.random.rand()*(np.pi)\n",
    "        if a <= 0.5*L*np.sin(theta):\n",
    "            CRUCES += 1\n",
    "    return (2*n)/CRUCES\n",
    "\n",
    "Buffon(1000000,6)\n"
   ]
  },
  {
   "cell_type": "markdown",
   "id": "2e1b176a-7676-4e88-99dd-a0897a201469",
   "metadata": {},
   "source": [
    "1. Las variables aleatorias de dicho caso son:\n",
    "   * Longitud de palillo\n",
    "   * $\\theta$\n",
    "2. Siguen una distribución uniforme en el plano de probabilidad\n",
    "3. Se vuelve cada vez mas preciso, ya que hay más repeticiones del caso y al manipular mayores números, se trndrán mayores decimales."
   ]
  },
  {
   "cell_type": "code",
   "execution_count": null,
   "id": "e2944aee-a4b4-4051-afda-22350e163c45",
   "metadata": {},
   "outputs": [],
   "source": [
    "\n",
    "\n"
   ]
  },
  {
   "cell_type": "code",
   "execution_count": null,
   "id": "99d30b9d-cdc3-45d8-b1a3-3b096561dc7a",
   "metadata": {},
   "outputs": [],
   "source": []
  }
 ],
 "metadata": {
  "kernelspec": {
   "display_name": "Python 3 (ipykernel)",
   "language": "python",
   "name": "python3"
  },
  "language_info": {
   "codemirror_mode": {
    "name": "ipython",
    "version": 3
   },
   "file_extension": ".py",
   "mimetype": "text/x-python",
   "name": "python",
   "nbconvert_exporter": "python",
   "pygments_lexer": "ipython3",
   "version": "3.12.4"
  }
 },
 "nbformat": 4,
 "nbformat_minor": 5
}
