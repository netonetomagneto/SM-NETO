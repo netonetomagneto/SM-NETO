{
 "cells": [
  {
   "cell_type": "markdown",
   "id": "326ab8bb-45ab-49fd-8486-0d8d916ecd14",
   "metadata": {},
   "source": [
    "HUGO ERNESTO CARDENAS ALCARAZ, 7447893, 7-11-2024"
   ]
  },
  {
   "cell_type": "code",
   "execution_count": 4,
   "id": "9bfcefde-c9a8-4184-b5ed-d01550c59283",
   "metadata": {},
   "outputs": [
    {
     "data": {
      "text/html": [
       "<div>\n",
       "<style scoped>\n",
       "    .dataframe tbody tr th:only-of-type {\n",
       "        vertical-align: middle;\n",
       "    }\n",
       "\n",
       "    .dataframe tbody tr th {\n",
       "        vertical-align: top;\n",
       "    }\n",
       "\n",
       "    .dataframe thead th {\n",
       "        text-align: right;\n",
       "    }\n",
       "</style>\n",
       "<table border=\"1\" class=\"dataframe\">\n",
       "  <thead>\n",
       "    <tr style=\"text-align: right;\">\n",
       "      <th></th>\n",
       "      <th>Tijuana</th>\n",
       "      <th>Mérida</th>\n",
       "      <th>GDL</th>\n",
       "      <th>México</th>\n",
       "      <th>León</th>\n",
       "      <th>Monterrey</th>\n",
       "      <th>Tapachula</th>\n",
       "      <th>Chihuahua</th>\n",
       "    </tr>\n",
       "    <tr>\n",
       "      <th>Unnamed: 0</th>\n",
       "      <th></th>\n",
       "      <th></th>\n",
       "      <th></th>\n",
       "      <th></th>\n",
       "      <th></th>\n",
       "      <th></th>\n",
       "      <th></th>\n",
       "      <th></th>\n",
       "    </tr>\n",
       "  </thead>\n",
       "  <tbody>\n",
       "    <tr>\n",
       "      <th>Tijuana</th>\n",
       "      <td>0</td>\n",
       "      <td>4180</td>\n",
       "      <td>2306</td>\n",
       "      <td>2848</td>\n",
       "      <td>2529</td>\n",
       "      <td>2409</td>\n",
       "      <td>4005</td>\n",
       "      <td>1583</td>\n",
       "    </tr>\n",
       "    <tr>\n",
       "      <th>Mérida</th>\n",
       "      <td>4180</td>\n",
       "      <td>0</td>\n",
       "      <td>1874</td>\n",
       "      <td>1332</td>\n",
       "      <td>1719</td>\n",
       "      <td>2046</td>\n",
       "      <td>1062</td>\n",
       "      <td>2819</td>\n",
       "    </tr>\n",
       "    <tr>\n",
       "      <th>GDL</th>\n",
       "      <td>2306</td>\n",
       "      <td>1874</td>\n",
       "      <td>0</td>\n",
       "      <td>542</td>\n",
       "      <td>223</td>\n",
       "      <td>789</td>\n",
       "      <td>1699</td>\n",
       "      <td>1202</td>\n",
       "    </tr>\n",
       "    <tr>\n",
       "      <th>México</th>\n",
       "      <td>2848</td>\n",
       "      <td>1332</td>\n",
       "      <td>542</td>\n",
       "      <td>0</td>\n",
       "      <td>389</td>\n",
       "      <td>933</td>\n",
       "      <td>1157</td>\n",
       "      <td>1487</td>\n",
       "    </tr>\n",
       "    <tr>\n",
       "      <th>León</th>\n",
       "      <td>2529</td>\n",
       "      <td>1719</td>\n",
       "      <td>223</td>\n",
       "      <td>389</td>\n",
       "      <td>0</td>\n",
       "      <td>711</td>\n",
       "      <td>1544</td>\n",
       "      <td>1140</td>\n",
       "    </tr>\n",
       "    <tr>\n",
       "      <th>Monterrey</th>\n",
       "      <td>2409</td>\n",
       "      <td>2046</td>\n",
       "      <td>789</td>\n",
       "      <td>933</td>\n",
       "      <td>711</td>\n",
       "      <td>0</td>\n",
       "      <td>1803</td>\n",
       "      <td>826</td>\n",
       "    </tr>\n",
       "    <tr>\n",
       "      <th>Tapachula</th>\n",
       "      <td>4005</td>\n",
       "      <td>1062</td>\n",
       "      <td>1699</td>\n",
       "      <td>1157</td>\n",
       "      <td>1544</td>\n",
       "      <td>1803</td>\n",
       "      <td>0</td>\n",
       "      <td>2644</td>\n",
       "    </tr>\n",
       "    <tr>\n",
       "      <th>Chihuahua</th>\n",
       "      <td>1583</td>\n",
       "      <td>2819</td>\n",
       "      <td>1202</td>\n",
       "      <td>1487</td>\n",
       "      <td>1140</td>\n",
       "      <td>826</td>\n",
       "      <td>2644</td>\n",
       "      <td>0</td>\n",
       "    </tr>\n",
       "  </tbody>\n",
       "</table>\n",
       "</div>"
      ],
      "text/plain": [
       "            Tijuana  Mérida   GDL  México  León  Monterrey  Tapachula  \\\n",
       "Unnamed: 0                                                              \n",
       "Tijuana           0    4180  2306    2848  2529       2409       4005   \n",
       "Mérida         4180       0  1874    1332  1719       2046       1062   \n",
       "GDL            2306    1874     0     542   223        789       1699   \n",
       "México         2848    1332   542       0   389        933       1157   \n",
       "León           2529    1719   223     389     0        711       1544   \n",
       "Monterrey      2409    2046   789     933   711          0       1803   \n",
       "Tapachula      4005    1062  1699    1157  1544       1803          0   \n",
       "Chihuahua      1583    2819  1202    1487  1140        826       2644   \n",
       "\n",
       "            Chihuahua  \n",
       "Unnamed: 0             \n",
       "Tijuana          1583  \n",
       "Mérida           2819  \n",
       "GDL              1202  \n",
       "México           1487  \n",
       "León             1140  \n",
       "Monterrey         826  \n",
       "Tapachula        2644  \n",
       "Chihuahua           0  "
      ]
     },
     "execution_count": 4,
     "metadata": {},
     "output_type": "execute_result"
    }
   ],
   "source": [
    "import pandas as pd\n",
    "import numpy as np\n",
    "import matplotlib.pyplot as plt\n",
    "tab = pd.read_excel(\"datosCT.xlsx\", sheet_name=\"8c\").set_index(\"Unnamed: 0\")\n",
    "tab"
   ]
  },
  {
   "cell_type": "code",
   "execution_count": 154,
   "id": "5ce4d9c6-73a8-4349-b27c-14136980f60d",
   "metadata": {},
   "outputs": [],
   "source": [
    "def random_city():\n",
    "    return np.random.choice([\"Tijuana\",\"Mérida\",\"GDL\",\"México\",\"León\",\"Monterrey\",\"Tapachula\",\"Chihuahua\"],8,replace = False)\n",
    "def distancia(a,b, tabla):    \n",
    "    return tabla.loc[a,b]\n",
    "def calc_dist(lista,tabla):\n",
    "    d1 = distancia(lista[0],lista[1], tabla)\n",
    "    d2 = distancia(lista[1],lista[2], tabla)\n",
    "    d3 = distancia(lista[2],lista[3], tabla)\n",
    "    d4 = distancia(lista[3],lista[4], tabla)\n",
    "    d5 = distancia(lista[4],lista[5], tabla)\n",
    "    d6 = distancia(lista[5],lista[6], tabla)\n",
    "    d7 = distancia(lista[6],lista[7], tabla)\n",
    "    d8 = distancia(lista[-1],lista[0], tabla)\n",
    "    suma = d1 + d2 + d3 + d4 + d5 + d6 +d7 + d8\n",
    "    return suma\n",
    "def valor_p(d1,d2,T):\n",
    "    return np.exp((d1-d2)/T)\n"
   ]
  },
  {
   "cell_type": "code",
   "execution_count": 223,
   "id": "65506656-ac49-4201-a87a-f89b7cd56f01",
   "metadata": {},
   "outputs": [
    {
     "data": {
      "text/plain": [
       "array(['Monterrey', 'Tijuana', 'GDL', 'México', 'Mérida', 'Tapachula',\n",
       "       'Chihuahua', 'León'], dtype='<U9')"
      ]
     },
     "execution_count": 223,
     "metadata": {},
     "output_type": "execute_result"
    }
   ],
   "source": [
    "T = 1000\n",
    "R1 = random_city()\n",
    "R1"
   ]
  },
  {
   "cell_type": "code",
   "execution_count": 225,
   "id": "7aad2e84-27da-4c37-97b9-79969f6d587f",
   "metadata": {},
   "outputs": [
    {
     "data": {
      "text/plain": [
       "array(['Monterrey', 'Tijuana', 'GDL', 'México', 'Mérida', 'Tapachula',\n",
       "       'Chihuahua', 'León'], dtype='<U9')"
      ]
     },
     "execution_count": 225,
     "metadata": {},
     "output_type": "execute_result"
    }
   ],
   "source": [
    "def paso1(LISTA):\n",
    "    R1 = LISTA\n",
    "    R2 = R1.copy()\n",
    "    a,b = np.random.choice([0,1,2,3,4,5,6,7],2,replace = False)\n",
    "    cambio1 = R1[a]\n",
    "    cambio2 = R1[b]\n",
    "    R2[a] = cambio2\n",
    "    R2[b] = cambio1\n",
    "    distanciaR1 = calc_dist(R1,tab)\n",
    "    distanciaR2 = calc_dist(R2,tab)\n",
    "    p = np.random.rand()\n",
    "    q = valor_p(distanciaR1,distanciaR2,T)\n",
    "    if p < q : \n",
    "        R1 = R2.copy()\n",
    "    return R1\n",
    "PASO1 = paso1(R1)\n",
    "R1"
   ]
  },
  {
   "cell_type": "code",
   "execution_count": 227,
   "id": "aa9e7e79-1c21-4d85-b1bf-8614e332691b",
   "metadata": {},
   "outputs": [
    {
     "data": {
      "text/plain": [
       "array(['GDL', 'Tijuana', 'Monterrey', 'México', 'Mérida', 'Tapachula',\n",
       "       'Chihuahua', 'León'], dtype='<U9')"
      ]
     },
     "execution_count": 227,
     "metadata": {},
     "output_type": "execute_result"
    }
   ],
   "source": [
    "def paso2(R1,N):\n",
    "    \n",
    "    for i in range(N):\n",
    "        R1 = paso1(R1)\n",
    "    return R1\n",
    "paso2(R1,1)"
   ]
  },
  {
   "cell_type": "code",
   "execution_count": 249,
   "id": "8c8f6d6a-d60d-46d8-a577-99b9c1d54ff1",
   "metadata": {},
   "outputs": [
    {
     "data": {
      "text/plain": [
       "array(['México', 'Chihuahua', 'León', 'Tapachula', 'Mérida', 'GDL',\n",
       "       'Monterrey', 'Tijuana'], dtype='<U9')"
      ]
     },
     "execution_count": 249,
     "metadata": {},
     "output_type": "execute_result"
    }
   ],
   "source": [
    "def paso3(T,N):\n",
    "    R1 = random_city()\n",
    "    while T > 1:\n",
    "        for i in range(N):\n",
    "            R1 = paso2(R1,N)\n",
    "            T = T*0.9\n",
    "    return R1\n",
    "            \n",
    "paso3(1000,30)"
   ]
  },
  {
   "cell_type": "code",
   "execution_count": 255,
   "id": "f0cad57c-ec04-421f-bfc6-c6433991691b",
   "metadata": {},
   "outputs": [
    {
     "data": {
      "text/plain": [
       "([array(['México', 'Mérida', 'León', 'Tapachula', 'GDL', 'Tijuana',\n",
       "         'Chihuahua', 'Monterrey'], dtype='<U9'),\n",
       "  array(['Monterrey', 'León', 'GDL', 'Tapachula', 'Mérida', 'Chihuahua',\n",
       "         'Tijuana', 'México'], dtype='<U9'),\n",
       "  array(['Mérida', 'México', 'León', 'Chihuahua', 'GDL', 'Tijuana',\n",
       "         'Monterrey', 'Tapachula'], dtype='<U9'),\n",
       "  array(['Tijuana', 'Chihuahua', 'GDL', 'León', 'México', 'Monterrey',\n",
       "         'Mérida', 'Tapachula'], dtype='<U9'),\n",
       "  array(['México', 'GDL', 'Monterrey', 'Chihuahua', 'Tijuana', 'Mérida',\n",
       "         'Tapachula', 'León'], dtype='<U9'),\n",
       "  array(['Tapachula', 'México', 'GDL', 'Tijuana', 'Monterrey', 'Chihuahua',\n",
       "         'León', 'Mérida'], dtype='<U9'),\n",
       "  array(['Tapachula', 'León', 'México', 'Mérida', 'Tijuana', 'Chihuahua',\n",
       "         'Monterrey', 'GDL'], dtype='<U9'),\n",
       "  array(['Mérida', 'Tapachula', 'GDL', 'México', 'León', 'Chihuahua',\n",
       "         'Tijuana', 'Monterrey'], dtype='<U9')],\n",
       " [11942, 11878, 11643, 11443, 10915, 11161, 12342, 10870])"
      ]
     },
     "execution_count": 255,
     "metadata": {},
     "output_type": "execute_result"
    }
   ],
   "source": [
    "def paso4(T,M,N):\n",
    "    A = []\n",
    "    B = []\n",
    "    m = 0\n",
    "    while m < M:\n",
    "        for i in range(N):\n",
    "            R1 = paso3(T,N)\n",
    "            dis = calc_dist(R1,tab)\n",
    "            m +=1\n",
    "            A.append(R1)\n",
    "            B.append(dis)\n",
    "    return A,B\n",
    "        \n",
    "        \n",
    "paso4(1000,3,8)  "
   ]
  },
  {
   "cell_type": "code",
   "execution_count": null,
   "id": "156d28ad-807a-433e-91a9-db0c87500647",
   "metadata": {},
   "outputs": [],
   "source": []
  },
  {
   "cell_type": "code",
   "execution_count": null,
   "id": "ab59b819-c2c2-40bb-9ef3-0ef8c6cfc522",
   "metadata": {},
   "outputs": [],
   "source": []
  }
 ],
 "metadata": {
  "kernelspec": {
   "display_name": "Python 3 (ipykernel)",
   "language": "python",
   "name": "python3"
  },
  "language_info": {
   "codemirror_mode": {
    "name": "ipython",
    "version": 3
   },
   "file_extension": ".py",
   "mimetype": "text/x-python",
   "name": "python",
   "nbconvert_exporter": "python",
   "pygments_lexer": "ipython3",
   "version": "3.12.4"
  }
 },
 "nbformat": 4,
 "nbformat_minor": 5
}
