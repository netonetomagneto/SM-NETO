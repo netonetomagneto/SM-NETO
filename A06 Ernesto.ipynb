{
 "cells": [
  {
   "cell_type": "markdown",
   "id": "40b3e1ea-5a29-426c-a6fd-d57139761a70",
   "metadata": {},
   "source": [
    "## HUGO ERNESTO CARDENAS ALCARAZ, 9 SEPT, A06"
   ]
  },
  {
   "cell_type": "markdown",
   "id": "e7209506-85b4-4c85-b1fa-3d14e21a1fc0",
   "metadata": {},
   "source": [
    "# Ejercicio 1.\n",
    "\n",
    "Una carpintería local fabrica sillas, mesas, libreros y bases de cama. Hay dos empleados en esta carpintería: un empleado experimentado y un aprendiz. El aprendiz tarda aproximadamente 50% más tiempo que el carpintero experimentado en construir cualquier cosa, además de que tiene un desperdicio de alrededor de 20% de material. Los materiales y tiempos necesarios para construir algo se desglozan en la siguiente tabla"
   ]
  },
  {
   "attachments": {
    "e7b720ad-375f-4182-9646-7716c57a65fe.png": {
     "image/png": "[encoded data removed]"
    }
   },
   "cell_type": "markdown",
   "id": "ec839d77-5505-42bd-8031-312ab0d9cb44",
   "metadata": {},
   "source": [
    "![image.png](attachment:e7b720ad-375f-4182-9646-7716c57a65fe.png)"
   ]
  },
  {
   "cell_type": "markdown",
   "id": "aa5b3030-a07b-4882-9346-ae8bd7da7d40",
   "metadata": {},
   "source": [
    "Las mesas se venden en 9000, las sillas en 3000, los libreros en 10000, y las bases de cama en 9000. Suponiendo una jornada de 40 horas a la semana y que tienen 100 unidades de madera, ¿qué les conviene construir durante una semana para maximizar su ganancia?\n",
    "* Cuántas horastrabaja cada trabajador?\n",
    "* Cuánto material se usa?\n",
    "* Cuál es el ingreso total si se vende todo lo fabricado?\n",
    "\n",
    "1. max ganancia en 1 semana\n",
    "\n",
    "2. variables\n",
    "   * mesas que hace el pro\n",
    "   * mesas que hace el noob\n",
    "\n",
    "3. ganancias max (en min)\n",
    "\n",
    "$$f(Xmpro,Xspro,Xlpr,Xcpro,XmN,XsN,XlN,XcN) = -9000Xmpro - 3000Xspro - 10000Xlpro - 9000Xcpro - 9000XmN - 3000XsN - 10000XlN - 9000XcN $$\n",
    "\n",
    "4. restricciones\n",
    "$$\\min_{Xmpro,Xspro,Xlpr,Xcpro,XmN,XsN,XlN,XcN} $$\n",
    "$$\\text {s.t.} $$\n",
    "$$ 3Xmpro + 1Xspro + 4Xlpro + 3Xcpro \\leq 40$$\n",
    "$$ 4.5XmN + 1.5XsN + 6XlN + 4.5XcN \\leq 40$$\n",
    "$$ 6Xmpro + 2Xspro + 5Xlpro + 5Xcpro + 7.2XmN + 2.4XsN + 6XlN + 6XcN\\leq 100$$\n"
   ]
  },
  {
   "cell_type": "code",
   "execution_count": 12,
   "id": "62daf7f1-a447-4bf2-bd51-5a8814f85ec8",
   "metadata": {},
   "outputs": [
    {
     "data": {
      "text/plain": [
       "        message: Optimization terminated successfully. (HiGHS Status 7: Optimal)\n",
       "        success: True\n",
       "         status: 0\n",
       "            fun: -176000.0\n",
       "              x: [ 0.000e+00  1.000e+00  9.000e+00  1.000e+00  0.000e+00\n",
       "                   0.000e+00  2.000e+00  6.000e+00]\n",
       "            nit: -1\n",
       "          lower:  residual: [ 0.000e+00  1.000e+00  9.000e+00  1.000e+00\n",
       "                              0.000e+00  0.000e+00  2.000e+00  6.000e+00]\n",
       "                 marginals: [ 0.000e+00  0.000e+00  0.000e+00  0.000e+00\n",
       "                              0.000e+00  0.000e+00  0.000e+00  0.000e+00]\n",
       "          upper:  residual: [       inf        inf        inf        inf\n",
       "                                    inf        inf        inf        inf]\n",
       "                 marginals: [ 0.000e+00  0.000e+00  0.000e+00  0.000e+00\n",
       "                              0.000e+00  0.000e+00  0.000e+00  0.000e+00]\n",
       "          eqlin:  residual: []\n",
       "                 marginals: []\n",
       "        ineqlin:  residual: [ 0.000e+00  1.000e+00  0.000e+00]\n",
       "                 marginals: [ 0.000e+00  0.000e+00  0.000e+00]\n",
       " mip_node_count: 1\n",
       " mip_dual_bound: -176000.0\n",
       "        mip_gap: 0.0"
      ]
     },
     "execution_count": 12,
     "metadata": {},
     "output_type": "execute_result"
    }
   ],
   "source": [
    "import numpy as np\n",
    "import scipy.optimize as opt\n",
    "c = np.array([\n",
    "    -9000,\n",
    "    -3000,\n",
    "    -10000,\n",
    "    -9000,\n",
    "    -9000,\n",
    "    -3000,\n",
    "    -10000,\n",
    "    -9000,\n",
    "])\n",
    "\n",
    "Aub = np.array([\n",
    "    [ 3,  1,  4,  3,    0,    0,  0,    0],\n",
    "    [ 0,  0,  0,  0,  4.5,  1.5,  6,  4.5],\n",
    "    [ 6,  2,  5,  5,  7.2,  2.4,  6,    6],\n",
    "\n",
    "])\n",
    "bub = np.array([\n",
    "    40,\n",
    "    40,\n",
    "    100\n",
    "])\n",
    "\n",
    "sol = opt.linprog(c,Aub,bub, integrality=1)\n",
    "sol\n",
    "\n",
    "\n"
   ]
  },
  {
   "cell_type": "code",
   "execution_count": 17,
   "id": "d30ef5ef-c893-4eb4-8485-cf60902c7397",
   "metadata": {},
   "outputs": [
    {
     "data": {
      "text/plain": [
       "array([ 40.,  39., 100.])"
      ]
     },
     "execution_count": 17,
     "metadata": {},
     "output_type": "execute_result"
    }
   ],
   "source": [
    "Aub @ sol.x"
   ]
  },
  {
   "cell_type": "markdown",
   "id": "e0ebab0c-7933-43a7-907e-a3417e48e2dd",
   "metadata": {},
   "source": [
    "El pro trabaja 40 horas y el novato 39 horas\n",
    "Se utilizan las 100 unidades de madera"
   ]
  },
  {
   "cell_type": "code",
   "execution_count": 23,
   "id": "31414619-f305-41a5-879b-d7937ec4f36a",
   "metadata": {},
   "outputs": [
    {
     "data": {
      "text/plain": [
       "-176000.0"
      ]
     },
     "execution_count": 23,
     "metadata": {},
     "output_type": "execute_result"
    }
   ],
   "source": [
    "c @ sol.x"
   ]
  },
  {
   "cell_type": "markdown",
   "id": "c7509360-a813-416c-b1ab-dff17d9705aa",
   "metadata": {},
   "source": [
    "Ingreso total : 176,000"
   ]
  },
  {
   "cell_type": "markdown",
   "id": "41d9d17f-f918-4ebd-84d6-7b8c404731bc",
   "metadata": {},
   "source": [
    "2. Recibió una orden de 3 combos de mesa con 6 sillas\n",
    "* Se puede cumplir la orden?\n",
    "* Si sí, ¿Qué es lo que tienen que sfabricar el resto del tiempo para maximizar ganancias?\n",
    "* ¿Cuántas horas trabaja cada trabajador\n",
    "* ¿Cuánto material se usa?\n",
    "* ¿Cuál es el nuevo ingreso total?\n"
   ]
  },
  {
   "cell_type": "markdown",
   "id": "afc0cfd6-029e-42e1-b79e-6b3cf4c2b1ce",
   "metadata": {},
   "source": [
    "LOS 3 combos acumulan un total de  3 mesas y 18 sillas\n",
    "\n",
    "1. Se quiere max ganancias\n",
    "2. variables\n",
    "   * Mesas que hace el pro\n",
    "   * Mesas que hace el novato\n",
    "   * Sillas que hace el pro\n",
    "   * Sillas que hace el novato\n",
    "\n",
    "3. función costo\n",
    "$$f(Xmpro,Xspro,Xlpr,Xcpro,XmN,XsN,XlN,XcN) = -9000Xmpro - 3000Xspro - 10000Xlpro - 9000Xcpro - 9000XmN - 3000XsN - 10000XlN - 9000XcN $$\n",
    "\n",
    "4. restricciones\n",
    "$$\\min_{Xmpro,Xspro,Xlpr,Xcpro,XmN,XsN,XlN,XcN} $$\n",
    "$$\\text {s.t.} $$\n",
    "$$ 3Xmpro + 1Xspro + 4Xlpro + 3Xcpro \\leq 40$$\n",
    "$$ 4.5XmN + 1.5XsN + 6XlN + 4.5XcN \\leq 40$$\n",
    "$$ 6Xmpro + 2Xspro + 5Xlpro + 5Xcpro + 7.2XmN + 2.4XsN + 6XlN + 6XcN\\leq 100$$\n",
    "$$ -Xmpro - XmN \\leq -3$$\n",
    "$$ -Xspro - XsN \\leq -18$$\n",
    "   "
   ]
  },
  {
   "cell_type": "code",
   "execution_count": 7,
   "id": "96b2e85e-70b4-408f-8584-d1db09edc45a",
   "metadata": {},
   "outputs": [
    {
     "data": {
      "text/plain": [
       "        message: Optimization terminated successfully. (HiGHS Status 7: Optimal)\n",
       "        success: True\n",
       "         status: 0\n",
       "            fun: -161000.0\n",
       "              x: [ 3.000e+00  1.800e+01  3.000e+00  0.000e+00  0.000e+00\n",
       "                   0.000e+00  5.000e+00  0.000e+00]\n",
       "            nit: -1\n",
       "          lower:  residual: [ 3.000e+00  1.800e+01  3.000e+00  0.000e+00\n",
       "                              0.000e+00  0.000e+00  5.000e+00  0.000e+00]\n",
       "                 marginals: [ 0.000e+00  0.000e+00  0.000e+00  0.000e+00\n",
       "                              0.000e+00  0.000e+00  0.000e+00  0.000e+00]\n",
       "          upper:  residual: [       inf        inf        inf        inf\n",
       "                                    inf        inf        inf        inf]\n",
       "                 marginals: [ 0.000e+00  0.000e+00  0.000e+00  0.000e+00\n",
       "                              0.000e+00  0.000e+00  0.000e+00  0.000e+00]\n",
       "          eqlin:  residual: []\n",
       "                 marginals: []\n",
       "        ineqlin:  residual: [ 1.000e+00  1.000e+01  1.000e+00  0.000e+00\n",
       "                              0.000e+00]\n",
       "                 marginals: [ 0.000e+00  0.000e+00  0.000e+00  0.000e+00\n",
       "                              0.000e+00]\n",
       " mip_node_count: 1\n",
       " mip_dual_bound: -161000.0\n",
       "        mip_gap: 0.0"
      ]
     },
     "execution_count": 7,
     "metadata": {},
     "output_type": "execute_result"
    }
   ],
   "source": [
    "import numpy as np\n",
    "import scipy.optimize as opt\n",
    "c = np.array([\n",
    "    -9000,\n",
    "    -3000,\n",
    "    -10000,\n",
    "    -9000,\n",
    "    -9000,\n",
    "    -3000,\n",
    "    -10000,\n",
    "    -9000,\n",
    "])\n",
    "\n",
    "Aub = np.array([\n",
    "    [ 3,  1,  4,  3,    0,    0,  0,    0],\n",
    "    [ 0,  0,  0,  0,  4.5,  1.5,  6,  4.5],\n",
    "    [ 6,  2,  5,  5,  7.2,  2.4,  6,    6],\n",
    "    [-1,  0,  0,  0,   -1,    0,  0,    0],\n",
    "    [ 0, -1,  0,  0,    0,   -1,  0,    0],\n",
    "\n",
    "])\n",
    "bub = np.array([\n",
    "    40,\n",
    "    40,\n",
    "    100,\n",
    "    -3,\n",
    "    -18,\n",
    "])\n",
    "\n",
    "sol = opt.linprog(c,Aub,bub, integrality=1)\n",
    "sol"
   ]
  },
  {
   "cell_type": "code",
   "execution_count": 11,
   "id": "355ecd61-4a10-4589-a10c-3de79e0b243b",
   "metadata": {},
   "outputs": [
    {
     "data": {
      "text/plain": [
       "array([ 39.,  30.,  99.,  -3., -18.])"
      ]
     },
     "execution_count": 11,
     "metadata": {},
     "output_type": "execute_result"
    }
   ],
   "source": [
    "Aub@sol.x"
   ]
  },
  {
   "cell_type": "markdown",
   "id": "c26e2c47-a3bc-4cd3-8bdb-99bbdf1951cb",
   "metadata": {},
   "source": [
    "HORAS TRABAJADAS:\n",
    "\n",
    "PRO: 39 HORAS\n",
    "\n",
    "NOVATO: 30 HORAS\n",
    "\n",
    "MATERIAL CONSUMIDO: 99"
   ]
  },
  {
   "cell_type": "code",
   "execution_count": null,
   "id": "6081d31e-915f-469e-9de0-ad608ff98e18",
   "metadata": {},
   "outputs": [],
   "source": []
  }
 ],
 "metadata": {
  "kernelspec": {
   "display_name": "Python 3 (ipykernel)",
   "language": "python",
   "name": "python3"
  },
  "language_info": {
   "codemirror_mode": {
    "name": "ipython",
    "version": 3
   },
   "file_extension": ".py",
   "mimetype": "text/x-python",
   "name": "python",
   "nbconvert_exporter": "python",
   "pygments_lexer": "ipython3",
   "version": "3.12.4"
  }
 },
 "nbformat": 4,
 "nbformat_minor": 5
}
