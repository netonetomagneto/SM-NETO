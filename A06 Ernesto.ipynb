{
 "cells": [
  {
   "cell_type": "markdown",
   "id": "30dcb7a0-5f5f-4633-a343-e11ac7a910f9",
   "metadata": {},
   "source": [
    "HUGO ERNESTO CARDENAS ALCARAZ, 9 DE SEPT"
   ]
  },
  {
   "cell_type": "code",
   "execution_count": 28,
   "id": "6ab9335d-cbfe-4eb2-8ed3-e27ff9314df2",
   "metadata": {},
   "outputs": [
    {
     "data": {
      "text/plain": [
       "array([-25. , -22.2, -30. ])"
      ]
     },
     "execution_count": 28,
     "metadata": {},
     "output_type": "execute_result"
    }
   ],
   "source": [
    "import numpy as np\n",
    "\n",
    "c = np.array([0.6,0.2])\n",
    "\n",
    "Aub = np.array([\n",
    "    [-0.3,-0.05],\n",
    "    [-0.1, -0.07],\n",
    "    [-0.1, -0.1]\n",
    "])\n",
    "bub = np.array([-25,-6,-30])\n",
    "import scipy.optimize as opt\n",
    "\n",
    "sol= opt.linprog(c,Aub,bub)\n",
    "sol.fun,sol.x\n",
    "\n",
    "Aub @ sol.x"
   ]
  },
  {
   "cell_type": "markdown",
   "id": "abf0979c-8ead-43bd-805b-4555eb243f32",
   "metadata": {},
   "source": [
    "# Ejercicio 1.\r\n",
    "\r\n",
    "Una carpintería local fabrica sillas, mesas, libreros y bases de cama. Hay dos empleados en esta carpintería: un empleado experimentado y un aprendiz. El aprendiz tarda aproximadamente 50% más tiempo que el carpintero experimentado en construir cualquier cosa, además de que tiene un desperdicio de alrededor de 20% de material. Los materiales y tiempos necesarios para construir algo se desglozan en la siguiente tabla:"
   ]
  },
  {
   "attachments": {
    "b4c8dd89-ff3d-4090-aa65-e91526402751.png": {
     "image/png": "[encoded data removed]"
    }
   },
   "cell_type": "markdown",
   "id": "4efdc6eb-b18d-4d3f-9d9a-dc46e98ae7d0",
   "metadata": {},
   "source": [
    "![image.png](attachment:b4c8dd89-ff3d-4090-aa65-e91526402751.png)"
   ]
  },
  {
   "cell_type": "markdown",
   "id": "2c9ab506-ad70-4c3a-8b4f-b89dc2308744",
   "metadata": {},
   "source": [
    "Las mesas se venden en 9000, las sillas en 3000, los libreros en 10000, y las bases de cama en 9000. Suponiendo una jornada de 40 horas a la semana y que tienen 100 unidades de madera, ¿qué les conviene construir durante una semana para maximizar su ganancia?reso total?"
   ]
  },
  {
   "cell_type": "markdown",
   "id": "8b06957f-a4cb-48f2-bace-b32622d930f8",
   "metadata": {},
   "source": [
    "\n",
    "1. max ganancia en 1 semana\n",
    "\n",
    "2. variables\n",
    "   * mesas que hace el pro\n",
    "   * mesas que hace el noob\n",
    "\n",
    "3. ganancias max (en min)\n",
    "\n",
    "$$f(Xmpro,Xspro,Xlpr,Xcpro,XmN,XsN,XlN,XcN) = -9000Xmpro - 3000Xspro - 10000Xlpro - 9000Xcpro - 9000XmN - 3000XsN - 10000XlN - 9000XcN $$\n",
    "\n",
    "4. restricciones\n",
    "$$\\min_{Xmpro,Xspro,Xlpr,Xcpro,XmN,XsN,XlN,XcN} $$\n",
    "$$\\text {s.t.} $$\n",
    "$$ 3Xmpro + 1Xspro + 4Xlpro + 3Xcpro \\leq 40$$\n",
    "$$ 4.5XmN + 1.5XsN + 6XlN + 4.5XcN \\leq 40$$\n",
    "$$ 6Xmpro + 2Xspro + 5Xlpro + 5Xcpro + 7.2XmN + 2.4XsN + 6XlN + 6XcN\\leq 100$$\n",
    "\n"
   ]
  },
  {
   "cell_type": "code",
   "execution_count": 62,
   "id": "ffee0645-5b80-4e67-a7a2-2612b500c2b5",
   "metadata": {},
   "outputs": [
    {
     "data": {
      "text/plain": [
       "        message: Optimization terminated successfully. (HiGHS Status 7: Optimal)\n",
       "        success: True\n",
       "         status: 0\n",
       "            fun: -176000.0\n",
       "              x: [ 0.000e+00  1.000e+00  9.000e+00  1.000e+00  0.000e+00\n",
       "                   0.000e+00  2.000e+00  6.000e+00]\n",
       "            nit: -1\n",
       "          lower:  residual: [ 0.000e+00  1.000e+00  9.000e+00  1.000e+00\n",
       "                              0.000e+00  0.000e+00  2.000e+00  6.000e+00]\n",
       "                 marginals: [ 0.000e+00  0.000e+00  0.000e+00  0.000e+00\n",
       "                              0.000e+00  0.000e+00  0.000e+00  0.000e+00]\n",
       "          upper:  residual: [       inf        inf        inf        inf\n",
       "                                    inf        inf        inf        inf]\n",
       "                 marginals: [ 0.000e+00  0.000e+00  0.000e+00  0.000e+00\n",
       "                              0.000e+00  0.000e+00  0.000e+00  0.000e+00]\n",
       "          eqlin:  residual: []\n",
       "                 marginals: []\n",
       "        ineqlin:  residual: [ 0.000e+00  1.000e+00  0.000e+00]\n",
       "                 marginals: [ 0.000e+00  0.000e+00  0.000e+00]\n",
       " mip_node_count: 1\n",
       " mip_dual_bound: -176000.0\n",
       "        mip_gap: 0.0"
      ]
     },
     "execution_count": 62,
     "metadata": {},
     "output_type": "execute_result"
    }
   ],
   "source": [
    "c = np.array([\n",
    "    -9000,\n",
    "    -3000,\n",
    "    -10000,\n",
    "    -9000,\n",
    "    -9000,\n",
    "    -3000,\n",
    "    -10000,\n",
    "    -9000,\n",
    "])\n",
    "\n",
    "Aub = np.array([\n",
    "    [ 3,  1,  4,  3,    0,    0,  0,    0],\n",
    "    [ 0,  0,  0,  0,  4.5,  1.5,  6,  4.5],\n",
    "    [ 6,  2,  5,  5,  7.2,  2.4,  6,    6],\n",
    "\n",
    "])\n",
    "bub = np.array([40,40,100])\n",
    "\n",
    "sol = opt.linprog(c,Aub,bub,integrality=1)\n",
    "sol"
   ]
  },
  {
   "cell_type": "code",
   "execution_count": 46,
   "id": "d2555918-8489-4fc9-bab1-77c6eb71a540",
   "metadata": {},
   "outputs": [
    {
     "data": {
      "text/plain": [
       "        message: Optimization terminated successfully. (HiGHS Status 7: Optimal)\n",
       "        success: True\n",
       "         status: 0\n",
       "            fun: 470.0\n",
       "              x: [ 1.000e+01  4.500e+01  0.000e+00  5.000e+01  0.000e+00\n",
       "                   0.000e+00  0.000e+00  0.000e+00  6.000e+01]\n",
       "            nit: 4\n",
       "          lower:  residual: [ 1.000e+01  4.500e+01  0.000e+00  5.000e+01\n",
       "                              0.000e+00  0.000e+00  0.000e+00  0.000e+00\n",
       "                              6.000e+01]\n",
       "                 marginals: [ 0.000e+00  0.000e+00  4.000e+00  0.000e+00\n",
       "                              4.000e+00  4.000e+00  0.000e+00  0.000e+00\n",
       "                              0.000e+00]\n",
       "          upper:  residual: [       inf        inf        inf        inf\n",
       "                                    inf        inf        inf        inf\n",
       "                                    inf]\n",
       "                 marginals: [ 0.000e+00  0.000e+00  0.000e+00  0.000e+00\n",
       "                              0.000e+00  0.000e+00  0.000e+00  0.000e+00\n",
       "                              0.000e+00]\n",
       "          eqlin:  residual: []\n",
       "                 marginals: []\n",
       "        ineqlin:  residual: [ 2.000e+01  0.000e+00  0.000e+00  0.000e+00\n",
       "                              0.000e+00  0.000e+00]\n",
       "                 marginals: [-0.000e+00 -2.000e+00 -0.000e+00 -5.000e+00\n",
       "                             -2.000e+00 -3.000e+00]\n",
       " mip_node_count: 0\n",
       " mip_dual_bound: 0.0\n",
       "        mip_gap: 0.0"
      ]
     },
     "execution_count": 46,
     "metadata": {},
     "output_type": "execute_result"
    }
   ],
   "source": [
    "c = np.array([\n",
    "    5,\n",
    "    2,\n",
    "    7,\n",
    "    3,\n",
    "    4,\n",
    "    5,\n",
    "    5,\n",
    "    2,\n",
    "    3,\n",
    "])\n",
    "\n",
    "Aub = np.array([\n",
    "    [ 1,  1,  1,  0,  0,  0,  0,  0,  0],\n",
    "    [ 0,  0,  0,  1,  1,  1,  0,  0,  0],\n",
    "    [ 0,  0,  0,  0,  0,  0,  1,  1,  1],\n",
    "    [-1,  0,  0, -1,  0,  0, -1,  0,  0],\n",
    "    [ 0, -1,  0,  0, -1,  0,  0, -1,  0],\n",
    "    [ 0,  0, -1,  0,  0, -1,  0,  0, -1]\n",
    "])\n",
    "bub = np.array([75,50,60,-60,-45,-60])\n",
    "\n",
    "sol = opt.linprog(c,Aub,bub)\n",
    "sol\n"
   ]
  },
  {
   "cell_type": "code",
   "execution_count": null,
   "id": "03a3513a-89b0-43b4-badd-f8a60aac7154",
   "metadata": {},
   "outputs": [],
   "source": []
  }
 ],
 "metadata": {
  "kernelspec": {
   "display_name": "Python 3 (ipykernel)",
   "language": "python",
   "name": "python3"
  },
  "language_info": {
   "codemirror_mode": {
    "name": "ipython",
    "version": 3
   },
   "file_extension": ".py",
   "mimetype": "text/x-python",
   "name": "python",
   "nbconvert_exporter": "python",
   "pygments_lexer": "ipython3",
   "version": "3.12.4"
  }
 },
 "nbformat": 4,
 "nbformat_minor": 5
}
