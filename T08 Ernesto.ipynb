{
 "cells": [
  {
   "cell_type": "markdown",
   "id": "777cbd7d-62c7-41c8-8c4f-02f2fe6c4cd5",
   "metadata": {},
   "source": [
    "# 1"
   ]
  },
  {
   "cell_type": "markdown",
   "id": "cd139a2b-1e0c-4175-bdac-67068430d0f2",
   "metadata": {},
   "source": [
    "1.- Un proyecto de construcción está por comenzar. Se hace la compra de los materiales y el proveedor dice que en promedio tardan una semana con una desviación de 3 días en llegar. Una vez llegados los materiales se tarda entre 3 y 5 semanas en construir (uniforme). Después de la construcción se deben esperar 3 días antes de empezar a pintar, y toma 6 días en promedio con 2 días de desviación estándar hacerlo."
   ]
  },
  {
   "cell_type": "markdown",
   "id": "8452aff7-9705-49a6-a6d3-ddcbbd62c090",
   "metadata": {},
   "source": [
    "a) Describe en una celda qué distribución usarías para cada paso del proceso\r\n",
    "\r\n",
    "b) Simula cada paso en el proceso un millón de veces\r\n",
    "\r\n",
    "c) Agrupa las simulaciones de cada paso para tener la simulación del proceso completo\r\n",
    "\r\n",
    "d) ¿Cuál es el tiempo promedio para de inicio-fin del proyecto?\r\n",
    "\r\n",
    "e) De acuerdo a tus simulaciones, ¿cuál es el peor caso? ¿cuál es el mejor caso?\r\n",
    "\r\n",
    "f) Si el proyecto se tiene que entregar a más tardar en 50 días o se tiene que pagar una compensación al cliente, ¿cuál es la probabilidad de que el proyecto se entregue a tiempo?\r\n",
    "\r\n",
    "g) ¿Cuál es la probabilidad de que el proyecto tome entre 20 y 40 días?"
   ]
  },
  {
   "cell_type": "code",
   "execution_count": 218,
   "id": "1c9e442c-ce9a-42aa-a2a3-88bc8287683a",
   "metadata": {},
   "outputs": [],
   "source": [
    "import numpy as np\n",
    "import matplotlib.pyplot as plt\n",
    "\n",
    "#np.random.uniform\n",
    "#np.random.normal(mu,std,rep)"
   ]
  },
  {
   "cell_type": "markdown",
   "id": "02566f77-32f7-467e-8047-63bb800f8445",
   "metadata": {},
   "source": [
    "A)"
   ]
  },
  {
   "cell_type": "markdown",
   "id": "1341cf19-2487-4451-aefe-9f8c2e60e3ca",
   "metadata": {},
   "source": [
    "* Para la primera parte del proceso se debe utilizar una distribución normal\n",
    "* Para la segunda una distribución uniforme\n",
    "* Para la tercer de nueva una distribución normal"
   ]
  },
  {
   "cell_type": "markdown",
   "id": "bc22eaf5-7fd7-4742-9dc8-a0eec1bf3ccd",
   "metadata": {},
   "source": [
    "B)"
   ]
  },
  {
   "cell_type": "code",
   "execution_count": 223,
   "id": "8f8df576-00ff-455f-b218-ac2c7bcb62cd",
   "metadata": {
    "scrolled": true
   },
   "outputs": [
    {
     "data": {
      "text/plain": [
       "(array([7.46857109, 5.38502506, 7.11367423, ..., 0.59985683, 9.03802577,\n",
       "        6.64164834]),\n",
       " array([3.99228675, 3.71134306, 3.9805697 , ..., 4.36456518, 3.76223599,\n",
       "        4.26718617]),\n",
       " array([7.10546379, 4.71881016, 9.02837038, ..., 7.11300343, 8.06775823,\n",
       "        9.26100365]))"
      ]
     },
     "execution_count": 223,
     "metadata": {},
     "output_type": "execute_result"
    }
   ],
   "source": [
    "#b\n",
    "n = 1000000\n",
    "compra = np.random.normal(7,3,n)\n",
    "\n",
    "construir = np.random.uniform(3,5,n)\n",
    "#contar 3 días de espera antes de pintar\n",
    "pintar = np.random.normal(6,2,n)\n",
    "compra,construir,pintar"
   ]
  },
  {
   "cell_type": "markdown",
   "id": "c8cc6fb7-8092-4622-ac71-84ea69e7dea6",
   "metadata": {},
   "source": [
    "C)"
   ]
  },
  {
   "cell_type": "code",
   "execution_count": 263,
   "id": "456349f7-c35b-44b3-aa28-d42582ddfe8e",
   "metadata": {},
   "outputs": [
    {
     "data": {
      "text/plain": [
       "array([24.07993372, 20.05159912, 16.15451721, ..., 19.93356234,\n",
       "       21.56531179, 16.42888865])"
      ]
     },
     "execution_count": 263,
     "metadata": {},
     "output_type": "execute_result"
    }
   ],
   "source": [
    "def obra (n):\n",
    "    compra = np.random.normal(7,3,n)\n",
    "    construir = np.random.uniform(3,5,n)\n",
    "    dias_extra = 3\n",
    "    pintar = np.random.normal(6,2,n)\n",
    "    return compra +construir + pintar + dias_extra\n",
    "obra(n)"
   ]
  },
  {
   "cell_type": "markdown",
   "id": "d93d322f-2765-4ffd-9ebc-e1c9241f7ffe",
   "metadata": {},
   "source": [
    "D)"
   ]
  },
  {
   "cell_type": "markdown",
   "id": "b4b3ca81-f208-4fba-9673-eb8115a5d067",
   "metadata": {},
   "source": [
    "**Días promedio**"
   ]
  },
  {
   "cell_type": "code",
   "execution_count": 266,
   "id": "aa9d35b6-dbbe-4f67-bcca-7c59e14df97d",
   "metadata": {},
   "outputs": [
    {
     "data": {
      "text/plain": [
       "20.001131479154036"
      ]
     },
     "execution_count": 266,
     "metadata": {},
     "output_type": "execute_result"
    }
   ],
   "source": [
    "obra(n).mean()"
   ]
  },
  {
   "cell_type": "markdown",
   "id": "cf671428-4d94-46dc-b0e2-f2e7b9b50193",
   "metadata": {},
   "source": [
    "E)"
   ]
  },
  {
   "cell_type": "markdown",
   "id": "ef5f1e7b-3414-4dae-ad6a-b7c8986fa2c4",
   "metadata": {},
   "source": [
    "**MIN**"
   ]
  },
  {
   "cell_type": "code",
   "execution_count": 255,
   "id": "4215df82-deff-4dc6-b146-ab06df244174",
   "metadata": {},
   "outputs": [
    {
     "data": {
      "text/plain": [
       "0.554436148206368"
      ]
     },
     "execution_count": 255,
     "metadata": {},
     "output_type": "execute_result"
    }
   ],
   "source": [
    "# min\n",
    "obra(n).min()"
   ]
  },
  {
   "cell_type": "markdown",
   "id": "7e2bbc27-78d1-499b-ad37-1df5224b099c",
   "metadata": {},
   "source": [
    "**MAX**"
   ]
  },
  {
   "cell_type": "code",
   "execution_count": 259,
   "id": "8fb5fc26-5afb-4bf1-b735-6c033aa2c865",
   "metadata": {},
   "outputs": [
    {
     "data": {
      "text/plain": [
       "38.9545020651235"
      ]
     },
     "execution_count": 259,
     "metadata": {},
     "output_type": "execute_result"
    }
   ],
   "source": [
    "obra(n).max()"
   ]
  },
  {
   "cell_type": "markdown",
   "id": "38b81de5-9f17-4fcc-a324-3d6cd58897c8",
   "metadata": {},
   "source": [
    "F)"
   ]
  },
  {
   "cell_type": "code",
   "execution_count": 270,
   "id": "41379950-6e12-4b68-b759-d9129379f8e3",
   "metadata": {},
   "outputs": [
    {
     "data": {
      "text/plain": [
       "1.0"
      ]
     },
     "execution_count": 270,
     "metadata": {},
     "output_type": "execute_result"
    }
   ],
   "source": [
    "menos_de_cinc = (np.array(obra(n)) <= 50)\n",
    "menos_de_cinc.mean()"
   ]
  },
  {
   "cell_type": "markdown",
   "id": "9427dff6-a9c8-4e72-8124-e411bbb5e30b",
   "metadata": {},
   "source": [
    "**PROBABILIDAD = 100%**"
   ]
  },
  {
   "cell_type": "code",
   "execution_count": 272,
   "id": "f6debf87-830a-400a-b1eb-050969b3e901",
   "metadata": {},
   "outputs": [
    {
     "data": {
      "text/plain": [
       "0.500757"
      ]
     },
     "execution_count": 272,
     "metadata": {},
     "output_type": "execute_result"
    }
   ],
   "source": [
    "rango = (np.array(obra(n)) > 20) & (np.array(obra(n)) < 40)\n",
    "rango.mean()"
   ]
  },
  {
   "cell_type": "markdown",
   "id": "66c506a3-c1ab-4e1a-a130-0681fa584cca",
   "metadata": {},
   "source": [
    "# 2"
   ]
  },
  {
   "cell_type": "markdown",
   "id": "14596da3-b127-468b-a842-e4f134e9cfd1",
   "metadata": {},
   "source": [
    "2.- Hay un elevador pequeño en una plaza donde se espera que entren máximo 4 personas a la vez, y su capacidad de peso para poder operar es de 300 kg. En el último censo se encontró que habían 378350 personas en la zona:"
   ]
  },
  {
   "cell_type": "markdown",
   "id": "6b815178-bf71-4219-96fc-1408e4a3347d",
   "metadata": {},
   "source": [
    "* 185392 mujeres\n",
    "* 162690 hombres\n",
    "* 30268 personas que o prefirieron no dar la información o se identificaron como no binarias\n"
   ]
  },
  {
   "cell_type": "markdown",
   "id": "399aa84a-8cad-4a15-b10b-94bf3a886075",
   "metadata": {},
   "source": [
    "El peso promedio medido en mujeres es de 70 kg con una desviación estándar de 11 kg. En los hombres se midió un peso promedio de 80 kg y una desviación estándar de 16 kg. En el tercer grupo se midió un peso promedio de 73 kg con una desviación estándar de 12 kg."
   ]
  },
  {
   "cell_type": "markdown",
   "id": "5de76998-47dc-4b6e-8a59-4a0fae3093bb",
   "metadata": {},
   "source": [
    "a) Si el elevador se llenara 10,000 veces, ¿cuántas de esas veces se excedería el peso permitido?\r\n",
    "\r\n",
    "b) ¿Qué peso total tendría que soportar el elevador si se quiere que el 95% de las veces que se llene no se exceda el peso permitido?"
   ]
  },
  {
   "cell_type": "code",
   "execution_count": 292,
   "id": "72d9640e-1c24-40b6-8bab-963beea12d3a",
   "metadata": {},
   "outputs": [],
   "source": [
    "mujeres = np.random.normal(70,11,n)\n",
    "hombres = np.random.normal(80,16,n)\n",
    "non_bin = np.random.normal(73,12,n)\n"
   ]
  },
  {
   "cell_type": "markdown",
   "id": "c12c5a85-e092-45f5-b7ab-37619a0ac6fc",
   "metadata": {},
   "source": [
    "A)"
   ]
  },
  {
   "cell_type": "code",
   "execution_count": 380,
   "id": "180b03f3-894d-4ec0-8142-8ffa52cf9916",
   "metadata": {},
   "outputs": [
    {
     "data": {
      "text/plain": [
       "7"
      ]
     },
     "execution_count": 380,
     "metadata": {},
     "output_type": "execute_result"
    }
   ],
   "source": [
    "n2 = 10000\n",
    "def elevador(n):\n",
    "    mujeres = np.random.normal(70,11,n)\n",
    "    hombres = np.random.normal(80,16,n)\n",
    "    non_bin = np.random.normal(73,12,n)\n",
    "    return mujeres + hombres + non_bin\n",
    "a = (np.array(elevador(n2)) >=300).sum()\n",
    "a"
   ]
  },
  {
   "cell_type": "markdown",
   "id": "a216aa4a-3e49-4712-8a1f-f5c1d84423bf",
   "metadata": {},
   "source": [
    "B)"
   ]
  },
  {
   "cell_type": "code",
   "execution_count": 433,
   "id": "a8340293-2822-44dc-8b81-3984ef32ef5c",
   "metadata": {},
   "outputs": [
    {
     "data": {
      "text/plain": [
       "0.9508"
      ]
     },
     "execution_count": 433,
     "metadata": {},
     "output_type": "execute_result"
    }
   ],
   "source": [
    "b = elevador(n2) < 261\n",
    "b.mean()"
   ]
  },
  {
   "cell_type": "markdown",
   "id": "a0cc9f48-a59d-4650-a490-726edbb7ed6a",
   "metadata": {},
   "source": [
    "**Para el 95%, debería ser 261kg**"
   ]
  },
  {
   "cell_type": "markdown",
   "id": "a08a5631-afa5-4d4f-a56b-81f2e35aeb72",
   "metadata": {},
   "source": [
    "# 3"
   ]
  },
  {
   "cell_type": "markdown",
   "id": "5f6fa113-b1d9-4eb2-b33a-097f1cb3d84d",
   "metadata": {},
   "source": [
    "3. Tienes diez dados justos. Si arrojas todos al mismo tiempo, ¿cuál es la probabilidad de que la suma de los dados sea múltiplo de 6?"
   ]
  },
  {
   "cell_type": "code",
   "execution_count": 506,
   "id": "283493bd-93dc-49a5-89cd-61d691f969a1",
   "metadata": {},
   "outputs": [
    {
     "data": {
      "text/plain": [
       "0.16692"
      ]
     },
     "execution_count": 506,
     "metadata": {},
     "output_type": "execute_result"
    }
   ],
   "source": [
    "n = 100000\n",
    "\n",
    "def dados(n):\n",
    "    d1 = np.random.randint(1,7,n)\n",
    "    d2 = np.random.randint(1,7,n)\n",
    "    d3 = np.random.randint(1,7,n)\n",
    "    d4 = np.random.randint(1,7,n)\n",
    "    d5 = np.random.randint(1,7,n)\n",
    "    d6 = np.random.randint(1,7,n)\n",
    "    d7 = np.random.randint(1,7,n)\n",
    "    d8 = np.random.randint(1,7,n)\n",
    "    d9 = np.random.randint(1,7,n)\n",
    "    d10 =np.random.randint(1,7,n)\n",
    "    suma = d1+d2+d3+d4+d5+d6+d7+d8+d9+d10\n",
    "    return suma\n",
    "exito = dados(n)%6 == 0\n",
    "\n",
    "exito.mean()"
   ]
  },
  {
   "cell_type": "markdown",
   "id": "65fea7ec-532b-4488-85af-17d9590c6f2b",
   "metadata": {},
   "source": [
    "# 4"
   ]
  },
  {
   "cell_type": "markdown",
   "id": "12a6be51-33bd-411a-af6c-8be24a749151",
   "metadata": {},
   "source": [
    "A y B juegan al siguiente juego: un número k del 1 al 6 es elegido, y A y B avientan el dado por turnos hasta que alguien consiga que el dado caiga en k. El ganador recibe $100.\r\n",
    "\r\n",
    "a) ¿Cuál es la probabilidad de que el primer jugador gane?\r\n",
    "\r\n",
    "b) ¿Cuál es la probabilidad de que el segundo jugador gane?\r\n",
    "\r\n",
    "c) ¿Cuánto vale la pena pagar para ir primero?"
   ]
  },
  {
   "cell_type": "code",
   "execution_count": 488,
   "id": "96927a79-88f2-4eda-874d-89888028cac9",
   "metadata": {},
   "outputs": [
    {
     "data": {
      "text/plain": [
       "'A'"
      ]
     },
     "execution_count": 488,
     "metadata": {},
     "output_type": "execute_result"
    }
   ],
   "source": [
    "def juego():\n",
    "    numero = np.random.randint(1,7)\n",
    "    tiroA = 0\n",
    "    tiroB = 0\n",
    "    while numero != tiroA and numero != tiroB:\n",
    "        tiroA = np.random.randint(1,7)\n",
    "        tiroB = np.random.randint(1,7)\n",
    "        if tiroA == numero:\n",
    "            return \"A\"\n",
    "        if tiroB == numero:\n",
    "            return \"B\"\n",
    "juego()"
   ]
  },
  {
   "cell_type": "code",
   "execution_count": 490,
   "id": "8bce9d7b-305a-45f5-b3f7-da704ff4b134",
   "metadata": {},
   "outputs": [],
   "source": [
    "def proba_A(n):\n",
    "    TOTALES = []\n",
    "    for i in range(n):\n",
    "        games = juego()\n",
    "        TOTALES.append(games)\n",
    "    mean = (np.array(TOTALES) == \"A\").mean()\n",
    "    return mean\n"
   ]
  },
  {
   "cell_type": "code",
   "execution_count": 492,
   "id": "77b096e8-6fb4-4507-8ea0-813f12f4aeb5",
   "metadata": {},
   "outputs": [
    {
     "data": {
      "text/plain": [
       "0.543"
      ]
     },
     "execution_count": 492,
     "metadata": {},
     "output_type": "execute_result"
    }
   ],
   "source": [
    "proba_A(n2)"
   ]
  },
  {
   "cell_type": "code",
   "execution_count": 494,
   "id": "a03aa392-e153-49f4-8bb1-ed6d8da0272f",
   "metadata": {},
   "outputs": [],
   "source": [
    "def proba_B(n):\n",
    "    TOTALES = []\n",
    "    for i in range(n):\n",
    "        games = juego()\n",
    "        TOTALES.append(games)\n",
    "    mean = (np.array(TOTALES) == \"B\").mean()\n",
    "    return mean "
   ]
  },
  {
   "cell_type": "code",
   "execution_count": 496,
   "id": "9f06cf07-de01-4295-8699-c2e75278093e",
   "metadata": {},
   "outputs": [
    {
     "data": {
      "text/plain": [
       "0.4559"
      ]
     },
     "execution_count": 496,
     "metadata": {},
     "output_type": "execute_result"
    }
   ],
   "source": [
    "proba_B(n2)"
   ]
  },
  {
   "cell_type": "code",
   "execution_count": 514,
   "id": "44856e4b-ad7a-4afb-b35b-6ea7e9096b75",
   "metadata": {},
   "outputs": [
    {
     "data": {
      "text/plain": [
       "0.09129999999999999"
      ]
     },
     "execution_count": 514,
     "metadata": {},
     "output_type": "execute_result"
    }
   ],
   "source": [
    "\"\"\" Si ganará eñ 0.54 y el otro el 0.46. Vale la pena pagar la diferencia que se tiene con el primero de un total de 100, ya que son consideradas\n",
    "tiradas individuales por lo que sería (diferencia*100)\"\"\"\n",
    "prob_dif= proba_A(n2)-proba_B(n2)\n",
    "prob_dif"
   ]
  },
  {
   "cell_type": "code",
   "execution_count": null,
   "id": "a0245db1-970b-44b1-855e-076e4e283fa2",
   "metadata": {},
   "outputs": [],
   "source": []
  },
  {
   "cell_type": "code",
   "execution_count": 516,
   "id": "3f994b6e-5700-4808-b9cb-64106d2ebdf8",
   "metadata": {},
   "outputs": [
    {
     "data": {
      "text/plain": [
       "9.129999999999999"
      ]
     },
     "execution_count": 516,
     "metadata": {},
     "output_type": "execute_result"
    }
   ],
   "source": [
    "prob_dif*100"
   ]
  },
  {
   "cell_type": "code",
   "execution_count": null,
   "id": "1793f626-85d6-4f8e-adce-78036d66b6b9",
   "metadata": {},
   "outputs": [],
   "source": []
  }
 ],
 "metadata": {
  "kernelspec": {
   "display_name": "Python 3 (ipykernel)",
   "language": "python",
   "name": "python3"
  },
  "language_info": {
   "codemirror_mode": {
    "name": "ipython",
    "version": 3
   },
   "file_extension": ".py",
   "mimetype": "text/x-python",
   "name": "python",
   "nbconvert_exporter": "python",
   "pygments_lexer": "ipython3",
   "version": "3.12.4"
  }
 },
 "nbformat": 4,
 "nbformat_minor": 5
}
