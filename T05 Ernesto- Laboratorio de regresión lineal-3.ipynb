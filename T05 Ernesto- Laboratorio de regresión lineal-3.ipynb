{
 "cells": [
  {
   "cell_type": "markdown",
   "id": "517699e0-b6e3-4a23-b07a-7ae565d337f9",
   "metadata": {},
   "source": [
    "# Laboratorio de regresión lineal"
   ]
  },
  {
   "cell_type": "markdown",
   "id": "9dc03bac-6c19-46ff-a080-3a1df82c15aa",
   "metadata": {},
   "source": [
    "|                |   |\r\n",
    ":----------------|---|\r\n",
    "| **Nombre**     |HUGO ERNESTO CARDENAS ALCARAZ   |\r\n",
    "| **Fecha**      | 25/09/2024  |\r\n",
    "| **Expediente** |   744893 |   |"
   ]
  },
  {
   "cell_type": "markdown",
   "id": "58636781-c118-4f1c-9ad6-fb7528700de9",
   "metadata": {},
   "source": [
    "La regresión lineal es una heramienta útil para predecir una respuesta cuantitativa. A pesar de que existen soluciones más modernas, la regresión lineal se sigue usando, pues sirve como un punto de partida para comparar otras herramientas.\n",
    "\n",
    "Se debe comprender cómo funciona la regresión antes de empezar a estudiar métodos de aprendizaje estadístico más complejos."
   ]
  },
  {
   "cell_type": "markdown",
   "id": "49359c12-d479-4331-9266-555b5fecadaa",
   "metadata": {},
   "source": [
    "1. Descarga el archivo de publicidad y carga los datos (Advertising.csv)."
   ]
  },
  {
   "cell_type": "code",
   "execution_count": null,
   "id": "f89db89a-9751-4c30-86e7-4b10eae0e9e7",
   "metadata": {},
   "outputs": [],
   "source": []
  },
  {
   "cell_type": "code",
   "execution_count": 27,
   "id": "dd89acd3-8ac1-4101-a551-fe488fb0a411",
   "metadata": {},
   "outputs": [
    {
     "data": {
      "text/html": [
       "<div>\n",
       "<style scoped>\n",
       "    .dataframe tbody tr th:only-of-type {\n",
       "        vertical-align: middle;\n",
       "    }\n",
       "\n",
       "    .dataframe tbody tr th {\n",
       "        vertical-align: top;\n",
       "    }\n",
       "\n",
       "    .dataframe thead th {\n",
       "        text-align: right;\n",
       "    }\n",
       "</style>\n",
       "<table border=\"1\" class=\"dataframe\">\n",
       "  <thead>\n",
       "    <tr style=\"text-align: right;\">\n",
       "      <th></th>\n",
       "      <th>Unnamed: 0</th>\n",
       "      <th>TV</th>\n",
       "      <th>radio</th>\n",
       "      <th>newspaper</th>\n",
       "      <th>sales</th>\n",
       "    </tr>\n",
       "  </thead>\n",
       "  <tbody>\n",
       "    <tr>\n",
       "      <th>0</th>\n",
       "      <td>1</td>\n",
       "      <td>230.1</td>\n",
       "      <td>37.8</td>\n",
       "      <td>69.2</td>\n",
       "      <td>22.1</td>\n",
       "    </tr>\n",
       "    <tr>\n",
       "      <th>1</th>\n",
       "      <td>2</td>\n",
       "      <td>44.5</td>\n",
       "      <td>39.3</td>\n",
       "      <td>45.1</td>\n",
       "      <td>10.4</td>\n",
       "    </tr>\n",
       "    <tr>\n",
       "      <th>2</th>\n",
       "      <td>3</td>\n",
       "      <td>17.2</td>\n",
       "      <td>45.9</td>\n",
       "      <td>69.3</td>\n",
       "      <td>9.3</td>\n",
       "    </tr>\n",
       "    <tr>\n",
       "      <th>3</th>\n",
       "      <td>4</td>\n",
       "      <td>151.5</td>\n",
       "      <td>41.3</td>\n",
       "      <td>58.5</td>\n",
       "      <td>18.5</td>\n",
       "    </tr>\n",
       "    <tr>\n",
       "      <th>4</th>\n",
       "      <td>5</td>\n",
       "      <td>180.8</td>\n",
       "      <td>10.8</td>\n",
       "      <td>58.4</td>\n",
       "      <td>12.9</td>\n",
       "    </tr>\n",
       "    <tr>\n",
       "      <th>...</th>\n",
       "      <td>...</td>\n",
       "      <td>...</td>\n",
       "      <td>...</td>\n",
       "      <td>...</td>\n",
       "      <td>...</td>\n",
       "    </tr>\n",
       "    <tr>\n",
       "      <th>195</th>\n",
       "      <td>196</td>\n",
       "      <td>38.2</td>\n",
       "      <td>3.7</td>\n",
       "      <td>13.8</td>\n",
       "      <td>7.6</td>\n",
       "    </tr>\n",
       "    <tr>\n",
       "      <th>196</th>\n",
       "      <td>197</td>\n",
       "      <td>94.2</td>\n",
       "      <td>4.9</td>\n",
       "      <td>8.1</td>\n",
       "      <td>9.7</td>\n",
       "    </tr>\n",
       "    <tr>\n",
       "      <th>197</th>\n",
       "      <td>198</td>\n",
       "      <td>177.0</td>\n",
       "      <td>9.3</td>\n",
       "      <td>6.4</td>\n",
       "      <td>12.8</td>\n",
       "    </tr>\n",
       "    <tr>\n",
       "      <th>198</th>\n",
       "      <td>199</td>\n",
       "      <td>283.6</td>\n",
       "      <td>42.0</td>\n",
       "      <td>66.2</td>\n",
       "      <td>25.5</td>\n",
       "    </tr>\n",
       "    <tr>\n",
       "      <th>199</th>\n",
       "      <td>200</td>\n",
       "      <td>232.1</td>\n",
       "      <td>8.6</td>\n",
       "      <td>8.7</td>\n",
       "      <td>13.4</td>\n",
       "    </tr>\n",
       "  </tbody>\n",
       "</table>\n",
       "<p>200 rows × 5 columns</p>\n",
       "</div>"
      ],
      "text/plain": [
       "     Unnamed: 0     TV  radio  newspaper  sales\n",
       "0             1  230.1   37.8       69.2   22.1\n",
       "1             2   44.5   39.3       45.1   10.4\n",
       "2             3   17.2   45.9       69.3    9.3\n",
       "3             4  151.5   41.3       58.5   18.5\n",
       "4             5  180.8   10.8       58.4   12.9\n",
       "..          ...    ...    ...        ...    ...\n",
       "195         196   38.2    3.7       13.8    7.6\n",
       "196         197   94.2    4.9        8.1    9.7\n",
       "197         198  177.0    9.3        6.4   12.8\n",
       "198         199  283.6   42.0       66.2   25.5\n",
       "199         200  232.1    8.6        8.7   13.4\n",
       "\n",
       "[200 rows x 5 columns]"
      ]
     },
     "execution_count": 27,
     "metadata": {},
     "output_type": "execute_result"
    }
   ],
   "source": [
    "import pandas as pd\n",
    "tabla = pd.read_csv(\"Advertising.csv\")\n",
    "tabla"
   ]
  },
  {
   "cell_type": "markdown",
   "id": "321804d7-5c58-4bc9-a9a3-e740e03ad570",
   "metadata": {},
   "source": [
    "**¿Hay alguna relación entre el presupuesto para publicidad y las ventas?**\n",
    "\n",
    "Nuestra primera meta debe ser determinar si hay evidencia en los datos de que haya una asociación entre estas variables.\n",
    "\n",
    "- ¿Por qué? ¿Qué resultaría si nos diéramos cuenta de la falta de relación entre el presupuesto de publicidad y las ventas?"
   ]
  },
  {
   "cell_type": "markdown",
   "id": "b941db34-e2b7-4dfa-9436-f3e8a7e41707",
   "metadata": {},
   "source": [
    "Si, parece ser que el presupuesto en publicidad en radio, tiene la influencia más grande en las ventas finales, "
   ]
  },
  {
   "cell_type": "markdown",
   "id": "469a7c79-00a3-4c0d-a551-2a97543e4af3",
   "metadata": {},
   "source": [
    "Los índices más altos en ventas, tienen los índices más altos en publicidad de radio, siguido también por s publicidad en TV, parecen ser los factores más cruciales"
   ]
  },
  {
   "cell_type": "markdown",
   "id": "8d03f3cf-5af3-4232-bcfc-9d4c7c24ae6a",
   "metadata": {},
   "source": [
    "Si no hubiera relación, no podría ser analizado, sería random."
   ]
  },
  {
   "cell_type": "markdown",
   "id": "b995f57c-89f1-4c6b-98c1-e990bf3ac6de",
   "metadata": {},
   "source": [
    "**¿Qué tan fuerte es esta relación?**\n",
    "Asumiendo que existe esta relación, ¿nos sirve conocer el impacto que tiene invertir en publicidad en las ventas?"
   ]
  },
  {
   "cell_type": "markdown",
   "id": "9db8e39d-3186-4bb1-a628-962e28b763c8",
   "metadata": {},
   "source": [
    "Parece ser fuerte, se denota unaalta diferencia entre los que invierten mucho en publicidad de radio y los que no tanto. Siguiendo así, la diferencia de publicidad de TV, dentro de los que invierten mucho en publicidad de radio"
   ]
  },
  {
   "cell_type": "markdown",
   "id": "2d956cb0-455e-4d3d-81ed-5c5c0b182173",
   "metadata": {},
   "source": [
    "**¿Cuáles medios están asociados con las ventas? ¿Qué tan grande es la asociación entre un medio específico y las ventas?**\n",
    "\n",
    "Hay 3 medios distintos en los datos. ¿Sirve invertir en los 3? ¿Conviene más invertir sólo en uno?\n",
    "\n",
    "**¿Qué tan seguros estamos de que podríamos predecir ventas futuras?**\n",
    "\n",
    "**¿La relación es lineal?**\n",
    "\n",
    "**¿Hay sinergia entre estos medios?**\n",
    "\n",
    "Puede ser que gastar \\\\$50,000 en publicidad y otros \\\\$50,000 en radio es mejor opción que gastar \\\\$100,000 en televisión. A esto le llamamos efecto de interacción.\n",
    "\n",
    "Podemos usar regresión lineal para responder todas estas preguntas."
   ]
  },
  {
   "cell_type": "markdown",
   "id": "2506e346-d97b-4d72-bdfc-089f3e194986",
   "metadata": {},
   "source": [
    "Parecer ser que invertir solo en uno no es conveniente ya que radio aún se ve viable, pero si destaca el hecho de que peridódico es casi obsoleto, comparando la hilera 1 con la 40, que en TV y radio son muy similares, podemos ver que tomó más de doble en periódico para subir la venta un 0.6, por ello no valdría la pena. Consideraría invertir solamente en radio y TV. TV parece por mucho el más eficiente; comparando la gilera 131 y 137, se nota el cambio de casi 8 puntos en ventas, por 25 aumentados de TV.\n",
    "\n",
    "Sería confiable predecirlo, considerando que ya es un patrón con 200 ejemplos.\n",
    "\n",
    "La relación es lineal, debido a que es una proporción directa, si sube la inversión, suben las ventas.\n",
    "\n",
    "Pareciera que hay sinergía entr TV y radio al ir incrementando.\n"
   ]
  },
  {
   "cell_type": "markdown",
   "id": "7c97db88-c3d0-42a9-9822-334a55b0c3f8",
   "metadata": {},
   "source": [
    "## Regresión lineal simple"
   ]
  },
  {
   "cell_type": "markdown",
   "id": "cc7c15a0-cc8a-49f2-8bd0-96bd0c296afd",
   "metadata": {},
   "source": [
    "Un método sencillo para predecir una variable cuantitativa $Y$ dado un solo predictor $X$. Podemos escribir esta relación como:\n",
    "\n",
    "$$ Y \\approx \\beta_0 + \\beta_1 X$$\n",
    "\n",
    "Por ejemplo, si decimos que $X$ se refiere a lo gastado en publicidad de TV y que $Y$ son las ventas, podemos buscar:\n",
    "\n",
    "$$ \\text{ventas} \\approx \\beta_0 + (\\beta_1)(\\text{TV})$$"
   ]
  },
  {
   "cell_type": "markdown",
   "id": "af21181c-94f6-4eb2-8186-2dc3ce5653b1",
   "metadata": {},
   "source": [
    "A $\\beta_0$ y $\\beta_1$ se le conoce como los coeficientes o parámetros del modelo. Una vez que usamos los datos históricos para producir estimados $\\hat{\\beta_0}$ y $\\hat{\\beta_1}$, podemos predecir ventas futuras basándonos en lo gastado en publicidad en TV usando\n",
    "$$\\hat{y} = \\hat{\\beta_0} + \\hat{\\beta_1}x $$"
   ]
  },
  {
   "cell_type": "markdown",
   "id": "07ae52b6-daeb-4364-9092-2c8a25a56b2d",
   "metadata": {},
   "source": [
    "donde $\\hat{y}$ indica una predicción de $Y$ basado en $X = x$. (El símbolo $\\hat{ }$ se usa para hacer notar que es sólo una estimación de un parámetro desconocido)"
   ]
  },
  {
   "cell_type": "markdown",
   "id": "ee3b4835-9946-46e9-866a-61394526c72a",
   "metadata": {},
   "source": [
    "### Estimando coeficientes"
   ]
  },
  {
   "cell_type": "markdown",
   "id": "ae7d04ba-bb21-4540-bf56-331ad4329bbc",
   "metadata": {},
   "source": [
    "$\\beta_0$ y $\\beta_1$ son desconocidos. Se deben estimar usando los datos antes de poder predecir. \n",
    "\n",
    "$ (x_1, y_1), (x_2, y_2), ..., (x_n, y_n) $ representa $n$ observaciones, cada una con datos medidos para $X$ y $Y$."
   ]
  },
  {
   "cell_type": "markdown",
   "id": "69138e9f-f782-4f81-a69c-c602dd5a123f",
   "metadata": {},
   "source": [
    "El archivo de publicidad contiene observaciones de 200 mercados y presupuestos usados para publicidad en 3 medios. Nuestra meta actual es encontrar $\\hat{\\beta_0}$ y $\\hat{\\beta_1}$ tal que exista un modelo lineal que se ajuste bien a los datos ($y_i \\approx \\hat{\\beta_0} + \\hat{\\beta_1}x_i$  para $ i=1,...,n$)."
   ]
  },
  {
   "cell_type": "markdown",
   "id": "04bc799e-6602-48f5-ad6e-74b3fc91802e",
   "metadata": {},
   "source": [
    "Hay muchas formas de medir el ajuste de una curva; la más común es usar el criterio de los mínimos cuadrados. Si $y_i \\approx \\hat{\\beta_0} + \\hat{\\beta_1}x_i$ es una predicción de $Y$ basada en el valor número $i$ de $X$, entonces definimos el error/residuo como $e_i = y_i - \\hat{y_i}$. Este residuo es la diferencia entre el valor observado y el valor estimado por nuestro modelo lineal. Definimos la suma de los residuos cuadrados (RSS) como:\n",
    "$$ \\text{RSS} = e_1^2 + e_2^2 + ... + e_n^2 $$"
   ]
  },
  {
   "cell_type": "markdown",
   "id": "39b73961-5157-43af-8a27-19455355993d",
   "metadata": {},
   "source": [
    "Utiliza la función `minimize` del módulo `optimize` la librería `scipy` para estimar los parámetros del modelo."
   ]
  },
  {
   "cell_type": "code",
   "execution_count": 5,
   "id": "cd1f2dcd-430e-4b21-922f-456d27f4449a",
   "metadata": {},
   "outputs": [
    {
     "data": {
      "text/plain": [
       "  message: Desired error not necessarily achieved due to precision loss.\n",
       "  success: False\n",
       "   status: 2\n",
       "      fun: 2102.530583132557\n",
       "        x: [ 7.033e+00  4.754e-02]\n",
       "      nit: 4\n",
       "      jac: [ 0.000e+00 -3.052e-05]\n",
       " hess_inv: [[ 1.014e-02 -5.159e-05]\n",
       "            [-5.159e-05  3.486e-07]]\n",
       "     nfev: 110\n",
       "     njev: 36"
      ]
     },
     "execution_count": 5,
     "metadata": {},
     "output_type": "execute_result"
    }
   ],
   "source": [
    "import numpy as np\n",
    "import scipy.optimize as opt\n",
    "import pandas as pd\n",
    "import matplotlib.pyplot as plt\n",
    "\n",
    "TV = pd.read_csv(\"Advertising.csv\",usecols=[\"TV\"])\n",
    "VENTAS = pd.read_csv(\"Advertising.csv\",usecols = [\"sales\"])\n",
    "\n",
    "\n",
    "n = len(VENTAS)\n",
    "ones = np.ones([n,1])\n",
    "X = np.hstack((ones,TV))\n",
    "y = np.reshape(VENTAS,[200,1])\n",
    "beta = np.random.rand(2)\n",
    "y_prediccion = X @ beta  \n",
    "def func_costo(beta,X,y): \n",
    "    beta = np.reshape(beta,[2,1])\n",
    "    y_prediccion = X @ beta   \n",
    "    error = y_prediccion - y\n",
    "    rss = error.T @ error\n",
    "    return rss[0,0]\n",
    "f = opt.minimize(func_costo,beta,args=(X,y))\n",
    "f"
   ]
  },
  {
   "cell_type": "code",
   "execution_count": null,
   "id": "5575f6b0-9d15-4dda-887f-800f242f9eef",
   "metadata": {},
   "outputs": [],
   "source": []
  },
  {
   "cell_type": "markdown",
   "id": "25f222c0-971d-47cb-9e51-3fd1f2c94d56",
   "metadata": {},
   "source": [
    "Al resolver el problema analíticamente se encuentra:\n",
    "\n",
    "$$ \\hat{\\beta_1} = \\frac{\\sum_{i=1}^n (x_i - \\bar{x})(y_i - \\bar{y})}{\\sum_{i=1}^n (x_i - \\bar{x})^2} $$\n",
    "\n",
    "$$ \\hat{\\beta_0} = \\bar{y} - \\hat{\\beta_1}\\bar{x} $$\n"
   ]
  },
  {
   "cell_type": "markdown",
   "id": "92aa36b1-c75a-40a5-9a73-5e3e1b73ce22",
   "metadata": {},
   "source": [
    "Compara las estimaciones que encontraste con `minimize` con las que se encuentran con la fórmula dada arriba ($\\bar{x}$ y $\\bar{y}$ son las medias muestrales)."
   ]
  },
  {
   "cell_type": "code",
   "execution_count": 7,
   "id": "251faf27-08a7-411d-9030-5cb2c6a28223",
   "metadata": {},
   "outputs": [
    {
     "data": {
      "text/plain": [
       "('Con fórmula : 7.032593549127704  0.04753664043301969',\n",
       " 'Con regresión : 7.032597726468651  0.04753661176574212')"
      ]
     },
     "execution_count": 7,
     "metadata": {},
     "output_type": "execute_result"
    }
   ],
   "source": [
    "TVavg = pd.read_csv(\"Advertising.csv\",usecols=[\"TV\"]).mean()\n",
    "VENTASavg = pd.read_csv(\"Advertising.csv\",usecols = [\"sales\"]).mean()\n",
    "tvEVOL = np.reshape(TV,200)\n",
    "yEVOL = np.reshape(VENTAS,200)\n",
    "def beta_uno():\n",
    "    suma1= 0\n",
    "    suma2= 0\n",
    "    for i in range (n):\n",
    "        suma_uno = (tvEVOL[i]-TVavg.iloc[0])*(yEVOL[i]-VENTASavg.iloc[0])\n",
    "        suma_unodos = (tvEVOL[i]-TVavg.iloc[0])**2\n",
    "        suma1 += suma_uno\n",
    "        suma2 += suma_unodos\n",
    "    return suma1/suma2\n",
    "        \n",
    "beta1 = beta_uno()\n",
    "\n",
    "def beta_cero():\n",
    "    for i in range (200):\n",
    "        beta_cero = (VENTASavg.iloc[0])-(beta1*TVavg.iloc[0])\n",
    "        \n",
    "    return beta_cero\n",
    "beta0 = beta_cero()\n",
    "\n",
    "betas = \"Con fórmula : \"+ str(beta0) + \"  \"+str(beta1)\n",
    "efes = \"Con regresión : \"+ str(f.x[0]) + \"  \"+ str(f.x[1])\n",
    "betas, efes"
   ]
  },
  {
   "cell_type": "markdown",
   "id": "ffa70e29-4952-4769-9aec-5e542effb89d",
   "metadata": {},
   "source": [
    "Son iguales en sus primeros digitos, pero va perdiendo precisión"
   ]
  },
  {
   "cell_type": "markdown",
   "id": "6d5fa1f1-821f-4f72-be0d-5db0b93960f6",
   "metadata": {},
   "source": [
    "Crea una gráfica donde se muestren las observaciones como una nube de puntos y la línea que ajustaste con regresión."
   ]
  },
  {
   "cell_type": "code",
   "execution_count": 9,
   "id": "8bd1a705-aedb-4a8e-b6c8-566a7423da45",
   "metadata": {},
   "outputs": [
    {
     "data": {
      "text/plain": [
       "<matplotlib.legend.Legend at 0x153b48c4ad0>"
      ]
     },
     "execution_count": 9,
     "metadata": {},
     "output_type": "execute_result"
    },
    {
     "data": {
      "image/png": "[encoded data removed]",
      "text/plain": [
       "<Figure size 640x480 with 1 Axes>"
      ]
     },
     "metadata": {},
     "output_type": "display_data"
    }
   ],
   "source": [
    "plt.figure()\n",
    "plt.scatter(TV,VENTAS, label =(\"inversiones\"), s=8)\n",
    "plt.grid()\n",
    "plt.ylabel(\"VENTAS\")\n",
    "plt.xlabel(\"TV\")\n",
    "plt.title(\"VENTAS * TV\")\n",
    "plt.plot(TV,f.x[0] + f.x[1]*TV,\"r\",linewidth = 2,label=(\"regresión linea\"))\n",
    "plt.plot(TV,beta0 + beta1*TV,\"g\", linewidth= 1,label= (\"minimos cuadrados\"))\n",
    "plt.legend(loc=(\"lower right\"))"
   ]
  },
  {
   "cell_type": "markdown",
   "id": "28ba843a-c9e4-41ca-aacd-fa767e6e98fd",
   "metadata": {},
   "source": [
    "### Verificando la precisión de nuestros coeficientes estimados"
   ]
  },
  {
   "cell_type": "markdown",
   "id": "003047bc-00c1-4abc-a38a-2b6d0bc7b72f",
   "metadata": {},
   "source": [
    "Recuerda que en el mundo real hay ruidos y errores de medición. Siempre se asume que la verdadera relación entre $X$ y $Y$ es $$Y = \\beta_0 + \\beta_1 X + \\epsilon$$"
   ]
  },
  {
   "cell_type": "markdown",
   "id": "c4f95e02-9178-4c24-baa8-62d1f3340d71",
   "metadata": {},
   "source": [
    "Se asume que el término de error es independiente de $X$ (el error siempre es el mismo sin importar el valor de $X$). Este modelo describe a la *línea de regresión de la población*, que es la mejor aproximación de la verdadera relación entre $X$ y $Y$. Cuando usamos mínimos cuadrados encontramos la *línea de mínimos cuadrados*."
   ]
  },
  {
   "cell_type": "markdown",
   "id": "6212c629-4064-4ec6-8569-3c28b27fcddb",
   "metadata": {},
   "source": [
    "¿Cuál es la diferencia entre población y muestra?"
   ]
  },
  {
   "cell_type": "markdown",
   "id": "a5d5282f-8f1c-43d2-bb8d-cf376c69b670",
   "metadata": {},
   "source": [
    "**la población es la totalidad de dondese extrae un \"pedazo\" que es la muestra.**\n",
    "\n"
   ]
  },
  {
   "cell_type": "markdown",
   "id": "54072a4b-5d31-4d69-917f-c129ecbe8ad0",
   "metadata": {},
   "source": [
    "¿Cuál crees que sea la diferencia entre hacer una regresión con todos los datos de la población y una muestra de ella?"
   ]
  },
  {
   "cell_type": "markdown",
   "id": "2a37096b-0831-4aaa-86ba-315cfc230e08",
   "metadata": {},
   "source": [
    "**Una muestra de ella puede tener cesgos, por lo que tiene un margen de error ya que no cubre el espectro completo con la TOTALIDAD  de excepciones.**"
   ]
  },
  {
   "cell_type": "markdown",
   "id": "5cb524d1-2aff-45ff-ac79-3d55cc38d016",
   "metadata": {},
   "source": [
    "La línea de regresión de la población no se puede observar. El concepto de comparar estas líneas es una extensión natural del acercamiento estadístico estándar de usar información de una muestra para estimar características de una población grande."
   ]
  },
  {
   "cell_type": "markdown",
   "id": "62dfac4e-2aa9-4b77-8852-4e6f3654b12b",
   "metadata": {},
   "source": [
    "\n",
    "Imagina que quieres encontrar la altura promedio de un mexicano $\\mu$. Medir a todos y cada uno de los mexicanos en situaciones similares, con la misma regla, mismo operador, y otras incontables formas de minimizar la variación de la medida es una tarea imposible. Lo que podemos asumir es que $\\hat{\\mu} = \\bar{y}$. La media poblacional y la media muestral son diferentes, pero la media muestral es usualmente un buen estimado.\n",
    "\n",
    "De la misma manera, como no contamos con el 100% de la información para hacer una regresión, los coeficientes $\\beta_0$ y $\\beta_1$ son desconocidos. Podemos estimarlos usando mínimos cuadrados, encontrando $\\hat{\\beta_0}$ y $\\hat{\\beta_1}$. Puede que las muestras que tengamos en ese momento estén un poco por encima de la media, pero otras muestras en otro momento puede que estén debajo de la media. En general, esperamos que el promedio de las aproximaciones $\\hat{\\mu}$ aproxime a $\\mu$."
   ]
  },
  {
   "cell_type": "markdown",
   "id": "c92823d6-7d21-4921-9a28-551bf115a3f0",
   "metadata": {},
   "source": [
    "Esto lleva a la pregunta: ¿qué tan cercanos son nuestros coeficientes estimados a los verdaderos coeficientes? Utilizamos el concepto de error estándar para evaluar esto.\n",
    "\n",
    "$$ \\text{Var}(\\hat{\\mu})=\\text{SE}(\\hat{\\mu})^2 = \\frac{\\sigma^2}{n} $$\n",
    "\n",
    "Donde $\\sigma$ es la desviación estándar de cada una de las observaciones $y_i$ de $Y$. El error estándar nos dice la cantidad promedio que el estimado difiere del valor verdadero. Podemos ver en la fórmula que entre más observaciones tengamos el error se hace más pequeño. Las fórmulas para errores estándar de $\\hat{\\beta_0}$ y $\\hat{\\beta_1}$ son:\n",
    "\n",
    "$$ \\text{SE}(\\hat{\\beta_0})^2 = \\sigma^2 [\\frac{1}{n} + \\frac{\\bar{x}^2}{\\sum_{i=1}^n (x_i - \\bar{x})^2}]$$\n",
    "\n",
    "$$ \\text{SE}(\\hat{\\beta_1})^2 = \\frac{\\sigma^2}{\\sum_{i=1}^n (x_i - \\bar{x})^2}$$\n",
    "\n",
    "$$ \\sigma^2 = \\text{Var}(\\epsilon) = \\text{RSE}^2 = \\frac{\\text{RSS}}{n-2}$$"
   ]
  },
  {
   "cell_type": "markdown",
   "id": "328aeb35-d85b-4c86-91cd-141d93d9a2b1",
   "metadata": {},
   "source": [
    "Para que estas fórmulas sean validas asumimos que los errores $\\epsilon_i$ tienen varianza común $\\sigma^2$ y que no están correlacionados.\n",
    "\n",
    "Calcula los errores estándar de los coeficientes"
   ]
  },
  {
   "cell_type": "code",
   "execution_count": 95,
   "id": "4ccf8476-5043-410d-b895-f2258f1844b1",
   "metadata": {},
   "outputs": [
    {
     "data": {
      "text/plain": [
       "(0.26987887098671887, 0.002690607187797641)"
      ]
     },
     "execution_count": 95,
     "metadata": {},
     "output_type": "execute_result"
    }
   ],
   "source": [
    "rss = f.fun\n",
    "rss\n",
    "sigmasqr = rss/(n-2)\n",
    "\n",
    "def SE_beta1_cuad():\n",
    "    SE_beta1 = 0\n",
    "    for i in range(n):\n",
    "        SE_beta1 += (tvEVOL[i]-TVavg.iloc[0])**2\n",
    "    return SE_beta1\n",
    "\n",
    "sumatoria = SE_beta1_cuad()\n",
    "\n",
    "SE_beta_uno = np.sqrt(sigmasqr/sumatoria)\n",
    "\n",
    "dentro = ((1/n) + ((TVavg.iloc[0])**2/sumatoria))\n",
    "SE_beta_cero = np.sqrt(sigmasqr*(1/n) + (dentro))\n",
    "\n",
    "SE_beta_cero,SE_beta_uno\n",
    "#0.26"
   ]
  },
  {
   "cell_type": "code",
   "execution_count": null,
   "id": "7e5ea50c-f5b6-4961-afff-76ff082f954c",
   "metadata": {},
   "outputs": [],
   "source": [
    "\n"
   ]
  },
  {
   "cell_type": "code",
   "execution_count": null,
   "id": "d5dcabd3-bde8-44e1-9c8f-e603ebb44ac8",
   "metadata": {},
   "outputs": [],
   "source": []
  },
  {
   "cell_type": "markdown",
   "id": "49c25f66-e401-4b4c-b5b2-c3ab744cefa8",
   "metadata": {},
   "source": [
    "Estos errores se pueden usar para calcular intervalos de confianza. Un intervalo de confianza del $95\\%$ se define como un rango de valores en el cuál se encuentra el desconocido valor verdadero con un $95\\%$ de probabilidad.\n",
    "\n",
    "Otra forma de verlo es que si tomamos muestras repetidas y construimos un intervalo de confianza para cada una, el $95\\%$ de los intervalos creados van a contener el valor verdadero. Para la regresión el intervalo de confianza del $95\\%$ toma la forma:\n",
    "\n",
    "$$ \\hat{\\beta_j} \\pm \\text{SE}(\\hat{\\beta_j})$$"
   ]
  },
  {
   "cell_type": "markdown",
   "id": "ae52aa71-21a6-41d8-a2ed-5205575cbb96",
   "metadata": {},
   "source": [
    "Calcula los intervalos de confianza para los coeficientes estimados:"
   ]
  },
  {
   "cell_type": "code",
   "execution_count": 93,
   "id": "bd630c11-6fa4-4c29-aef6-7541ca1b3fff",
   "metadata": {},
   "outputs": [
    {
     "name": "stdout",
     "output_type": "stream",
     "text": [
      "intervalos de Beta 0, inferior: 6.492835807154266 superior: 7.572351291101142\n",
      "intervalos de Beta 1, inferior: 0.04215542605742441 superior: 0.05291785480861497\n"
     ]
    }
   ],
   "source": [
    "#IC : intervalo de confianza\n",
    "ICBeta0_sup = beta0 + 2*SE_beta_cero\n",
    "ICBeta0_inf = beta0 - 2*SE_beta_cero\n",
    "\n",
    "ICBeta1_sup = beta1 + 2*SE_beta_uno\n",
    "ICBeta1_inf = beta1 - 2*SE_beta_uno\n",
    "\n",
    "print(\"intervalos de Beta 0, inferior: \"+ str(ICBeta0_inf) +\" superior: \"+ str(ICBeta0_sup))\n",
    "print(\"intervalos de Beta 1, inferior: \"+ str(ICBeta1_inf) +\" superior: \"+ str(ICBeta1_sup))\n",
    "\n"
   ]
  },
  {
   "cell_type": "code",
   "execution_count": null,
   "id": "01e64ec4-7f78-4d3d-b153-a35d5cbeb2e5",
   "metadata": {},
   "outputs": [],
   "source": []
  },
  {
   "cell_type": "markdown",
   "id": "7f20885e-d24d-4d1a-b04a-9cc56bbe2aca",
   "metadata": {},
   "source": [
    "Los errores estándar también se usan para realizar pruebas de hipótesis. La prueba de hipótesis más común es probar la hipótesis nula de:\n",
    "\n",
    "$$ H_0: \\text{No hay relación entre } X \\text{ y } Y \\ \\ \\ \\ (\\beta_1=0)$$"
   ]
  },
  {
   "cell_type": "markdown",
   "id": "23bd130f-6f52-470c-ad15-b476f595a880",
   "metadata": {},
   "source": [
    "contra la hipótesis alternativa:\n",
    "$$ H_0: \\text{Hay alguna relación entre } X \\text{ y } Y \\ \\ \\ (\\beta_1 \\neq 0)$$"
   ]
  },
  {
   "cell_type": "markdown",
   "id": "50302a91-3b88-470e-9091-11f9730f2c3e",
   "metadata": {},
   "source": [
    "Explica con tus palabras el significado de la hipótesis nula y la hipótesis alternativa."
   ]
  },
  {
   "cell_type": "markdown",
   "id": "45b59140-9cab-41ce-acbb-566882aa99ec",
   "metadata": {},
   "source": [
    "La hipotesis nula es establecer la falta de relación en presencia de una $(\\beta_1=0)$ directamente, donde directamente se relaciona el 0 con no tener; no obstante, la hipótesis alternativa consiste en establecer una relación con respecto a $\\beta_1 $, cuando $(\\beta_1 \\neq 0)$"
   ]
  },
  {
   "cell_type": "markdown",
   "id": "35d354f6-01ab-42ee-a2e0-e0a2ea658002",
   "metadata": {},
   "source": []
  },
  {
   "cell_type": "markdown",
   "id": "5a089c32-edde-4374-b910-ecbcc6903bbe",
   "metadata": {},
   "source": [
    "Para probal la hipótesis nula debemos determinar si nuestro estimado $\\hat{\\beta_1}$ de $\\beta_1$ está lo suficientemente alejado de cero para que podamos decir con confianza que este valor no es cero. \n",
    "\n",
    "¿Qué tan lejos? Depende de qué tanta confianza tengamos en el estimado encontrado. Si nuestro error estándar es pequeño y nuestro estimado está alejado de cero podríamos decir que hay muy poca probabilidad de que el valor verdadero sea 0. En cambio, si nuestro error estándar es grande y nuestro estimado está muy cerca de cero, entonces podrías ser que el valor verdadero sea cero y que no haya relación entre las variables."
   ]
  },
  {
   "cell_type": "markdown",
   "id": "40c6b1e2-0db8-456c-bc18-2e3d450fba15",
   "metadata": {},
   "source": [
    "Se calcula un *estadístico t* dado por\n",
    "$$ t = \\frac{\\hat{\\beta_j} - \\mu}{\\text{SE}(\\hat{\\beta_j})} $$"
   ]
  },
  {
   "cell_type": "markdown",
   "id": "ebcb14f0-b828-486b-88f4-8bd4599e3a24",
   "metadata": {},
   "source": [
    "donde $\\mu$ es el valor contra el que queremos probar.\n",
    "\n",
    "Calcula el estadístico t para tus coeficientes estimados, usando como referencia la prueba de hipótesis."
   ]
  },
  {
   "cell_type": "code",
   "execution_count": 109,
   "id": "6abadc35-481c-4a3f-8c51-43bcd864da8d",
   "metadata": {},
   "outputs": [
    {
     "name": "stdout",
     "output_type": "stream",
     "text": [
      "en beta0: 26.058333219697616\n",
      "en beta1: 17.667625600870466\n",
      "Resultando números grandes\n"
     ]
    }
   ],
   "source": [
    "#Utilizando prueba de hipótesis nula\n",
    "\n",
    "t1 = (beta1-0)/SE_beta_uno\n",
    "t2= (beta0-0)/SE_beta_cero\n",
    "print(\"en beta0: \"+ str(t2))\n",
    "print(\"en beta1: \"+ str(t1))\n",
    "print(\"Resultando números grandes\")"
   ]
  },
  {
   "cell_type": "code",
   "execution_count": null,
   "id": "22d55385-f03e-47df-9124-4c54e6900b1b",
   "metadata": {},
   "outputs": [],
   "source": []
  },
  {
   "cell_type": "markdown",
   "id": "3351c7b7-76e3-43b3-b6fb-f387278d47d2",
   "metadata": {},
   "source": [
    "La distribución t tiene forma de campana y se parece bastante a la distribución normal cuando $n > 30$. Ya sólo es cuestión de calcular la probabilidad de observar cualquier número tal que su valor absoluto sea igual o mayor que el valor absoluto del estadístico t calculado. En otras palabras:\n",
    "$$ P(|x| \\geq |t|) $$"
   ]
  },
  {
   "cell_type": "markdown",
   "id": "1e27483e-c968-4ffd-942a-4e95196a275a",
   "metadata": {},
   "source": [
    "A esta probabilidad la llamamos *p-value*. Un *p-value* pequeño indica que es poco probable que exista por puro azar una relación significativa entre predictor y respuesta, en caso de que no haya una asociación real entre predictor y respuesta. En otras palabras, el *p-value* te dice la probabilidad de que parezca que hay relación cuando no la hay.\n",
    "\n",
    "Si el *p-value* es pequeño, inferimos que sí hay una asociación entre el predictor y la respuesta, y **rechazamos la hipótesis nula**.\n",
    "  "
   ]
  },
  {
   "cell_type": "markdown",
   "id": "c81be623-6485-428f-82de-f21f3da91bbe",
   "metadata": {},
   "source": [
    "¿Qué tan pequeño? Depende de la aplicación. Un valor muy común es del $5\\%$.\n",
    "\n",
    "Utiliza el siguiente código para calcular el *p-value* para tus coeficientes\n",
    "\n",
    "`from scipy import stats`\n",
    "\n",
    "`p_bj = 2*(1 - stats.t.cdf(np.abs(t_bj), n-2))`"
   ]
  },
  {
   "cell_type": "code",
   "execution_count": 107,
   "id": "e865bda7-250d-477f-8978-b9f9eeacef64",
   "metadata": {},
   "outputs": [
    {
     "data": {
      "text/plain": [
       "(0.0, 0.0)"
      ]
     },
     "execution_count": 107,
     "metadata": {},
     "output_type": "execute_result"
    }
   ],
   "source": [
    "from scipy import stats\n",
    "\n",
    "p_beta1 = 2*(1 - stats.t.cdf(np.abs(t1), n-2))\n",
    "\n",
    "p_beta0 = 2*(1 - stats.t.cdf(np.abs(t2), n-2))\n",
    "\n",
    "p_beta1, p_beta0"
   ]
  },
  {
   "cell_type": "markdown",
   "id": "fed5f2b8-0af7-40c9-8016-cebd6831935a",
   "metadata": {},
   "source": [
    "\n",
    "¿Se rechaza la hipótesis nula? ¿Qué significa?"
   ]
  },
  {
   "cell_type": "markdown",
   "id": "5af2fc39-4dc4-440e-8d82-4d6f67931da2",
   "metadata": {},
   "source": [
    "Para $\\beta_1 $ se tiene un *p_value* considerable, aunque para $\\beta_0 $ se tiene un valor diminuto por lo que es menos del 5% y se puede rechazar la hipótesis nula para $\\beta_0 $. Indicando que es muy poco probable y que prácticamente no exsite relación entre predictor y respuesta."
   ]
  },
  {
   "cell_type": "markdown",
   "id": "67df9156-db8f-413a-87ed-b1588de8f813",
   "metadata": {},
   "source": [
    "### Verificando la precisión del modelo"
   ]
  },
  {
   "cell_type": "markdown",
   "id": "5a15f1df-fed5-4f21-9665-8f81f590f1d6",
   "metadata": {},
   "source": [
    "Si ya tenemos unos coeficientes de regresión estimados y ya verificamos que la probabilidad de que sí hay relación entre predictor y respuesta es alta. ¿Cómo medimos qué tan bueno es nuestro modelo para predecir?\n",
    "- RSE (Residual Standard Error)\n",
    "- $R^2$"
   ]
  },
  {
   "cell_type": "markdown",
   "id": "87e53256-a80b-4f88-843c-9fa9a29ee142",
   "metadata": {},
   "source": [
    "#### $R^2$"
   ]
  },
  {
   "cell_type": "markdown",
   "id": "5773edfe-16c3-4246-adce-bb003f3bb597",
   "metadata": {},
   "source": [
    "El RSE se mide con unidades de $Y$, así que no siempre se puede saber cuál es un buen valor. Imagina que tienes un $Y$ con valores entre $-1$ y $1$, y que tienes otro $Y$ con valores entre $1'000,000$ y $100'000,000$. Los errores cuadrados van a ser mucho mayores en el segundo caso que en el primero, pero esto no significa que el modelo creado en el segundo caso sea malo.\n",
    "\n",
    "El estadístico $R^2$ es una medida de ajuste. Su valor es la proporción de la varianza sí explicada, así que siempre toma valores entre $0$ y $1$. Su fórmula es:\n",
    "\n",
    "$$ R^2 = \\frac{\\text{TSS} - \\text{RSS}}{\\text{TSS}} = 1 - \\frac{\\text{RSS}}{\\text{TSS}}$$\n",
    "$$ \\text{TSS} = \\sum_{i=1}^n (y_i - \\bar{y})^2$$"
   ]
  },
  {
   "cell_type": "markdown",
   "id": "afc748e3-061a-4af7-b123-cffedfc04a2e",
   "metadata": {},
   "source": [
    "TSS mide la varianza total de $Y$. RSS mide la varianza que queda sin explicarse después de la regresión. Entonces TSS-RSS mide la varianza que sí está explicada.\n",
    "\n",
    "$R^2$ mide la proporción de la varianza en $Y$ que puede ser explicada usando $X$.\n",
    "\n",
    "Calcula el estadístico $R^2$. ¿Cuánta varianza quedó sin explicar?"
   ]
  },
  {
   "cell_type": "code",
   "execution_count": 113,
   "id": "6504e6b2-0c22-491c-8c2b-93518a11b689",
   "metadata": {},
   "outputs": [
    {
     "data": {
      "text/plain": [
       "0.6118750508498483"
      ]
     },
     "execution_count": 113,
     "metadata": {},
     "output_type": "execute_result"
    }
   ],
   "source": [
    "def tss():\n",
    "    tss = 0\n",
    "    for i in range(n):\n",
    "        tss += (yEVOL[i]-VENTASavg.iloc[0])**2\n",
    "    return tss\n",
    "tss= tss()\n",
    "Rcuad = (1-(rss/tss))\n",
    "Rcuad"
   ]
  },
  {
   "cell_type": "code",
   "execution_count": 456,
   "id": "1818c0e2-897d-4af4-9e74-0a6a9163c6a7",
   "metadata": {},
   "outputs": [
    {
     "name": "stdout",
     "output_type": "stream",
     "text": [
      "Queda : 0.3881249491501517 de varianza sin explicar\n"
     ]
    }
   ],
   "source": [
    "VASE= 1-Rcuad\n",
    "print(\"Queda : \"+ str(VASE) + \" de varianza sin explicar\")"
   ]
  },
  {
   "cell_type": "markdown",
   "id": "e6c2cdfd-99ff-47e1-8ab1-50abe74b594e",
   "metadata": {},
   "source": [
    "Realiza otras dos regresiones. Ya tienes hecha la regresión de ventas dado el gasto en publicidad de TV. Realiza la regresión para gastos en radio y gastos en periódico. Organiza las respuestas para que debajo de esta celda se tenga:\n",
    "- Título de regresión\n",
    "- Coeficientes estimados\n",
    "- Errores estándar de los coeficientes\n",
    "- Intervalos de confianza\n",
    "- Estadísticos t\n",
    "- p-values\n",
    "- Observaciones"
   ]
  },
  {
   "cell_type": "markdown",
   "id": "0cd1d895-3e29-48e9-9af7-0691048cf68d",
   "metadata": {},
   "source": [
    "# REGRESIÓN LINEAL VENTAS * RADIO"
   ]
  },
  {
   "cell_type": "markdown",
   "id": "f63d0014-58f5-416d-be99-83cf31361d00",
   "metadata": {},
   "source": [
    "## COEFICIENTES ESTIMADOS (V*R)"
   ]
  },
  {
   "cell_type": "code",
   "execution_count": 117,
   "id": "8512a900-31d1-49f3-811f-91bb3d73cd8a",
   "metadata": {},
   "outputs": [
    {
     "data": {
      "text/plain": [
       "('Con fórmula : 9.311638095158287  0.20249578339243954',\n",
       " 'Con regresión : 9.311638817165495  0.20249575384941934')"
      ]
     },
     "execution_count": 117,
     "metadata": {},
     "output_type": "execute_result"
    }
   ],
   "source": [
    "import numpy as np\n",
    "import scipy.optimize as opt\n",
    "import pandas as pd\n",
    "import matplotlib.pyplot as plt\n",
    "\n",
    "RAD = pd.read_csv(\"Advertising.csv\",usecols=[\"radio\"])\n",
    "VENTAS = pd.read_csv(\"Advertising.csv\",usecols = [\"sales\"])\n",
    "\n",
    "\n",
    "n = len(VENTAS)\n",
    "ones = np.ones([n,1])\n",
    "X2 = np.hstack((ones,RAD))\n",
    "y2 = np.reshape(VENTAS,[200,1])\n",
    "beta2 = np.random.rand(2)\n",
    "y_prediccion2 = X2 @ beta2  \n",
    "def func_costo2(beta2,X2,y2): \n",
    "    beta2 = np.reshape(beta2,[2,1])\n",
    "    y_prediccion2 = X2 @ beta2   \n",
    "    error2 = y_prediccion2 - y2\n",
    "    rss2 = error2.T @ error2\n",
    "    return rss2[0,0]\n",
    "f2 = opt.minimize(func_costo2,beta2,args=(X2,y2))\n",
    "\n",
    "\n",
    "RADavg = pd.read_csv(\"Advertising.csv\",usecols=[\"radio\"]).mean()\n",
    "VENTASavg = pd.read_csv(\"Advertising.csv\",usecols = [\"sales\"]).mean()\n",
    "radEVOL = np.reshape(RAD,200)\n",
    "yEVOL = np.reshape(VENTAS,200)\n",
    "def beta_uno2():\n",
    "    suma12= 0\n",
    "    suma22= 0\n",
    "    for i in range (n):\n",
    "        suma_uno2 = (radEVOL[i]-RADavg.iloc[0])*(yEVOL[i]-VENTASavg.iloc[0])\n",
    "        suma_unodos2 = (radEVOL[i]-RADavg.iloc[0])**2\n",
    "        suma12 += suma_uno2\n",
    "        suma22 += suma_unodos2\n",
    "    return suma12/suma22\n",
    "        \n",
    "beta12 = beta_uno2()\n",
    "\n",
    "def beta_cero2():\n",
    "    for i in range (n):\n",
    "        beta_cero2 = (VENTASavg.iloc[0])-(beta12*RADavg.iloc[0])\n",
    "        \n",
    "    return beta_cero2\n",
    "beta02 = beta_cero2()\n",
    "\n",
    "betas2 = \"Con fórmula : \"+ str(beta02) + \"  \"+str(beta12)\n",
    "efes2 = \"Con regresión : \"+ str(f2.x[0]) + \"  \"+ str(f2.x[1])\n",
    "betas2, efes2\n",
    "\n"
   ]
  },
  {
   "cell_type": "code",
   "execution_count": 119,
   "id": "995913fc-1696-4f29-b5f9-3a7d792a362e",
   "metadata": {
    "scrolled": true
   },
   "outputs": [
    {
     "data": {
      "text/plain": [
       "<matplotlib.legend.Legend at 0x153b66953d0>"
      ]
     },
     "execution_count": 119,
     "metadata": {},
     "output_type": "execute_result"
    },
    {
     "data": {
      "image/png": "[encoded data removed]",
      "text/plain": [
       "<Figure size 640x480 with 1 Axes>"
      ]
     },
     "metadata": {},
     "output_type": "display_data"
    }
   ],
   "source": [
    "plt.figure()\n",
    "plt.scatter(RAD,VENTAS, label =(\"inversiones\"), s=8)\n",
    "plt.grid()\n",
    "plt.ylabel(\"VENTAS\")\n",
    "plt.xlabel(\"RADIO\")\n",
    "plt.title(\"VENTAS * RADIO\")\n",
    "plt.plot(RAD,f2.x[0] + f2.x[1]*RAD,\"r\",linewidth = 2,label=(\"regresión linea\"))\n",
    "plt.plot(RAD,beta02 + beta12*RAD,\"g\", linewidth= 1,label= (\"min. cuadrados\"))\n",
    "plt.legend(loc=(\"lower right\"))"
   ]
  },
  {
   "cell_type": "markdown",
   "id": "698016d8-32a4-47d5-b229-9f2ede307e49",
   "metadata": {},
   "source": [
    "## SE coeficientes (V*R)"
   ]
  },
  {
   "cell_type": "code",
   "execution_count": 133,
   "id": "1e97f38b-7d4e-44aa-8800-de951d04d506",
   "metadata": {},
   "outputs": [
    {
     "data": {
      "text/plain": [
       "(0.020411306360090743, 3.016513650975361)"
      ]
     },
     "execution_count": 133,
     "metadata": {},
     "output_type": "execute_result"
    }
   ],
   "source": [
    "rss2 = f2.fun\n",
    "rss2\n",
    "sigmasqr2 = rss2/(n-2)\n",
    "\n",
    "def SE_beta1_cuad2():\n",
    "    SE_beta12 = 0\n",
    "    for i in range(n):\n",
    "        SE_beta12 += (radEVOL[i]-RADavg.iloc[0])**2\n",
    "    return SE_beta12\n",
    "\n",
    "sumatoria2 = SE_beta1_cuad2()\n",
    "\n",
    "SE_beta_uno2 = (sigmasqr2/sumatoria2)**(1/2)\n",
    "\n",
    "\n",
    "SE_beta_cero2 = (sigmasqr2*((1/n) + ((TVavg.iloc[0])**2/sumatoria2)))**(1/2)\n",
    "\n",
    "SE_beta_uno2, SE_beta_cero2"
   ]
  },
  {
   "cell_type": "markdown",
   "id": "84faf211-d3b5-4dbb-bfba-9797294408ed",
   "metadata": {},
   "source": [
    "## INTERVALOS DE CONFIANZA (V*R)"
   ]
  },
  {
   "cell_type": "code",
   "execution_count": 135,
   "id": "e39ed4f0-cbfd-42f6-ab69-5c6506208978",
   "metadata": {},
   "outputs": [
    {
     "name": "stdout",
     "output_type": "stream",
     "text": [
      "intervalos de Beta 1, inferior: 0.16167317067225806 superior: 0.24331839611262102\n",
      "intervalos de Beta 0, inferior: 3.278610793207565 superior: 15.344665397109008\n"
     ]
    }
   ],
   "source": [
    "#IC : intervalo de confianza\n",
    "ICBeta0_sup2 = beta02 + 2*SE_beta_cero2 \n",
    "ICBeta0_inf2 = beta02 - 2*SE_beta_cero2\n",
    "\n",
    "ICBeta1_sup2 = beta12 + 2*SE_beta_uno2\n",
    "ICBeta1_inf2 = beta12 - 2*SE_beta_uno2\n",
    "\n",
    "print(\"intervalos de Beta 1, inferior: \"+ str(ICBeta1_inf2) +\" superior: \"+ str(ICBeta1_sup2))\n",
    "print(\"intervalos de Beta 0, inferior: \"+ str(ICBeta0_inf2) +\" superior: \"+ str(ICBeta0_sup2))\n"
   ]
  },
  {
   "cell_type": "markdown",
   "id": "12abab94-5ed2-4782-b2b7-d8e61c2e400b",
   "metadata": {},
   "source": [
    "## T-STATS (V*R)"
   ]
  },
  {
   "cell_type": "code",
   "execution_count": 137,
   "id": "892fe4e2-0d91-4aea-992d-a375b76b96f8",
   "metadata": {},
   "outputs": [
    {
     "name": "stdout",
     "output_type": "stream",
     "text": [
      "en beta0: 3.0868874378033917\n",
      "en beta1: 9.9207654728249\n",
      "no es 0\n"
     ]
    }
   ],
   "source": [
    "#Utilizando prueba de hipótesis nula\n",
    "\n",
    "t12 = (beta12-0)/SE_beta_uno2\n",
    "t22= (beta02-0)/SE_beta_cero2\n",
    "print(\"en beta0: \"+ str(t22))\n",
    "print(\"en beta1: \"+ str(t12))\n",
    "print(\"no es 0\")"
   ]
  },
  {
   "cell_type": "markdown",
   "id": "b5f695f5-b39a-41f4-a4d7-747f9396879e",
   "metadata": {},
   "source": [
    "## P-VALUES (V*R)"
   ]
  },
  {
   "cell_type": "code",
   "execution_count": 139,
   "id": "11f5cf49-236c-4352-91ce-f08626505843",
   "metadata": {},
   "outputs": [
    {
     "data": {
      "text/plain": [
       "(0.0, 0.002312520033069587)"
      ]
     },
     "execution_count": 139,
     "metadata": {},
     "output_type": "execute_result"
    }
   ],
   "source": [
    "from scipy import stats\n",
    "p_beta12 = 2*(1 - stats.t.cdf(np.abs(t12), n-2))\n",
    "p_beta02 = 2*(1 - stats.t.cdf(np.abs(t22), n-2))\n",
    "\n",
    "p_beta12,p_beta02\n",
    "\n"
   ]
  },
  {
   "cell_type": "markdown",
   "id": "cae1c65e-5bff-47f7-b969-647022d9ebaa",
   "metadata": {},
   "source": [
    "## OBSERVACIONES (V*R)"
   ]
  },
  {
   "cell_type": "code",
   "execution_count": null,
   "id": "2f6f70f9-ff09-49c2-89d8-7e63bd1af24c",
   "metadata": {},
   "outputs": [],
   "source": []
  },
  {
   "cell_type": "code",
   "execution_count": 129,
   "id": "b56f5ef8-ea7c-4e1a-b215-8e0f1b567b1f",
   "metadata": {},
   "outputs": [
    {
     "name": "stdout",
     "output_type": "stream",
     "text": [
      "Queda : 0.6679675445547122 sin explicar\n"
     ]
    }
   ],
   "source": [
    "def tss2():\n",
    "    tss2 = 0\n",
    "    for i in range(n):\n",
    "        tss2 += (yEVOL[i]-VENTASavg.iloc[0])**2\n",
    "    return tss2\n",
    "tss2= tss2()\n",
    "Rcuad2 = (1-(rss2/tss2))\n",
    "VASE2 = 1-Rcuad2\n",
    "print(\"Queda : \"+ str(VASE2) + \" sin explicar\")"
   ]
  },
  {
   "cell_type": "markdown",
   "id": "f36066c1-bdec-4909-970d-135e5eec76a8",
   "metadata": {},
   "source": [
    "# REGRESIÓN LINEAL VENTAS * PERIÓDICO"
   ]
  },
  {
   "cell_type": "markdown",
   "id": "36759bbf-cef5-4ebe-aa64-ef19ba22fb80",
   "metadata": {},
   "source": [
    "# COEFICIENTES ESTIMADOS V * P"
   ]
  },
  {
   "cell_type": "markdown",
   "id": "304d9a5c-92e9-4f44-898b-eaec6af135bb",
   "metadata": {},
   "source": [
    "## Regresión lineal múltiple"
   ]
  },
  {
   "cell_type": "code",
   "execution_count": 183,
   "id": "050c3831-1ae4-48a7-8ae6-d2e8d2de89a3",
   "metadata": {},
   "outputs": [
    {
     "data": {
      "text/plain": [
       "('Con fórmula : 12.351407069278162  0.05469309847227332',\n",
       " 'Con regresión : 12.351407549703124  0.05469308061488499')"
      ]
     },
     "execution_count": 183,
     "metadata": {},
     "output_type": "execute_result"
    }
   ],
   "source": [
    "import numpy as np\n",
    "import scipy.optimize as opt\n",
    "import pandas as pd\n",
    "import matplotlib.pyplot as plt\n",
    "\n",
    "PER = pd.read_csv(\"Advertising.csv\",usecols=[\"newspaper\"])\n",
    "VENTAS = pd.read_csv(\"Advertising.csv\",usecols = [\"sales\"])\n",
    "\n",
    "\n",
    "n = len(VENTAS)\n",
    "ones = np.ones([n,1])\n",
    "X3 = np.hstack((ones,PER))\n",
    "y3 = np.reshape(VENTAS,[200,1])\n",
    "beta3 = np.random.rand(2)\n",
    "y_prediccion3 = X3 @ beta3  \n",
    "def func_costo3(beta3,X3,y3): \n",
    "    beta3 = np.reshape(beta3,[2,1])\n",
    "    y_prediccion3 = X3 @ beta3   \n",
    "    error3= y_prediccion3 - y3\n",
    "    rss3 = error3.T @ error3\n",
    "    return rss3[0,0]\n",
    "f3 = opt.minimize(func_costo3,beta3,args=(X3,y3))\n",
    "\n",
    "\n",
    "PERavg = pd.read_csv(\"Advertising.csv\",usecols=[\"newspaper\"]).mean()\n",
    "VENTASavg = pd.read_csv(\"Advertising.csv\",usecols = [\"sales\"]).mean()\n",
    "perEVOL = np.reshape(PER,200)\n",
    "yEVOL = np.reshape(VENTAS,200)\n",
    "def beta_uno3():\n",
    "    suma13= 0\n",
    "    suma23= 0\n",
    "    for i in range (n):\n",
    "        suma_uno3 = (perEVOL[i]-PERavg.iloc[0])*(yEVOL[i]-VENTASavg.iloc[0])\n",
    "        suma_unodos3 = (perEVOL[i]-PERavg.iloc[0])**2\n",
    "        suma13 += suma_uno3\n",
    "        suma23 += suma_unodos3\n",
    "    return suma13/suma23\n",
    "        \n",
    "beta13 = beta_uno3()\n",
    "\n",
    "def beta_cero3():\n",
    "    for i in range (n):\n",
    "        beta_cero3 = (VENTASavg.iloc[0])-(beta13*PERavg.iloc[0])\n",
    "        \n",
    "    return beta_cero3\n",
    "beta03 = beta_cero3()\n",
    "\n",
    "betas3 = \"Con fórmula : \"+ str(beta03) + \"  \"+str(beta13)\n",
    "efes3 = \"Con regresión : \"+ str(f3.x[0]) + \"  \"+ str(f3.x[1])\n",
    "betas3, efes3"
   ]
  },
  {
   "cell_type": "code",
   "execution_count": 185,
   "id": "be30bc7d-fd25-4396-817b-b6a0f0fba46e",
   "metadata": {
    "scrolled": true
   },
   "outputs": [
    {
     "data": {
      "text/plain": [
       "<matplotlib.legend.Legend at 0x153b6ae5a30>"
      ]
     },
     "execution_count": 185,
     "metadata": {},
     "output_type": "execute_result"
    },
    {
     "data": {
      "image/png": "[encoded data removed]",
      "text/plain": [
       "<Figure size 640x480 with 1 Axes>"
      ]
     },
     "metadata": {},
     "output_type": "display_data"
    }
   ],
   "source": [
    "plt.figure()\n",
    "plt.scatter(PER,VENTAS, label =(\"inversiones\"), s=8)\n",
    "plt.grid()\n",
    "plt.ylabel(\"VENTAS\")\n",
    "plt.xlabel(\"RADIO\")\n",
    "plt.title(\"VENTAS * RADIO\")\n",
    "plt.plot(PER,f3.x[0] + f3.x[1]*PER,\"r\",linewidth = 2,label=(\"regresión linea\"))\n",
    "plt.plot(PER,beta03 + beta13*PER,\"g\", linewidth= 1,label= (\"min. cuadrados\"))\n",
    "plt.legend(loc=(\"lower right\"))"
   ]
  },
  {
   "cell_type": "markdown",
   "id": "021c1823-554f-4276-ac95-04c2d3dd068b",
   "metadata": {},
   "source": [
    "SE Coeficientes V * P"
   ]
  },
  {
   "cell_type": "code",
   "execution_count": 187,
   "id": "9aecd753-a58c-4058-bef5-24e956be72ca",
   "metadata": {},
   "outputs": [
    {
     "data": {
      "text/plain": [
       "(0.3802070150113328, 0.01657572187635821)"
      ]
     },
     "execution_count": 187,
     "metadata": {},
     "output_type": "execute_result"
    }
   ],
   "source": [
    "rss3 = f3.fun\n",
    "rss3\n",
    "sigmasqr3 = rss3/(n-2)\n",
    "\n",
    "def SE_beta1_cuad3():\n",
    "    SE_beta13 = 0\n",
    "    for i in range(n):\n",
    "        SE_beta13 += (perEVOL[i]-PERavg.iloc[0])**2\n",
    "    return SE_beta13\n",
    "\n",
    "sumatoria3 = SE_beta1_cuad3()\n",
    "\n",
    "SE_beta_uno3 = np.sqrt(sigmasqr3/sumatoria3)\n",
    "\n",
    "dentro3 = ((1/n) + ((PERavg.iloc[0])**2/sumatoria3))\n",
    "SE_beta_cero3 = np.sqrt(sigmasqr3*(1/n) + (dentro3))\n",
    "\n",
    "SE_beta_cero3,SE_beta_uno3"
   ]
  },
  {
   "cell_type": "markdown",
   "id": "00b13353-5433-454d-a657-932b09a0a42e",
   "metadata": {},
   "source": [
    "### INTERVALOS DE CONFIANZA"
   ]
  },
  {
   "cell_type": "code",
   "execution_count": 189,
   "id": "9655f123-e70a-48b9-9d52-abae6bf3bb6c",
   "metadata": {},
   "outputs": [
    {
     "name": "stdout",
     "output_type": "stream",
     "text": [
      "intervalos de Beta 1, inferior: 0.0215416547195569 superior: 0.08784454222498975\n",
      "intervalos de Beta 0, inferior: 11.590993039255496 superior: 13.111821099300828\n"
     ]
    }
   ],
   "source": [
    "#IC : intervalo de confianza\n",
    "ICBeta0_sup3 = beta03 + 2*SE_beta_cero3 \n",
    "ICBeta0_inf3 = beta03 - 2*SE_beta_cero3\n",
    "\n",
    "ICBeta1_sup3 = beta13 + 2*SE_beta_uno3\n",
    "ICBeta1_inf3 = beta13 - 2*SE_beta_uno3\n",
    "\n",
    "print(\"intervalos de Beta 1, inferior: \"+ str(ICBeta1_inf3) +\" superior: \"+ str(ICBeta1_sup3))\n",
    "print(\"intervalos de Beta 0, inferior: \"+ str(ICBeta0_inf3) +\" superior: \"+ str(ICBeta0_sup3))"
   ]
  },
  {
   "cell_type": "markdown",
   "id": "ee185017-e7ba-4fb8-9562-e5e2fe5b2a93",
   "metadata": {},
   "source": [
    "### T-STATS (V*P)"
   ]
  },
  {
   "cell_type": "code",
   "execution_count": 191,
   "id": "dcf18e7c-b2b0-43a5-ae83-ff96abe7b733",
   "metadata": {},
   "outputs": [
    {
     "name": "stdout",
     "output_type": "stream",
     "text": [
      "en beta0: 32.486005206689846\n",
      "en beta1: 3.299590743633407\n",
      "no es 0\n"
     ]
    }
   ],
   "source": [
    "#Utilizando prueba de hipótesis nula\n",
    "\n",
    "t13 = (beta13-0)/SE_beta_uno3\n",
    "t23= (beta03-0)/SE_beta_cero3\n",
    "print(\"en beta0: \"+ str(t23))\n",
    "print(\"en beta1: \"+ str(t13))\n",
    "print(\"no es 0\")"
   ]
  },
  {
   "cell_type": "markdown",
   "id": "34e7d940-5b24-4683-8a87-680a21f00ec7",
   "metadata": {},
   "source": [
    "### P-VALUES (V*P)"
   ]
  },
  {
   "cell_type": "code",
   "execution_count": 193,
   "id": "383bcd61-505a-4a0f-98ca-a1ef93c50f3c",
   "metadata": {},
   "outputs": [
    {
     "data": {
      "text/plain": [
       "(0.0011481958688883687, 0.0)"
      ]
     },
     "execution_count": 193,
     "metadata": {},
     "output_type": "execute_result"
    }
   ],
   "source": [
    "from scipy import stats\n",
    "p_beta13 = 2*(1 - stats.t.cdf(np.abs(t13), n-2))\n",
    "p_beta03 = 2*(1 - stats.t.cdf(np.abs(t23), n-2))\n",
    "\n",
    "p_beta13,p_beta03"
   ]
  },
  {
   "cell_type": "markdown",
   "id": "4b0a6abc-d495-4907-a506-99708551426c",
   "metadata": {},
   "source": [
    "### OBSERVACIONES V*P"
   ]
  },
  {
   "cell_type": "code",
   "execution_count": 195,
   "id": "a2b14994-90b0-4831-963e-bdade9c15553",
   "metadata": {},
   "outputs": [
    {
     "name": "stdout",
     "output_type": "stream",
     "text": [
      "Queda : 0.9478795545557012 sin explicar\n"
     ]
    }
   ],
   "source": [
    "def tss3():\n",
    "    tss3 = 0\n",
    "    for i in range(n):\n",
    "        tss3 += (yEVOL[i]-VENTASavg.iloc[0])**2\n",
    "    return tss3\n",
    "tss3= tss3()\n",
    "Rcuad3 = (1-(rss3/tss3))\n",
    "VASE3 = 1-Rcuad3\n",
    "print(\"Queda : \"+ str(VASE3) + \" sin explicar\")"
   ]
  },
  {
   "cell_type": "markdown",
   "id": "69aed655-7d42-414c-a05c-7564e4010cde",
   "metadata": {},
   "source": [
    "En lugar de hacer una regresión para cada factor independiente, quizás se puede extender el modelo para que tenga varios factores dentro:\n",
    "\n",
    "$$ Y = \\beta_0 + \\beta_1 X_1 + \\beta_2 X_2 + ... + \\beta_p X_p + \\epsilon $$\n",
    "\n",
    "Para nuestro ejemplo de publicidad:\n",
    "\n",
    "$$ \\text{sales} = \\beta_0 + \\beta_1 (\\text{TV}) + \\beta_2 (\\text{radio}) + \\beta_3 (\\text{newspaper}) + \\epsilon $$"
   ]
  },
  {
   "cell_type": "markdown",
   "id": "bd93eb8c-f115-4de4-86a1-820a89f4f087",
   "metadata": {},
   "source": [
    "Utiliza la función `minimize` para estimar los coeficientes $\\beta_0$, $\\beta_1$, $\\beta_2$ y $\\beta_3$"
   ]
  },
  {
   "cell_type": "markdown",
   "id": "2bd5cb4d-af09-445f-9528-16cc3de7e10f",
   "metadata": {},
   "source": [
    "## MINIMIZE FOR BETA-VALUES"
   ]
  },
  {
   "cell_type": "code",
   "execution_count": 440,
   "id": "34060470-47ae-4f8a-bcca-970795d1a06f",
   "metadata": {},
   "outputs": [
    {
     "data": {
      "text/plain": [
       "  message: Desired error not necessarily achieved due to precision loss.\n",
       "  success: False\n",
       "   status: 2\n",
       "      fun: 5417.148750000473\n",
       "        x: [ 9.121e-01 -2.881e-02  1.944e-01  1.791e-01]\n",
       "      nit: 1\n",
       "      jac: [-7.324e-04  1.642e-02 -1.910e-02 -2.856e-02]\n",
       " hess_inv: [[ 1.000e+00 -3.889e-03 -6.389e-04 -1.170e-03]\n",
       "            [-3.889e-03  1.051e-01 -1.470e-01 -2.691e-01]\n",
       "            [-6.389e-04 -1.470e-01  9.758e-01 -4.421e-02]\n",
       "            [-1.170e-03 -2.691e-01 -4.421e-02  9.191e-01]]\n",
       "     nfev: 177\n",
       "     njev: 33"
      ]
     },
     "execution_count": 440,
     "metadata": {},
     "output_type": "execute_result"
    }
   ],
   "source": [
    "import numpy as np\n",
    "import scipy.optimize as opt\n",
    "import pandas as pd\n",
    "import matplotlib.pyplot as plt\n",
    "\n",
    "TV = pd.read_csv(\"Advertising.csv\",usecols=[\"TV\"])\n",
    "PER = pd.read_csv(\"Advertising.csv\",usecols=[\"newspaper\"])\n",
    "RAD = pd.read_csv(\"Advertising.csv\",usecols=[\"radio\"])\n",
    "VENTAS = pd.read_csv(\"Advertising.csv\",usecols = [\"sales\"])\n",
    "\n",
    "\n",
    "n = len(VENTAS)\n",
    "ones = np.ones([n,1])\n",
    "X4 = np.hstack((ones,TV,RAD,PER))\n",
    "y4 = np.reshape(VENTAS,[n,1])\n",
    "n,p = X4.shape\n",
    "\n",
    "beta4 = np.random.rand(p, 1)\n",
    "beta4 = np.reshape(beta4,p)\n",
    "\n",
    "def func_costo4(beta4,X4,y4): \n",
    "    y_prediccion4 = X4 @ beta4   \n",
    "    error4 = y_prediccion4 - y4\n",
    "    rss4 = error4.T @ error4\n",
    "    return rss4[0,0]\n",
    "    \n",
    "f4 = opt.minimize(func_costo4,beta4,args=(X4,y4))\n",
    "\n",
    "f4"
   ]
  },
  {
   "cell_type": "code",
   "execution_count": null,
   "id": "884b2091-76a1-49ea-a15e-08d2f7786612",
   "metadata": {},
   "outputs": [],
   "source": []
  },
  {
   "cell_type": "markdown",
   "id": "7f2c2714-b7f4-4e23-8499-3a191642d829",
   "metadata": {},
   "source": [
    "Calcula el RSS y RSE."
   ]
  },
  {
   "cell_type": "code",
   "execution_count": 442,
   "id": "d966bf7f-54bc-49b7-a362-7c4cbe5f20ac",
   "metadata": {},
   "outputs": [
    {
     "name": "stdout",
     "output_type": "stream",
     "text": [
      "rss4 : 5417.148750000473, rse4 : 3.2586563686513967\n"
     ]
    }
   ],
   "source": [
    "RSS4 = f4.fun\n",
    "\n",
    "RSE4 = np.sqrt(rss/(n-2))\n",
    "print(\"rss4 : \" + str(RSS4) + \", rse4 : \" + str(RSE4))"
   ]
  },
  {
   "cell_type": "markdown",
   "id": "db1ae0d3-90a0-4716-b37c-90d5da035f3c",
   "metadata": {},
   "source": [
    "## BETAS"
   ]
  },
  {
   "cell_type": "markdown",
   "id": "ec0b0118-2799-4444-9dcf-692dfbe67df5",
   "metadata": {},
   "source": [
    "Dada tu matriz $X$ que contiene todos los factores como columnas, utiliza el siguiente código para encontrar el error estándar de tus estimaciones\n",
    "\n",
    "`var_beta = np.linalg.inv(X.T @ X) * rse**2`\n",
    "\n",
    "`std_beta = np.sqrt(var_beta.diagonal())`\n",
    "\n",
    "El orden de los valores corresponde al orden de los factores en las columnas de la matriz $X$."
   ]
  },
  {
   "cell_type": "code",
   "execution_count": 444,
   "id": "f3140322-742f-434d-8ea5-becd3d2a4984",
   "metadata": {},
   "outputs": [
    {
     "data": {
      "text/plain": [
       "array([[ 3.63636909e-01, -9.93231553e-04, -4.16945935e-03,\n",
       "        -2.20911010e-03],\n",
       "       [-9.93231553e-04,  7.27274620e-06, -1.67093723e-06,\n",
       "        -1.22074186e-06],\n",
       "       [-4.16945935e-03, -1.67093723e-06,  2.77169252e-04,\n",
       "        -6.65349006e-05],\n",
       "       [-2.20911010e-03, -1.22074186e-06, -6.65349006e-05,\n",
       "         1.28836779e-04]])"
      ]
     },
     "execution_count": 444,
     "metadata": {},
     "output_type": "execute_result"
    }
   ],
   "source": [
    "var_beta = np.linalg.inv(X4.T @ X4) * RSE4**2\n",
    "\n",
    "std_beta = np.sqrt(var_beta.diagonal())\n",
    "var_beta"
   ]
  },
  {
   "cell_type": "code",
   "execution_count": 336,
   "id": "ae4d05e6-e44e-4864-bcb3-e2530d551f7d",
   "metadata": {},
   "outputs": [
    {
     "data": {
      "text/plain": [
       "array([0.60302314, 0.0026968 , 0.0166484 , 0.01135063])"
      ]
     },
     "execution_count": 336,
     "metadata": {},
     "output_type": "execute_result"
    }
   ],
   "source": [
    "std_beta"
   ]
  },
  {
   "cell_type": "code",
   "execution_count": 446,
   "id": "5c044e46-31c6-4d94-a2d0-7a18ec7e950c",
   "metadata": {},
   "outputs": [],
   "source": [
    "beta_cero4 = f4.x[0]\n",
    "beta_uno4 = f4.x[1]\n",
    "beta_dos4 = f4.x[2]\n",
    "beta_tres4 = f4.x[3]"
   ]
  },
  {
   "cell_type": "markdown",
   "id": "15ae67c1-089c-43ed-a7c6-9c38cc535bed",
   "metadata": {},
   "source": [
    "## T-STATS"
   ]
  },
  {
   "cell_type": "markdown",
   "id": "36c77f8b-b87e-41ae-a26e-bdb440ba82e9",
   "metadata": {},
   "source": [
    "Calcula los estadísticos t y *p-values* de tus estimaciones."
   ]
  },
  {
   "attachments": {
    "3f6b2dcc-3f31-4d58-9b4e-3d2269a656ee.png": {
     "image/png": "[encoded data removed]"
    }
   },
   "cell_type": "markdown",
   "id": "db961415-dcec-423f-9a9a-7720c73cab70",
   "metadata": {},
   "source": [
    "![image.png](attachment:3f6b2dcc-3f31-4d58-9b4e-3d2269a656ee.png)"
   ]
  },
  {
   "cell_type": "code",
   "execution_count": 448,
   "id": "7a5ebb8d-3ac5-407c-b0d6-2e9b36ebe9f4",
   "metadata": {},
   "outputs": [],
   "source": [
    "t4_cero = (beta_cero4 - 0)/std_beta[0]\n",
    "t4_uno = (beta_uno4 - 0)/std_beta[1]\n",
    "t4_dos = (beta_dos4 - 0)/std_beta[2]\n",
    "t4_tres = (beta_tres4 - 0)/std_beta[3]"
   ]
  },
  {
   "cell_type": "code",
   "execution_count": 347,
   "id": "bd9ec377-7d1e-4a51-a696-93116623868a",
   "metadata": {
    "scrolled": true
   },
   "outputs": [
    {
     "data": {
      "text/plain": [
       "(4.873601033630604, 16.96995191047346, 11.324211217049415, -0.0914051457426927)"
      ]
     },
     "execution_count": 347,
     "metadata": {},
     "output_type": "execute_result"
    }
   ],
   "source": [
    "t4_cero, t4_uno, t4_dos, t4_tres"
   ]
  },
  {
   "cell_type": "markdown",
   "id": "ec3658c4-8854-45cb-afea-7bff719595e5",
   "metadata": {},
   "source": [
    "## P-VALUES"
   ]
  },
  {
   "cell_type": "code",
   "execution_count": 450,
   "id": "824cb1b5-8183-4ff3-8755-0a30336cbf01",
   "metadata": {},
   "outputs": [
    {
     "data": {
      "text/plain": [
       "(0.13198787046724836, 0.0, 0.0, 0.0)"
      ]
     },
     "execution_count": 450,
     "metadata": {},
     "output_type": "execute_result"
    }
   ],
   "source": [
    "\n",
    "from scipy import stats\n",
    "\n",
    "p_b4_cero = 2*(1 - stats.t.cdf(np.abs(t4_cero), n-2))\n",
    "p_b4_uno = 2*(1 - stats.t.cdf(np.abs(t4_uno), n-2))\n",
    "p_b4_dos = 2*(1 - stats.t.cdf(np.abs(t4_dos), n-2))\n",
    "p_b4_tres = 2*(1 - stats.t.cdf(np.abs(t4_tres), n-2))\n",
    "\n",
    "p_b4_cero, p_b4_uno, p_b4_dos, p_b4_tres\n",
    "\n"
   ]
  },
  {
   "cell_type": "code",
   "execution_count": null,
   "id": "d47dbbcf-c389-4379-966a-376a9ca1ae3d",
   "metadata": {},
   "outputs": [],
   "source": []
  },
  {
   "cell_type": "markdown",
   "id": "c72cd4fd-3670-47d8-84a0-4375bd6b0a81",
   "metadata": {},
   "source": [
    "¿Qué diferencias puedes observar entre los *p-values* de una regresión múltiple y los encontrados en regresiones simples? ¿Por qué crees que existen estas diferencias?"
   ]
  },
  {
   "cell_type": "markdown",
   "id": "c6c4d945-5a9c-462c-bd3c-446f01839ad6",
   "metadata": {},
   "source": [
    "**A diferencia de una regresion lineal simple, en una regresión lineal múltiple, se puede tener variaciones ya que al involucrar tantos factores, algunos poseen prioridad, por lo que los que tienen baja relevancia, sus variaciones (en este caso donde sus $p(B)$ no es cero), son \"sacrificables\" para que las más relevantes puedan ajustarse al modelo.**\n",
    "\n"
   ]
  },
  {
   "cell_type": "markdown",
   "id": "25a0da9c-3867-41e7-a250-dfb926f7802c",
   "metadata": {},
   "source": []
  },
  {
   "cell_type": "markdown",
   "id": "b9ccba33-34eb-4a08-aa0e-a23e622fefa8",
   "metadata": {},
   "source": []
  },
  {
   "cell_type": "markdown",
   "id": "92356829-60cc-495f-9464-215c652cacf8",
   "metadata": {},
   "source": [
    "## Referencia\n",
    "\n",
    "James, G., Witten, D., Hastie, T., Tibshirani, R.,, Taylor, J. (2023). An Introduction to Statistical Learning with Applications in Python. Cham: Springer. ISBN: 978-3-031-38746-3"
   ]
  },
  {
   "cell_type": "code",
   "execution_count": null,
   "id": "ce7cf453-0e4f-49c9-be6e-c402a2fc7946",
   "metadata": {},
   "outputs": [],
   "source": []
  }
 ],
 "metadata": {
  "kernelspec": {
   "display_name": "Python 3 (ipykernel)",
   "language": "python",
   "name": "python3"
  },
  "language_info": {
   "codemirror_mode": {
    "name": "ipython",
    "version": 3
   },
   "file_extension": ".py",
   "mimetype": "text/x-python",
   "name": "python",
   "nbconvert_exporter": "python",
   "pygments_lexer": "ipython3",
   "version": "3.12.4"
  }
 },
 "nbformat": 4,
 "nbformat_minor": 5
}
