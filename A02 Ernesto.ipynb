{
 "cells": [
  {
   "cell_type": "markdown",
   "id": "3fcf9d97-a70a-4d5c-897a-107551f49dde",
   "metadata": {},
   "source": [
    " "
   ]
  },
  {
   "cell_type": "code",
   "execution_count": 10,
   "id": "e34f8273-a6a0-4b17-bcf3-bed70df539fb",
   "metadata": {},
   "outputs": [
    {
     "name": "stdout",
     "output_type": "stream",
     "text": [
      "cosa 2\n"
     ]
    }
   ],
   "source": [
    "ALUMNOS = [\"cosa 1\",\"cosa 2\",\"cosa 3\",\"cosa 4\",\"cosa 5\",\"cosa 6\",\"cosa 7\",\"cosa 8\",\"cosa 9\",\"cosa 10\"]\n",
    "print(ALUMNOS[1])\n"
   ]
  },
  {
   "cell_type": "code",
   "execution_count": 12,
   "id": "01c7c471-4de5-425a-b27a-fea290bf9bcf",
   "metadata": {},
   "outputs": [
    {
     "data": {
      "text/plain": [
       "['cosa 1',\n",
       " 'cosa 2',\n",
       " 'cosa 3',\n",
       " 'cosa 4',\n",
       " 'cosa 5',\n",
       " 'cosa 6',\n",
       " 'cosa 7',\n",
       " 'cosa 8',\n",
       " 'cosa 9',\n",
       " 'cosa 10',\n",
       " 'cosa 11 extra']"
      ]
     },
     "execution_count": 12,
     "metadata": {},
     "output_type": "execute_result"
    }
   ],
   "source": [
    "ALUMNOS.append(\"cosa 11 extra\")\n",
    "ALUMNOS"
   ]
  },
  {
   "cell_type": "code",
   "execution_count": 18,
   "id": "1761435f-3200-4241-bbe0-e34b473b9a21",
   "metadata": {},
   "outputs": [
    {
     "data": {
      "text/plain": [
       "['cosa 1',\n",
       " 'cosa 2',\n",
       " 'cosa 3',\n",
       " 'cosa 4',\n",
       " 'negro',\n",
       " 'negro',\n",
       " 'negro',\n",
       " 'cosa 5',\n",
       " 'cosa 6',\n",
       " 'cosa 7',\n",
       " 'cosa 8',\n",
       " 'cosa 9',\n",
       " 'cosa 10',\n",
       " 'cosa 11 extra']"
      ]
     },
     "execution_count": 18,
     "metadata": {},
     "output_type": "execute_result"
    }
   ],
   "source": [
    "ALUMNOS.insert(4,\"negro\")\n",
    "ALUMNOS\n"
   ]
  },
  {
   "cell_type": "code",
   "execution_count": 24,
   "id": "a82271c4-af6b-42a4-8436-4752739e9250",
   "metadata": {},
   "outputs": [
    {
     "data": {
      "text/plain": [
       "['cosa 1',\n",
       " 'cosa 2',\n",
       " 'cosa 3',\n",
       " 'cosa 4',\n",
       " 'cosa 5',\n",
       " 'cosa 6',\n",
       " 'cosa 7',\n",
       " 'cosa 8',\n",
       " 'cosa 9',\n",
       " 'cosa 10',\n",
       " 'cosa 11 extra']"
      ]
     },
     "execution_count": 24,
     "metadata": {},
     "output_type": "execute_result"
    }
   ],
   "source": [
    "ALUMNOS.remove(\"negro\")\n",
    "ALUMNOS\n"
   ]
  },
  {
   "cell_type": "code",
   "execution_count": 26,
   "id": "aa58d215-94dc-4e06-ae8c-f411e807559f",
   "metadata": {},
   "outputs": [
    {
     "data": {
      "text/plain": [
       "'cosa 1'"
      ]
     },
     "execution_count": 26,
     "metadata": {},
     "output_type": "execute_result"
    }
   ],
   "source": [
    "ALUMNOS.pop(0)"
   ]
  },
  {
   "cell_type": "code",
   "execution_count": 28,
   "id": "fe6c1518-1a7c-48a0-8e3a-e3fd2422f3f8",
   "metadata": {},
   "outputs": [
    {
     "data": {
      "text/plain": [
       "['cosa 2',\n",
       " 'cosa 3',\n",
       " 'cosa 4',\n",
       " 'cosa 5',\n",
       " 'cosa 6',\n",
       " 'cosa 7',\n",
       " 'cosa 8',\n",
       " 'cosa 9',\n",
       " 'cosa 10',\n",
       " 'cosa 11 extra']"
      ]
     },
     "execution_count": 28,
     "metadata": {},
     "output_type": "execute_result"
    }
   ],
   "source": [
    "ALUMNOS\n"
   ]
  },
  {
   "cell_type": "code",
   "execution_count": 32,
   "id": "516eb329-0f3a-4bd3-b350-f42c0cfe01cb",
   "metadata": {},
   "outputs": [
    {
     "data": {
      "text/plain": [
       "[8, 9, 5, 3]"
      ]
     },
     "execution_count": 32,
     "metadata": {},
     "output_type": "execute_result"
    }
   ],
   "source": [
    "lista1 = [8,9,5,3]\n",
    "lista1"
   ]
  },
  {
   "cell_type": "code",
   "execution_count": 38,
   "id": "b53c089e-be15-4f8f-b50c-099f1236f141",
   "metadata": {},
   "outputs": [
    {
     "data": {
      "text/plain": [
       "['este si', 'este no', 'este tambien', [8, 9, 5, 3]]"
      ]
     },
     "execution_count": 38,
     "metadata": {},
     "output_type": "execute_result"
    }
   ],
   "source": [
    "lista2 = [\"este si\",\"este no\",\"este tambien\",lista1]\n",
    "lista2"
   ]
  },
  {
   "cell_type": "code",
   "execution_count": 40,
   "id": "d8100832-2e95-410b-beed-ea164cf1cda6",
   "metadata": {},
   "outputs": [
    {
     "name": "stdout",
     "output_type": "stream",
     "text": [
      "este si\n",
      "este no\n",
      "este tambien\n",
      "[8, 9, 5, 3]\n"
     ]
    }
   ],
   "source": [
    "i=0\n",
    "while i < len(lista2):\n",
    "    print(lista2[i])\n",
    "    i += 1 \n"
   ]
  },
  {
   "cell_type": "code",
   "execution_count": 44,
   "id": "bd7905f6-ccf3-4c8c-ae54-27ce039415f4",
   "metadata": {},
   "outputs": [
    {
     "name": "stdout",
     "output_type": "stream",
     "text": [
      "este si\n",
      "este no\n",
      "este tambien\n",
      "[8, 9, 5, 3]\n"
     ]
    }
   ],
   "source": [
    "for elemento in lista2:\n",
    "    print(elemento)"
   ]
  },
  {
   "cell_type": "code",
   "execution_count": null,
   "id": "e4b1ff3e-9b75-48d6-b6cf-156d9c5538ce",
   "metadata": {},
   "outputs": [],
   "source": []
  },
  {
   "cell_type": "code",
   "execution_count": null,
   "id": "5912a75c-75e9-4dd7-afb5-95cf9c77fbab",
   "metadata": {},
   "outputs": [],
   "source": []
  },
  {
   "cell_type": "markdown",
   "id": "8d20bc2c-1a76-4ba5-9599-33f64bb56953",
   "metadata": {},
   "source": [
    "# FUNCIONES"
   ]
  },
  {
   "cell_type": "code",
   "execution_count": 50,
   "id": "e0dd4061-a19c-437f-93a3-3c8f1a8adf82",
   "metadata": {},
   "outputs": [
    {
     "name": "stdout",
     "output_type": "stream",
     "text": [
      "xd\n"
     ]
    }
   ],
   "source": [
    "def funcion1():\n",
    "    print(\"xd\")\n",
    "funcion1()"
   ]
  },
  {
   "cell_type": "code",
   "execution_count": 58,
   "id": "c1590b68-5eac-48e9-b9ec-0946aa32942b",
   "metadata": {},
   "outputs": [],
   "source": [
    "def suma(a,b):\n",
    "    resultado = a + b\n",
    "    return resultado"
   ]
  },
  {
   "cell_type": "code",
   "execution_count": 60,
   "id": "c27ea5c1-db0f-4e2e-a8d8-65b81fb83e6d",
   "metadata": {},
   "outputs": [
    {
     "data": {
      "text/plain": [
       "6"
      ]
     },
     "execution_count": 60,
     "metadata": {},
     "output_type": "execute_result"
    }
   ],
   "source": [
    "suma(4,2)"
   ]
  },
  {
   "cell_type": "code",
   "execution_count": 62,
   "id": "ba173660-0fe4-45ad-b383-1c280b6205e2",
   "metadata": {},
   "outputs": [],
   "source": [
    "def multiplicacion(a,b):\n",
    "    resmulti = a*b\n",
    "    return resmulti"
   ]
  },
  {
   "cell_type": "code",
   "execution_count": 64,
   "id": "2ed10d5c-1ccd-4224-ae18-c53fba5b737c",
   "metadata": {},
   "outputs": [
    {
     "data": {
      "text/plain": [
       "10"
      ]
     },
     "execution_count": 64,
     "metadata": {},
     "output_type": "execute_result"
    }
   ],
   "source": [
    "multiplicacion(2,5)"
   ]
  },
  {
   "cell_type": "code",
   "execution_count": 76,
   "id": "c790b29e-8235-40a2-9049-05a4bc446bb5",
   "metadata": {},
   "outputs": [
    {
     "data": {
      "text/plain": [
       "120"
      ]
     },
     "execution_count": 76,
     "metadata": {},
     "output_type": "execute_result"
    }
   ],
   "source": [
    "def factorial(a):\n",
    "    i = 1\n",
    "    conta = 1\n",
    "    while i <= a:\n",
    "        conta = conta*i\n",
    "        i+=1\n",
    "    return conta\n",
    "factorial(5)"
   ]
  },
  {
   "cell_type": "code",
   "execution_count": 78,
   "id": "49d439c0-f330-4067-b8d1-3b4bdb6044ce",
   "metadata": {},
   "outputs": [
    {
     "data": {
      "text/plain": [
       "list"
      ]
     },
     "execution_count": 78,
     "metadata": {},
     "output_type": "execute_result"
    }
   ],
   "source": [
    "lista = [1,4,6,5,7,8,9]\n",
    "type(lista)"
   ]
  },
  {
   "cell_type": "code",
   "execution_count": 82,
   "id": "a6c81f8a-1dcc-441e-a3e5-6f235154045b",
   "metadata": {},
   "outputs": [
    {
     "name": "stdout",
     "output_type": "stream",
     "text": [
      "5040\n"
     ]
    }
   ],
   "source": [
    "print(factorial(lista[4]))"
   ]
  },
  {
   "cell_type": "code",
   "execution_count": 96,
   "id": "6c3c6992-8575-475d-bd53-6cfadab9f579",
   "metadata": {},
   "outputs": [
    {
     "name": "stdout",
     "output_type": "stream",
     "text": [
      "1\n",
      "24\n",
      "720\n",
      "120\n",
      "5040\n",
      "40320\n",
      "362880\n"
     ]
    }
   ],
   "source": [
    "for elemento in lista:\n",
    "    print(factorial(elemento))"
   ]
  },
  {
   "cell_type": "code",
   "execution_count": 92,
   "id": "33d156b8-f0ad-4f50-a1bf-21d0d5a206df",
   "metadata": {},
   "outputs": [
    {
     "name": "stdout",
     "output_type": "stream",
     "text": [
      "3\n",
      "5\n",
      "100\n"
     ]
    }
   ],
   "source": [
    "def funcion(a,b,c = 5):\n",
    "    print(a)\n",
    "    print(b)\n",
    "    print(c)\n",
    "funcion(3,5,100)"
   ]
  },
  {
   "cell_type": "code",
   "execution_count": 118,
   "id": "6826abf9-e05b-4d40-9b24-99717c8af0c2",
   "metadata": {},
   "outputs": [],
   "source": [
    "def esprimo(b):\n",
    "    if b >= 2:\n",
    "        for i in range(2,b):\n",
    "            if(b%i) == 0:\n",
    "                return False\n",
    "        else:\n",
    "            return True"
   ]
  },
  {
   "cell_type": "code",
   "execution_count": 128,
   "id": "5fba354d-847f-423c-b83b-80ba9a289d2f",
   "metadata": {},
   "outputs": [
    {
     "data": {
      "text/plain": [
       "False"
      ]
     },
     "execution_count": 128,
     "metadata": {},
     "output_type": "execute_result"
    }
   ],
   "source": [
    "esprimo(20)"
   ]
  },
  {
   "cell_type": "code",
   "execution_count": 3,
   "id": "b1d30f99-b72e-4edf-9254-4434d343a4bc",
   "metadata": {},
   "outputs": [
    {
     "ename": "IndentationError",
     "evalue": "expected an indented block after 'else' statement on line 16 (2611893596.py, line 18)",
     "output_type": "error",
     "traceback": [
      "\u001b[1;36m  Cell \u001b[1;32mIn[3], line 18\u001b[1;36m\u001b[0m\n\u001b[1;33m    for i in range(b,d):\u001b[0m\n\u001b[1;37m    ^\u001b[0m\n\u001b[1;31mIndentationError\u001b[0m\u001b[1;31m:\u001b[0m expected an indented block after 'else' statement on line 16\n"
     ]
    }
   ],
   "source": []
  },
  {
   "cell_type": "code",
   "execution_count": 3,
   "id": "8b77b33d-0b14-412c-8c7d-12201f30e82e",
   "metadata": {},
   "outputs": [
    {
     "name": "stdout",
     "output_type": "stream",
     "text": [
      "11\n",
      "7\n"
     ]
    },
    {
     "data": {
      "text/plain": [
       "'11 y 7 se encuentran a la misma distancia'"
      ]
     },
     "execution_count": 3,
     "metadata": {},
     "output_type": "execute_result"
    }
   ],
   "source": [
    "def ingresar1(b):\n",
    "    numero = True\n",
    "    if b >= 1 and b <= 100:\n",
    "        for x in range(2,b):\n",
    "            if(b%x) == 0:\n",
    "                numero = False\n",
    "                break\n",
    "        else:\n",
    "            numero = True\n",
    "            return (\"primo\")\n",
    "            \n",
    "            \n",
    "    if numero == False:\n",
    "        lista1=[]\n",
    "        listaprimos=[]\n",
    "        for i in range (b+1,b+10):\n",
    "            lista1.append(i)\n",
    "        for j in lista1:\n",
    "            numeroP = True\n",
    "            for x in range(2,j-1):\n",
    "                if j % x == 0:\n",
    "                    val_is_pr = False\n",
    "                    break\n",
    "            if numeroP:\n",
    "                listaprimos.append(j)\n",
    "        print (min(listaprimos))\n",
    "    if numero == False:\n",
    "        lista2=[]\n",
    "        listaprimos2=[]\n",
    "        for m in range (b-10,b):\n",
    "            lista2.append(m)\n",
    "        for n in lista2:\n",
    "            numeroP2 = True\n",
    "            for v in range(2,n-1):\n",
    "                if n % v == 0:\n",
    "                    numeroP2 = False\n",
    "                    break\n",
    "            if numeroP2:\n",
    "                listaprimos2.append(n)\n",
    "        print(max(listaprimos2))\n",
    "    arriba = min(listaprimos)\n",
    "    abajo = max(listaprimos2)\n",
    "    difsup = int(arriba) - b\n",
    "    difinf = b - int(abajo)\n",
    "    if difsup > difinf:\n",
    "        return abajo\n",
    "    elif difsup == difinf:\n",
    "        return (str(arriba) +\" y \"+ str(abajo) + \" se encuentran a la misma distancia\")\n",
    "    else: \n",
    "        return arriba\n",
    "        \n",
    "        \n",
    "            \n",
    "ingresar1(9)\n",
    "            \n",
    "       \n",
    "    "
   ]
  },
  {
   "cell_type": "code",
   "execution_count": null,
   "id": "a684bfec-6a4a-4181-8267-9b4d2bebbe1a",
   "metadata": {},
   "outputs": [],
   "source": []
  }
 ],
 "metadata": {
  "kernelspec": {
   "display_name": "Python 3 (ipykernel)",
   "language": "python",
   "name": "python3"
  },
  "language_info": {
   "codemirror_mode": {
    "name": "ipython",
    "version": 3
   },
   "file_extension": ".py",
   "mimetype": "text/x-python",
   "name": "python",
   "nbconvert_exporter": "python",
   "pygments_lexer": "ipython3",
   "version": "3.12.4"
  }
 },
 "nbformat": 4,
 "nbformat_minor": 5
}
