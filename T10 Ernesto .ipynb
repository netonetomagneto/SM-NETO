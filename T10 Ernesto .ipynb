{
 "cells": [
  {
   "cell_type": "markdown",
   "id": "01d3e724-769a-4300-a920-88f1b54fed22",
   "metadata": {},
   "source": [
    "HUGO ERNESTO CARDENAS ALCARAZ 744893, 14-11-24"
   ]
  },
  {
   "cell_type": "markdown",
   "id": "28086fca-2cdd-41ac-b7bf-bc1af9f759a2",
   "metadata": {},
   "source": [
    "# Laboratorio: Métodos de búsqueda"
   ]
  },
  {
   "cell_type": "markdown",
   "id": "9e19abc1-82f0-4f28-9493-468e4227c14f",
   "metadata": {},
   "source": [
    "En las clases anteriores creaste códigos para realizar búsquedas aleatorias (Simulated Annealing) y búsquedas dirigidas (Optimización Bayesiana). Estos métodos de búsqueda se utilizan para facilitar el proceso de optimización de funciones objetivos compleja y costosas de computar."
   ]
  },
  {
   "cell_type": "markdown",
   "id": "038474ce-6e2f-4d45-895a-bb17f7c8871d",
   "metadata": {},
   "source": [
    "En este laboratorio usaremos el dataset de los diferentes tipos de iris, y sus longitudes y anchos de pétalos y sépalos. Utilizaremos un RandomForest para crear un modelo de clasificación y el métrico F1 para decidir cuál es el mejor modelo de acuerdo a lo que tenemos disponible."
   ]
  },
  {
   "cell_type": "markdown",
   "id": "c04956ea-14f4-419e-adf8-add3b81da443",
   "metadata": {},
   "source": [
    "1. Carga el dataset de Iris"
   ]
  },
  {
   "cell_type": "code",
   "execution_count": 331,
   "id": "aad912f2-1359-437e-af68-3c8cca8d1b03",
   "metadata": {},
   "outputs": [
    {
     "data": {
      "text/plain": [
       "(150, 4)"
      ]
     },
     "execution_count": 331,
     "metadata": {},
     "output_type": "execute_result"
    }
   ],
   "source": [
    "from sklearn import datasets\n",
    "X, y = datasets.load_iris(return_X_y=True)\n",
    "\n",
    "X.shape\n"
   ]
  },
  {
   "cell_type": "markdown",
   "id": "9b97ad91-d82b-491c-ac5d-be6f872c5334",
   "metadata": {},
   "source": [
    "2. Importa el archivo `Bosque.py`.\n",
    "\n",
    "Este archivo contiene la función `RegresionBosque`, que recibe:\n",
    "- X: las características independientes\n",
    "- y: la variable de respuesta\n",
    "- árboles: cantidad total de árboles\n",
    "- profundidad de bosque: niveles de profundidad del bosque\n",
    "\n",
    "Su salida es:\n",
    "- modelo: El objeto con el modelo ajustado\n",
    "- f1: El métrico que califica qué tan bueno es el modelo que se ajustó.\n"
   ]
  },
  {
   "cell_type": "code",
   "execution_count": 160,
   "id": "23f875f1-a72a-4a57-8355-16d6bb9fb33a",
   "metadata": {},
   "outputs": [
    {
     "data": {
      "text/plain": [
       "0.9555555555555556"
      ]
     },
     "execution_count": 160,
     "metadata": {},
     "output_type": "execute_result"
    }
   ],
   "source": [
    "import Bosque\n",
    "modelo, f1 = Bosque.RegresionBosque(X, y, 10, 3)\n",
    "f1"
   ]
  },
  {
   "cell_type": "markdown",
   "id": "15ac2825-33ac-4919-9ccb-8324701ce99f",
   "metadata": {},
   "source": [
    "### Actividad 1:"
   ]
  },
  {
   "cell_type": "markdown",
   "id": "a8eb265f-9ccf-4fb4-b8c0-8fe221ea534c",
   "metadata": {},
   "source": [
    "Inicializa un espacio con 5 muestras en nuestro dominio de variables independientes:\n",
    "- árboles: números enteros entre 5 y 50.\n",
    "- profundidad: números enteros entre 2 y 10"
   ]
  },
  {
   "cell_type": "markdown",
   "id": "1ed7c396-af97-49a6-828e-c5d63c1b6999",
   "metadata": {},
   "source": [
    "Utiliza optimización Bayesiana para encontrar la combinación de árboles y profundidad que **maximice** el métrico F1."
   ]
  },
  {
   "cell_type": "code",
   "execution_count": null,
   "id": "1e563392-4509-4d70-9cb6-adca944d2406",
   "metadata": {},
   "outputs": [],
   "source": []
  },
  {
   "cell_type": "code",
   "execution_count": 290,
   "id": "de00bcfe-9350-4954-80f6-1ea060276da1",
   "metadata": {},
   "outputs": [
    {
     "data": {
      "text/plain": [
       "array([0.95555556, 0.93333333, 0.94444444, 0.93333333, 0.95555556])"
      ]
     },
     "execution_count": 290,
     "metadata": {},
     "output_type": "execute_result"
    }
   ],
   "source": [
    "import numpy as np\n",
    "import matplotlib.pyplot as plt\n",
    "arboles = np.random.randint(5,51,5)\n",
    "tree = arboles.reshape([-1,1])\n",
    "profundidad = np.random.randint(2,11,5)\n",
    "depth = profundidad.reshape([-1,1])\n",
    "tree,depth\n",
    "modelo_1,uno = Bosque.RegresionBosque(X, y, arboles[0], profundidad[0])\n",
    "modelo_2,dos = Bosque.RegresionBosque(X, y, arboles[1], profundidad[1])\n",
    "modelo_3,tres = Bosque.RegresionBosque(X, y, arboles[2], profundidad[2])\n",
    "modelo_4,cuatro = Bosque.RegresionBosque(X, y, arboles[3], profundidad[3])\n",
    "modelo_5,cinco = Bosque.RegresionBosque(X, y, arboles[4], profundidad[4])\n",
    "#modelo_6,seis = Bosque.RegresionBosque(X, y, 50, 10)\n",
    "valores_z = np.array([uno,dos,tres,cuatro,cinco])\n",
    "valores_z"
   ]
  },
  {
   "cell_type": "code",
   "execution_count": 292,
   "id": "53dded64-ba06-457b-a285-14dd55fe5127",
   "metadata": {},
   "outputs": [
    {
     "data": {
      "text/plain": [
       "array([6.86886887])"
      ]
     },
     "execution_count": 292,
     "metadata": {},
     "output_type": "execute_result"
    }
   ],
   "source": [
    "x_profundidad[i_next]"
   ]
  },
  {
   "cell_type": "code",
   "execution_count": null,
   "id": "dd437456-0cf5-40ec-ada3-6fcc779552ba",
   "metadata": {},
   "outputs": [],
   "source": []
  },
  {
   "cell_type": "code",
   "execution_count": 311,
   "id": "80f5832d-28f3-4df0-9820-cff1c5e00bfe",
   "metadata": {},
   "outputs": [
    {
     "name": "stderr",
     "output_type": "stream",
     "text": [
      "C:\\Users\\hugoc\\anaconda3\\Lib\\site-packages\\sklearn\\gaussian_process\\_gpr.py:663: ConvergenceWarning: lbfgs failed to converge (status=2):\n",
      "ABNORMAL_TERMINATION_IN_LNSRCH.\n",
      "\n",
      "Increase the number of iterations (max_iter) or scale the data as shown in:\n",
      "    https://scikit-learn.org/stable/modules/preprocessing.html\n",
      "  _check_optimize_result(\"lbfgs\", opt_res)\n"
     ]
    }
   ],
   "source": [
    "from sklearn.gaussian_process import GaussianProcessRegressor\n",
    "from sklearn.gaussian_process.kernels import RBF\n",
    "X_hyper = np.hstack((tree, depth))\n",
    "valores_z = np.array([uno,dos,tres,cuatro,cinco])\n",
    "n = 10\n",
    "NEWX = []\n",
    "kernel = 1.0*RBF(length_scale = 1)\n",
    "for i in range(n):\n",
    "    gp = GaussianProcessRegressor(kernel = kernel, n_restarts_optimizer = 10).fit(X_hyper,valores_z)\n",
    "    \n",
    "    x_tree = np.linspace(5,50,1000).reshape([-1,1])\n",
    "    x_profundidad = np.linspace(2,10,1000).reshape([-1,1])\n",
    "    x_hyper = np.hstack((x_tree, x_profundidad))\n",
    "    y_pred, y_std = gp.predict(x_hyper, return_std = True)\n",
    "    \n",
    "    #y_pred_low = y_pred - 1.96*(y_std)\n",
    "    y_pred_high = y_pred + 1.96*(y_std)\n",
    "    \n",
    "    i_next = np.argmax(y_pred_high)\n",
    "    X_hyper = np.vstack((X_hyper,x_hyper[i_next]))\n",
    "    modelo, valores_z1 = Bosque.RegresionBosque(X, y, int(x_tree[i_next][0]), int(x_profundidad[i_next][0]))\n",
    "    valores_z = np.hstack((valores_z, valores_z1))\n",
    "\n",
    "    "
   ]
  },
  {
   "cell_type": "code",
   "execution_count": 312,
   "id": "a32ee6c9-70e8-42de-b00d-f0eb9d5525ab",
   "metadata": {},
   "outputs": [
    {
     "data": {
      "text/plain": [
       "array([[18.        ,  3.        ],\n",
       "       [ 8.        ,  2.        ],\n",
       "       [ 6.        ,  7.        ],\n",
       "       [17.        ,  2.        ],\n",
       "       [35.        , 10.        ],\n",
       "       [27.7027027 ,  6.03603604],\n",
       "       [19.86486486,  4.64264264],\n",
       "       [47.7027027 ,  9.59159159],\n",
       "       [39.77477477,  8.18218218],\n",
       "       [12.65765766,  3.36136136],\n",
       "       [50.        , 10.        ],\n",
       "       [33.69369369,  7.1011011 ],\n",
       "       [ 9.45945946,  2.79279279],\n",
       "       [ 5.        ,  2.        ],\n",
       "       [43.87387387,  8.91091091]])"
      ]
     },
     "execution_count": 312,
     "metadata": {},
     "output_type": "execute_result"
    }
   ],
   "source": [
    "X_hyper"
   ]
  },
  {
   "cell_type": "raw",
   "id": "0e918a37-5c9a-4022-9038-a7324b9f2dfe",
   "metadata": {},
   "source": []
  },
  {
   "cell_type": "code",
   "execution_count": 333,
   "id": "fc2e2ea6-2d01-4b8b-a717-6a15ccc80e61",
   "metadata": {},
   "outputs": [
    {
     "data": {
      "text/plain": [
       "0.9555555555555556"
      ]
     },
     "execution_count": 333,
     "metadata": {},
     "output_type": "execute_result"
    }
   ],
   "source": [
    "valores_z.max()"
   ]
  },
  {
   "cell_type": "markdown",
   "id": "9d0b9e7c-a0b2-455b-b238-98d03f294fd9",
   "metadata": {},
   "source": [
    "MAX : 0.95555555"
   ]
  },
  {
   "cell_type": "markdown",
   "id": "5e083a3c-fa68-4942-b5d3-f1f7130b4fbb",
   "metadata": {},
   "source": [
    "### Actividad 2:"
   ]
  },
  {
   "cell_type": "markdown",
   "id": "2817a47c-0081-4376-b222-c65735f4ab9d",
   "metadata": {},
   "source": [
    "Inicializa 2 vectores con posibles valores para las variables independientes:\n",
    "- árboles: números enteros entre 5 y 50\n",
    "- profundidad: números enteros entre 2 y 10\n",
    "\n",
    "Utiliza el algoritmo de Simulated Annealing que siga el siguiente orden:\n",
    "- Elige un punto de partida para las variables.\n",
    "- Selecciona al azar una de las dos para modificarlas.\n",
    "- Selecciona un elemento al azar de la lista que contiene los posibles valores de esa variable.\n",
    "- Sigue el algoritmo ($p$ y $q$) para decidir si usas esa combinación nueva o si mantienes la anterior."
   ]
  },
  {
   "cell_type": "code",
   "execution_count": 391,
   "id": "e6286fe8-ec56-4871-9c31-8d4d3ca4c0ae",
   "metadata": {},
   "outputs": [],
   "source": [
    "trees = []\n",
    "for i in range(46):\n",
    "    x = i+5\n",
    "    trees.append(x)\n",
    "arb = (np.array(trees)).reshape([-1,1])\n",
    "prof = np.array([2,3,4,5,6,7,8,9,10]).reshape([-1,1])\n"
   ]
  },
  {
   "cell_type": "markdown",
   "id": "35834be3-bfac-46df-9034-ac1441e8b3b2",
   "metadata": {},
   "source": [
    "##### Se utilizó T=1 debido a que el tiempo de computación mayor a 1, era excesivo, realmente nunca supe cuanto tardaba, no tuve el tiempo para comprobarlo."
   ]
  },
  {
   "cell_type": "code",
   "execution_count": 405,
   "id": "239fa243-bd6d-4ec4-860a-2eae65cea710",
   "metadata": {},
   "outputs": [
    {
     "data": {
      "text/plain": [
       "array([38,  3])"
      ]
     },
     "execution_count": 405,
     "metadata": {},
     "output_type": "execute_result"
    }
   ],
   "source": [
    "T  = 1\n",
    "def vectorX():\n",
    "    \n",
    "    var1 = arb[np.random.randint(45)]\n",
    "    var2 = prof[np.random.randint(9)]\n",
    "    \n",
    "    vector = np.array([var1[0],var2[0]])\n",
    "    return vector \n",
    "vector = vectorX()\n",
    "vector"
   ]
  },
  {
   "cell_type": "code",
   "execution_count": 407,
   "id": "c4e3d63e-80b2-4844-bed3-f979afcdcae9",
   "metadata": {},
   "outputs": [
    {
     "data": {
      "text/plain": [
       "array([37,  3])"
      ]
     },
     "execution_count": 407,
     "metadata": {},
     "output_type": "execute_result"
    }
   ],
   "source": [
    "def act2_1(vec):\n",
    "   \n",
    "    vector = vec\n",
    "    vector2 = vector.copy()\n",
    "    choice1 = np.random.choice([0,1])\n",
    "    if choice1 == 0:\n",
    "        rand_var = arb[np.random.randint(45)]\n",
    "        vector2[0] = rand_var[0]\n",
    "    else:\n",
    "        rand_var = prof[np.random.randint(9)]\n",
    "        vector2[1] = rand_var[0]\n",
    "    \n",
    "    _,d1 = Bosque.RegresionBosque(X, y, vector[0], vector[1])\n",
    "    _,d2 = Bosque.RegresionBosque(X, y, vector2[0], vector2[1])\n",
    "    #seguir procedimiento p - q \n",
    "    def valor_p(d1,d2,T):\n",
    "        return np.exp((d1-d2)/T)\n",
    "    q = valor_p(d1,d2,T)\n",
    "    p = np.random.rand()*1.4\n",
    "    if p < q :\n",
    "        ELEGIDO = vector2\n",
    "    else:\n",
    "        ELEGIDO = vector\n",
    "    return ELEGIDO\n",
    "    \n",
    "\n",
    "act2_1(vector)"
   ]
  },
  {
   "cell_type": "code",
   "execution_count": 408,
   "id": "00442559-60d2-440a-9ba0-5217ea775ac7",
   "metadata": {},
   "outputs": [
    {
     "data": {
      "text/plain": [
       "array([38, 10])"
      ]
     },
     "execution_count": 408,
     "metadata": {},
     "output_type": "execute_result"
    }
   ],
   "source": [
    "def act2_2(vec,N):\n",
    "    \n",
    "    for i in range(N):\n",
    "        vec = act2_1(vec)\n",
    "    return vec\n",
    "\n",
    "act2_2(vector,1)"
   ]
  },
  {
   "cell_type": "code",
   "execution_count": 409,
   "id": "5bd4e8e4-487a-4ff3-a0d3-02ded5624991",
   "metadata": {},
   "outputs": [
    {
     "data": {
      "text/plain": [
       "array([38,  4])"
      ]
     },
     "execution_count": 409,
     "metadata": {},
     "output_type": "execute_result"
    }
   ],
   "source": [
    "def act2_3(T,N):\n",
    "    vector = vectorX()\n",
    "    while T > 1:\n",
    "        for i in range(N):\n",
    "            vector = act2_2(vector,N)\n",
    "            T = T*0.9\n",
    "    return vector\n",
    "            \n",
    "\n",
    "act2_3(T,1)"
   ]
  },
  {
   "cell_type": "code",
   "execution_count": 413,
   "id": "03d2d544-cb1c-47d1-8340-f24820fecab4",
   "metadata": {},
   "outputs": [],
   "source": [
    "M = 4\n",
    "N = 4"
   ]
  },
  {
   "cell_type": "code",
   "execution_count": 415,
   "id": "5a16baf0-49da-4165-9e85-976f4778e0e3",
   "metadata": {},
   "outputs": [],
   "source": [
    "def act2_4(T,M,N):\n",
    "    f1y = []\n",
    "    Mod = []\n",
    "    m = 0\n",
    "    while m < M:\n",
    "        for i in range(N):\n",
    "            vec = act2_3(T,N)\n",
    "            x,f1x = Bosque.RegresionBosque(X, y, vector[0], vector[1])\n",
    "            m +=1\n",
    "            Mod.append(vector)\n",
    "            f1y.append(f1x)\n",
    "    return f1y,Mod\n",
    "        \n",
    "        \n",
    "f1_n,Mod = act2_4(T,M,N)  \n"
   ]
  },
  {
   "cell_type": "code",
   "execution_count": 417,
   "id": "d9b8f199-8950-46fc-849d-a8e378a1b05e",
   "metadata": {},
   "outputs": [
    {
     "data": {
      "text/plain": [
       "0.9555555555555556"
      ]
     },
     "execution_count": 417,
     "metadata": {},
     "output_type": "execute_result"
    }
   ],
   "source": [
    "(np.array(f1_n)).max()"
   ]
  },
  {
   "cell_type": "markdown",
   "id": "336af8ed-c64d-40f6-aa48-8b2ebeec7985",
   "metadata": {},
   "source": [
    "MAX : 0.9555555"
   ]
  },
  {
   "cell_type": "code",
   "execution_count": null,
   "id": "8e4fc922-2180-43e3-b492-e92669364f4c",
   "metadata": {},
   "outputs": [],
   "source": []
  }
 ],
 "metadata": {
  "kernelspec": {
   "display_name": "Python 3 (ipykernel)",
   "language": "python",
   "name": "python3"
  },
  "language_info": {
   "codemirror_mode": {
    "name": "ipython",
    "version": 3
   },
   "file_extension": ".py",
   "mimetype": "text/x-python",
   "name": "python",
   "nbconvert_exporter": "python",
   "pygments_lexer": "ipython3",
   "version": "3.12.4"
  }
 },
 "nbformat": 4,
 "nbformat_minor": 5
}
