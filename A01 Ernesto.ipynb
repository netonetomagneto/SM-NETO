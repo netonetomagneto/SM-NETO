{
  "metadata": {
    "kernelspec": {
      "name": "python",
      "display_name": "Python (Pyodide)",
      "language": "python"
    },
    "language_info": {
      "codemirror_mode": {
        "name": "python",
        "version": 3
      },
      "file_extension": ".py",
      "mimetype": "text/x-python",
      "name": "python",
      "nbconvert_exporter": "python",
      "pygments_lexer": "ipython3",
      "version": "3.8"
    }
  },
  "nbformat_minor": 4,
  "nbformat": 4,
  "cells": [
    {
      "cell_type": "markdown",
      "source": "HUGO ERNESTO CARDENAS ALCARAZ, A01, 15 DE AGOSTO",
      "metadata": {}
    },
    {
      "cell_type": "code",
      "source": "a = 5\ni = 1\nfactorial = 1\nwhile i <=a :\n    factorial = factorial*i\n    i += 1\nprint(factorial)",
      "metadata": {
        "trusted": true
      },
      "outputs": [
        {
          "name": "stdout",
          "text": "120\n",
          "output_type": "stream"
        }
      ],
      "execution_count": 1
    },
    {
      "cell_type": "code",
      "source": "b = 98\nfor i in range(2,b):\n    if(b%i) == 0:\n        print(str(b) + \" no es número primo\")\n        break\nelse :\n    print(str(b) +\" es número primo\")\n    \n\n    \n    ",
      "metadata": {
        "trusted": true
      },
      "outputs": [
        {
          "name": "stdout",
          "text": "98 no es número primo\n",
          "output_type": "stream"
        }
      ],
      "execution_count": 92
    }
  ]
}