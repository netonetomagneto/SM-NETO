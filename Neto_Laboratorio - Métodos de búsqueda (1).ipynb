{
 "cells": [
  {
   "cell_type": "markdown",
   "id": "01d3e724-769a-4300-a920-88f1b54fed22",
   "metadata": {},
   "source": [
    "HUGO ERNESTO CARDENAS ALCARAZ 744893"
   ]
  },
  {
   "cell_type": "markdown",
   "id": "28086fca-2cdd-41ac-b7bf-bc1af9f759a2",
   "metadata": {},
   "source": [
    "# Laboratorio: Métodos de búsqueda"
   ]
  },
  {
   "cell_type": "markdown",
   "id": "9e19abc1-82f0-4f28-9493-468e4227c14f",
   "metadata": {},
   "source": [
    "En las clases anteriores creaste códigos para realizar búsquedas aleatorias (Simulated Annealing) y búsquedas dirigidas (Optimización Bayesiana). Estos métodos de búsqueda se utilizan para facilitar el proceso de optimización de funciones objetivos compleja y costosas de computar."
   ]
  },
  {
   "cell_type": "markdown",
   "id": "038474ce-6e2f-4d45-895a-bb17f7c8871d",
   "metadata": {},
   "source": [
    "En este laboratorio usaremos el dataset de los diferentes tipos de iris, y sus longitudes y anchos de pétalos y sépalos. Utilizaremos un RandomForest para crear un modelo de clasificación y el métrico F1 para decidir cuál es el mejor modelo de acuerdo a lo que tenemos disponible."
   ]
  },
  {
   "cell_type": "markdown",
   "id": "c04956ea-14f4-419e-adf8-add3b81da443",
   "metadata": {},
   "source": [
    "1. Carga el dataset de Iris"
   ]
  },
  {
   "cell_type": "code",
   "execution_count": 237,
   "id": "aad912f2-1359-437e-af68-3c8cca8d1b03",
   "metadata": {},
   "outputs": [],
   "source": [
    "from sklearn import datasets\n",
    "X, y = datasets.load_iris(return_X_y=True)"
   ]
  },
  {
   "cell_type": "markdown",
   "id": "9b97ad91-d82b-491c-ac5d-be6f872c5334",
   "metadata": {},
   "source": [
    "2. Importa el archivo `Bosque.py`.\n",
    "\n",
    "Este archivo contiene la función `RegresionBosque`, que recibe:\n",
    "- X: las características independientes\n",
    "- y: la variable de respuesta\n",
    "- árboles: cantidad total de árboles\n",
    "- profundidad de bosque: niveles de profundidad del bosque\n",
    "\n",
    "Su salida es:\n",
    "- modelo: El objeto con el modelo ajustado\n",
    "- f1: El métrico que califica qué tan bueno es el modelo que se ajustó.\n"
   ]
  },
  {
   "cell_type": "code",
   "execution_count": 242,
   "id": "23f875f1-a72a-4a57-8355-16d6bb9fb33a",
   "metadata": {},
   "outputs": [
    {
     "data": {
      "text/plain": [
       "0.9555555555555556"
      ]
     },
     "execution_count": 242,
     "metadata": {},
     "output_type": "execute_result"
    }
   ],
   "source": [
    "import Bosque\n",
    "modelo, f1 = Bosque.RegresionBosque(X, y, 10, 3)\n",
    "f1"
   ]
  },
  {
   "cell_type": "markdown",
   "id": "15ac2825-33ac-4919-9ccb-8324701ce99f",
   "metadata": {},
   "source": [
    "### Actividad 1:"
   ]
  },
  {
   "cell_type": "markdown",
   "id": "a8eb265f-9ccf-4fb4-b8c0-8fe221ea534c",
   "metadata": {},
   "source": [
    "Inicializa un espacio con 5 muestras en nuestro dominio de variables independientes:\n",
    "- árboles: números enteros entre 5 y 50.\n",
    "- profundidad: números enteros entre 2 y 10"
   ]
  },
  {
   "cell_type": "markdown",
   "id": "1ed7c396-af97-49a6-828e-c5d63c1b6999",
   "metadata": {},
   "source": [
    "Utiliza optimización Bayesiana para encontrar la combinación de árboles y profundidad que **maximice** el métrico F1."
   ]
  },
  {
   "cell_type": "code",
   "execution_count": 433,
   "id": "1e563392-4509-4d70-9cb6-adca944d2406",
   "metadata": {},
   "outputs": [
    {
     "data": {
      "text/plain": [
       "(array([[10],\n",
       "        [39],\n",
       "        [ 5],\n",
       "        [47],\n",
       "        [12]]),\n",
       " array([[5],\n",
       "        [5],\n",
       "        [7],\n",
       "        [8],\n",
       "        [3]]))"
      ]
     },
     "execution_count": 433,
     "metadata": {},
     "output_type": "execute_result"
    }
   ],
   "source": [
    "import numpy as np\n",
    "import matplotlib.pyplot as plt\n",
    "arboles = np.random.randint(5,51,5)\n",
    "tree = arboles.reshape([-1,1])\n",
    "profundidad = np.random.randint(2,11,5)\n",
    "depth = profundidad.reshape([-1,1])\n",
    "tree,depth"
   ]
  },
  {
   "cell_type": "code",
   "execution_count": 435,
   "id": "de00bcfe-9350-4954-80f6-1ea060276da1",
   "metadata": {},
   "outputs": [],
   "source": [
    "modelo_1,uno = Bosque.RegresionBosque(X, y, arboles[0], profundidad[0])\n",
    "modelo_2,dos = Bosque.RegresionBosque(X, y, arboles[1], profundidad[1])\n",
    "modelo_3,tres = Bosque.RegresionBosque(X, y, arboles[2], profundidad[2])\n",
    "modelo_4,cuatro = Bosque.RegresionBosque(X, y, arboles[3], profundidad[3])\n",
    "modelo_5,cinco = Bosque.RegresionBosque(X, y, arboles[4], profundidad[4])\n"
   ]
  },
  {
   "cell_type": "code",
   "execution_count": 436,
   "id": "6fdf6fee-02fc-43fb-a0dd-101bc431217e",
   "metadata": {},
   "outputs": [
    {
     "data": {
      "text/plain": [
       "(0.9555555555555556,\n",
       " 0.9555555555555556,\n",
       " 0.9555555555555556,\n",
       " 0.9555555555555556,\n",
       " 0.9666666666666667)"
      ]
     },
     "execution_count": 436,
     "metadata": {},
     "output_type": "execute_result"
    }
   ],
   "source": [
    "uno, dos, tres, cuatro, cinco"
   ]
  },
  {
   "cell_type": "code",
   "execution_count": 437,
   "id": "fd1b0357-701b-4a26-8ce9-d2baefc77f82",
   "metadata": {},
   "outputs": [
    {
     "data": {
      "text/plain": [
       "array([0.95555556, 0.95555556, 0.95555556, 0.95555556, 0.96666667])"
      ]
     },
     "execution_count": 437,
     "metadata": {},
     "output_type": "execute_result"
    }
   ],
   "source": [
    "valores_z = np.array([uno,dos,tres,cuatro,cinco])\n",
    "valores_z"
   ]
  },
  {
   "cell_type": "code",
   "execution_count": 438,
   "id": "c3df08cf-5044-4fe3-9625-f85e44c434e4",
   "metadata": {},
   "outputs": [],
   "source": [
    "X_hyper = np.hstack((tree, depth))"
   ]
  },
  {
   "cell_type": "code",
   "execution_count": null,
   "id": "56879ecf-0181-4c2c-8086-d55fb8ce753f",
   "metadata": {},
   "outputs": [],
   "source": []
  },
  {
   "cell_type": "code",
   "execution_count": 440,
   "id": "80f5832d-28f3-4df0-9820-cff1c5e00bfe",
   "metadata": {},
   "outputs": [
    {
     "data": {
      "text/plain": [
       "array([[10.,  5.],\n",
       "       [39.,  5.],\n",
       "       [ 5.,  7.],\n",
       "       [47.,  8.],\n",
       "       [12.,  3.],\n",
       "       [ 5.,  2.]])"
      ]
     },
     "execution_count": 440,
     "metadata": {},
     "output_type": "execute_result"
    }
   ],
   "source": [
    "from sklearn.gaussian_process import GaussianProcessRegressor\n",
    "from sklearn.gaussian_process.kernels import RBF\n",
    "\n",
    "kernel = 1.0*RBF(length_scale = 1)\n",
    "gp = GaussianProcessRegressor(kernel = kernel, n_restarts_optimizer = 10).fit(X_hyper,valores_z)\n",
    "\n",
    "x_tree = np.linspace(5,50,1000).reshape([-1,1])\n",
    "x_profundidad = np.linspace(2,10,1000).reshape([-1,1])\n",
    "x_hyper = np.hstack((x_tree, x_profundidad))\n",
    "y_pred, y_std = gp.predict(x_hyper, return_std = True)\n",
    "\n",
    "#y_pred_low = y_pred - 1.96*(y_std)\n",
    "y_pred_high = y_pred + 1.96*(y_std)\n",
    "\n",
    "i_next = np.argmax(y_pred_high)\n",
    "new_X = np.vstack((X_hyper,x_hyper[i_next]))\n",
    "new_X"
   ]
  },
  {
   "cell_type": "markdown",
   "id": "5e083a3c-fa68-4942-b5d3-f1f7130b4fbb",
   "metadata": {},
   "source": [
    "### Actividad 2:"
   ]
  },
  {
   "cell_type": "markdown",
   "id": "2817a47c-0081-4376-b222-c65735f4ab9d",
   "metadata": {},
   "source": [
    "Inicializa 2 vectores con posibles valores para las variables independientes:\n",
    "- árboles: números enteros entre 5 y 50\n",
    "- profundidad: números enteros entre 2 y 10\n",
    "\n",
    "Utiliza el algoritmo de Simulated Annealing que siga el siguiente orden:\n",
    "- Elige un punto de partida para las variables.\n",
    "- Selecciona al azar una de las dos para modificarlas.\n",
    "- Selecciona un elemento al azar de la lista que contiene los posibles valores de esa variable.\n",
    "- Sigue el algoritmo ($p$ y $q$) para decidir si usas esa combinación nueva o si mantienes la anterior."
   ]
  },
  {
   "cell_type": "code",
   "execution_count": null,
   "id": "e6286fe8-ec56-4871-9c31-8d4d3ca4c0ae",
   "metadata": {},
   "outputs": [],
   "source": []
  },
  {
   "cell_type": "code",
   "execution_count": null,
   "id": "239fa243-bd6d-4ec4-860a-2eae65cea710",
   "metadata": {},
   "outputs": [],
   "source": []
  },
  {
   "cell_type": "code",
   "execution_count": null,
   "id": "00442559-60d2-440a-9ba0-5217ea775ac7",
   "metadata": {},
   "outputs": [],
   "source": []
  }
 ],
 "metadata": {
  "kernelspec": {
   "display_name": "Python 3 (ipykernel)",
   "language": "python",
   "name": "python3"
  },
  "language_info": {
   "codemirror_mode": {
    "name": "ipython",
    "version": 3
   },
   "file_extension": ".py",
   "mimetype": "text/x-python",
   "name": "python",
   "nbconvert_exporter": "python",
   "pygments_lexer": "ipython3",
   "version": "3.12.4"
  }
 },
 "nbformat": 4,
 "nbformat_minor": 5
}
