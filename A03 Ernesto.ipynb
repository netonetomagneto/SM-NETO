{
 "cells": [
  {
   "cell_type": "markdown",
   "id": "e36ef210-e47d-44c9-afc5-e6e5ee4e03ce",
   "metadata": {},
   "source": [
    "HUGO ERNESTO CARDENAS ALCARAZ, A03, 23 AGOSTO"
   ]
  },
  {
   "cell_type": "markdown",
   "id": "cea9a1c0-5349-49ac-b226-6c685bec3037",
   "metadata": {},
   "source": [
    "# RECORDANDO LISTAS\n"
   ]
  },
  {
   "cell_type": "code",
   "execution_count": null,
   "id": "889cac86-0057-41d0-b551-e5bb958682ed",
   "metadata": {},
   "outputs": [],
   "source": [
    "Lista = [a,b,c,d,e,f,g]"
   ]
  },
  {
   "cell_type": "code",
   "execution_count": null,
   "id": "a31abdcc-deea-4477-a6b4-821a73d731ad",
   "metadata": {},
   "outputs": [],
   "source": [
    "# Lista.pop() quita el ultimo\n",
    "# Lista.pop(2) quita el 3\n",
    "# Lista.append(x)  agrega al final\n",
    "# Lista.insert(2,x) inserta x antes del alemento con indice 2"
   ]
  },
  {
   "cell_type": "code",
   "execution_count": 17,
   "id": "9ef73a45-c08c-4afe-930a-d8183e8c7d42",
   "metadata": {},
   "outputs": [
    {
     "data": {
      "text/plain": [
       "dict_keys(['perro', 'gato'])"
      ]
     },
     "execution_count": 17,
     "metadata": {},
     "output_type": "execute_result"
    }
   ],
   "source": [
    "diccionario = {\"perro\": \"animal canino de 3 patas que ldra, es mamifero y tiene cola\",\"gato\":\"animalfelino de 4 patas que maúlla, es mampifero y tiene cola\"}\n",
    "diccionario\n",
    "diccionario.keys()"
   ]
  },
  {
   "cell_type": "code",
   "execution_count": 13,
   "id": "1bb26343-33db-46ce-a8c9-ff64fe724450",
   "metadata": {},
   "outputs": [
    {
     "data": {
      "text/plain": [
       "{744893: {'nombre': 'gabirel',\n",
       "  'apellido': 'alvarez',\n",
       "  'carrera': 'psicologia',\n",
       "  'expediente': 744893,\n",
       "  'materias inscritas': ['mecanica',\n",
       "   'simulacion matematica',\n",
       "   'metodos numericos']},\n",
       " 744844: {'nombre': 'josefa',\n",
       "  'apellido': 'martinez',\n",
       "  'carrera': 'nano',\n",
       "  'expediente': 744844,\n",
       "  'materias inscritas': ['mecanica',\n",
       "   'simulacion matematica',\n",
       "   'epicidad matematica',\n",
       "   'epicidada mega epica2']}}"
      ]
     },
     "execution_count": 13,
     "metadata": {},
     "output_type": "execute_result"
    }
   ],
   "source": [
    "gamr = {\n",
    "    \"nombre\":\"gabirel\",\n",
    "    \"apellido\":\"alvarez\",\n",
    "    \"carrera\":\"psicologia\",\n",
    "    \"expediente\":744893,\n",
    "    \"materias inscritas\": [\"mecanica\" , \"simulacion matematica\", \"metodos numericos\"]\n",
    "}\n",
    "josefa = {\n",
    "    \"nombre\":\"josefa\",\n",
    "    \"apellido\":\"martinez\",\n",
    "    \"carrera\":\"nano\",\n",
    "    \"expediente\":744844,\n",
    "    \"materias inscritas\": [\"mecanica\", \"simulacion matematica\", \"epicidad matematica\", \"epicidada mega epica2\"]\n",
    "    \n",
    "}\n",
    "alumnosinscritos  = {\n",
    "    744893 : gamr,\n",
    "    744844 : josefa\n",
    "    \n",
    "}\n",
    "alumnosinscritos "
   ]
  },
  {
   "cell_type": "markdown",
   "id": "234796ae-c04d-4946-9fd4-96e43c16427c",
   "metadata": {},
   "source": [
    "# LIBRARY"
   ]
  },
  {
   "cell_type": "markdown",
   "id": "4846e07b-0d64-4a82-a35c-7789303fac71",
   "metadata": {},
   "source": [
    "## NUMPY\n"
   ]
  },
  {
   "cell_type": "code",
   "execution_count": 51,
   "id": "3e86e51f-fb5e-48c6-9f36-cab95a51b6ba",
   "metadata": {},
   "outputs": [
    {
     "data": {
      "text/plain": [
       "array([1, 2, 3])"
      ]
     },
     "execution_count": 51,
     "metadata": {},
     "output_type": "execute_result"
    }
   ],
   "source": [
    "import numpy as np\n",
    "\n",
    "a = np.array([1,2,3])\n",
    "b = np.array([4,5,6])\n",
    "\n",
    "a\n"
   ]
  },
  {
   "cell_type": "code",
   "execution_count": 57,
   "id": "43d6c221-0c43-4a9e-8a99-7b19540a6e5e",
   "metadata": {},
   "outputs": [
    {
     "data": {
      "text/plain": [
       "array([[1, 2, 3]])"
      ]
     },
     "execution_count": 57,
     "metadata": {},
     "output_type": "execute_result"
    }
   ],
   "source": [
    "c = np.array([[1,2,3]])\n",
    "c"
   ]
  },
  {
   "cell_type": "code",
   "execution_count": 59,
   "id": "12583c4f-3191-433e-950c-cff66d9881a2",
   "metadata": {},
   "outputs": [
    {
     "data": {
      "text/plain": [
       "array([[1],\n",
       "       [2],\n",
       "       [3]])"
      ]
     },
     "execution_count": 59,
     "metadata": {},
     "output_type": "execute_result"
    }
   ],
   "source": [
    "d = np.array([[1],[2],[3]])\n",
    "d"
   ]
  },
  {
   "cell_type": "code",
   "execution_count": 63,
   "id": "99d7b115-c1a1-470d-98f2-bf2d8c5d5153",
   "metadata": {},
   "outputs": [
    {
     "data": {
      "text/plain": [
       "array([[1, 2, 3],\n",
       "       [4, 5, 6],\n",
       "       [7, 8, 9]])"
      ]
     },
     "execution_count": 63,
     "metadata": {},
     "output_type": "execute_result"
    }
   ],
   "source": [
    "A = np.array([[1,2,3],[4,5,6],[7,8,9]])\n",
    "\n",
    "A"
   ]
  },
  {
   "cell_type": "code",
   "execution_count": 65,
   "id": "2d84a953-5c3c-4db2-aaa3-43587ef60a20",
   "metadata": {},
   "outputs": [
    {
     "data": {
      "text/plain": [
       "array([[14]])"
      ]
     },
     "execution_count": 65,
     "metadata": {},
     "output_type": "execute_result"
    }
   ],
   "source": [
    "c@d"
   ]
  },
  {
   "cell_type": "code",
   "execution_count": 69,
   "id": "4981c48f-deb0-4774-9572-932883b4d718",
   "metadata": {},
   "outputs": [
    {
     "data": {
      "text/plain": [
       "0.8775825618903728"
      ]
     },
     "execution_count": 69,
     "metadata": {},
     "output_type": "execute_result"
    }
   ],
   "source": [
    "x=0.5\n",
    "np.exp(x+2) #e^(x+2)\n",
    "np.sin(x)\n",
    "np.cos(x)\n",
    "np.log10(x)"
   ]
  },
  {
   "cell_type": "code",
   "execution_count": null,
   "id": "0edbee27-852f-4df4-8e68-5dbc7f4c5f83",
   "metadata": {},
   "outputs": [],
   "source": []
  },
  {
   "cell_type": "code",
   "execution_count": null,
   "id": "85ee454b-9a58-4408-bcc0-decd6a1ffa87",
   "metadata": {},
   "outputs": [],
   "source": []
  },
  {
   "cell_type": "code",
   "execution_count": null,
   "id": "1a8e543b-37f7-425f-9e1e-43c3f3ce062b",
   "metadata": {},
   "outputs": [],
   "source": []
  },
  {
   "cell_type": "code",
   "execution_count": null,
   "id": "8b59e59b-5b6a-415e-8108-b674567aa8bc",
   "metadata": {},
   "outputs": [],
   "source": []
  },
  {
   "cell_type": "code",
   "execution_count": null,
   "id": "0a38adff-4a4b-45e9-bff8-7ba56382827e",
   "metadata": {},
   "outputs": [],
   "source": []
  },
  {
   "cell_type": "code",
   "execution_count": null,
   "id": "56c84349-3dd3-409b-9c34-043398c51f8a",
   "metadata": {},
   "outputs": [],
   "source": []
  },
  {
   "cell_type": "code",
   "execution_count": null,
   "id": "a51ab6c5-33d1-46a3-aa70-8fbec40de644",
   "metadata": {},
   "outputs": [],
   "source": []
  },
  {
   "cell_type": "markdown",
   "id": "92bf69f7-92df-431b-bc8b-2b0bcb14c69d",
   "metadata": {},
   "source": [
    "# PANDAS"
   ]
  },
  {
   "cell_type": "code",
   "execution_count": 10,
   "id": "8a6736ec-676d-4db7-85f3-5cf533ecb069",
   "metadata": {},
   "outputs": [
    {
     "data": {
      "text/html": [
       "<div>\n",
       "<style scoped>\n",
       "    .dataframe tbody tr th:only-of-type {\n",
       "        vertical-align: middle;\n",
       "    }\n",
       "\n",
       "    .dataframe tbody tr th {\n",
       "        vertical-align: top;\n",
       "    }\n",
       "\n",
       "    .dataframe thead th {\n",
       "        text-align: right;\n",
       "    }\n",
       "</style>\n",
       "<table border=\"1\" class=\"dataframe\">\n",
       "  <thead>\n",
       "    <tr style=\"text-align: right;\">\n",
       "      <th></th>\n",
       "      <th>ID Persona</th>\n",
       "      <th>Peso</th>\n",
       "      <th>Estatura</th>\n",
       "    </tr>\n",
       "  </thead>\n",
       "  <tbody>\n",
       "    <tr>\n",
       "      <th>0</th>\n",
       "      <td>1</td>\n",
       "      <td>67</td>\n",
       "      <td>1.41</td>\n",
       "    </tr>\n",
       "    <tr>\n",
       "      <th>1</th>\n",
       "      <td>2</td>\n",
       "      <td>99</td>\n",
       "      <td>1.83</td>\n",
       "    </tr>\n",
       "    <tr>\n",
       "      <th>2</th>\n",
       "      <td>3</td>\n",
       "      <td>86</td>\n",
       "      <td>1.90</td>\n",
       "    </tr>\n",
       "    <tr>\n",
       "      <th>3</th>\n",
       "      <td>4</td>\n",
       "      <td>118</td>\n",
       "      <td>1.65</td>\n",
       "    </tr>\n",
       "    <tr>\n",
       "      <th>4</th>\n",
       "      <td>5</td>\n",
       "      <td>109</td>\n",
       "      <td>1.67</td>\n",
       "    </tr>\n",
       "    <tr>\n",
       "      <th>...</th>\n",
       "      <td>...</td>\n",
       "      <td>...</td>\n",
       "      <td>...</td>\n",
       "    </tr>\n",
       "    <tr>\n",
       "      <th>95</th>\n",
       "      <td>96</td>\n",
       "      <td>88</td>\n",
       "      <td>1.49</td>\n",
       "    </tr>\n",
       "    <tr>\n",
       "      <th>96</th>\n",
       "      <td>97</td>\n",
       "      <td>98</td>\n",
       "      <td>1.54</td>\n",
       "    </tr>\n",
       "    <tr>\n",
       "      <th>97</th>\n",
       "      <td>98</td>\n",
       "      <td>95</td>\n",
       "      <td>1.57</td>\n",
       "    </tr>\n",
       "    <tr>\n",
       "      <th>98</th>\n",
       "      <td>99</td>\n",
       "      <td>61</td>\n",
       "      <td>1.61</td>\n",
       "    </tr>\n",
       "    <tr>\n",
       "      <th>99</th>\n",
       "      <td>100</td>\n",
       "      <td>107</td>\n",
       "      <td>1.62</td>\n",
       "    </tr>\n",
       "  </tbody>\n",
       "</table>\n",
       "<p>100 rows × 3 columns</p>\n",
       "</div>"
      ],
      "text/plain": [
       "    ID Persona  Peso  Estatura\n",
       "0            1    67      1.41\n",
       "1            2    99      1.83\n",
       "2            3    86      1.90\n",
       "3            4   118      1.65\n",
       "4            5   109      1.67\n",
       "..         ...   ...       ...\n",
       "95          96    88      1.49\n",
       "96          97    98      1.54\n",
       "97          98    95      1.57\n",
       "98          99    61      1.61\n",
       "99         100   107      1.62\n",
       "\n",
       "[100 rows x 3 columns]"
      ]
     },
     "execution_count": 10,
     "metadata": {},
     "output_type": "execute_result"
    }
   ],
   "source": [
    "import pandas as pd\n",
    "\n",
    "datos = pd.read_excel(\"datosPE.xlsx\")\n",
    "datos"
   ]
  },
  {
   "cell_type": "code",
   "execution_count": 16,
   "id": "1640ca66-8db5-4d0e-b19b-b151e05021ab",
   "metadata": {},
   "outputs": [
    {
     "data": {
      "text/plain": [
       "(100, 3)"
      ]
     },
     "execution_count": 16,
     "metadata": {},
     "output_type": "execute_result"
    }
   ],
   "source": [
    "datos.shape"
   ]
  },
  {
   "cell_type": "code",
   "execution_count": null,
   "id": "2f02722f-3e5e-4c29-9003-ab4950d8fa13",
   "metadata": {},
   "outputs": [],
   "source": []
  },
  {
   "cell_type": "markdown",
   "id": "3fe9192f-9051-42b3-9aa3-8cc3a14b3b7c",
   "metadata": {},
   "source": [
    "# EJERCICIO"
   ]
  },
  {
   "cell_type": "code",
   "execution_count": 39,
   "id": "67c4e156-f9a0-45b8-b079-a917d16da5a9",
   "metadata": {},
   "outputs": [
    {
     "data": {
      "text/html": [
       "<div>\n",
       "<style scoped>\n",
       "    .dataframe tbody tr th:only-of-type {\n",
       "        vertical-align: middle;\n",
       "    }\n",
       "\n",
       "    .dataframe tbody tr th {\n",
       "        vertical-align: top;\n",
       "    }\n",
       "\n",
       "    .dataframe thead th {\n",
       "        text-align: right;\n",
       "    }\n",
       "</style>\n",
       "<table border=\"1\" class=\"dataframe\">\n",
       "  <thead>\n",
       "    <tr style=\"text-align: right;\">\n",
       "      <th></th>\n",
       "      <th>Unnamed: 0</th>\n",
       "      <th>Ingreso</th>\n",
       "      <th>Gasto</th>\n",
       "    </tr>\n",
       "  </thead>\n",
       "  <tbody>\n",
       "    <tr>\n",
       "      <th>0</th>\n",
       "      <td>Enero</td>\n",
       "      <td>1340</td>\n",
       "      <td>1880</td>\n",
       "    </tr>\n",
       "    <tr>\n",
       "      <th>1</th>\n",
       "      <td>Febrero</td>\n",
       "      <td>2590</td>\n",
       "      <td>3130</td>\n",
       "    </tr>\n",
       "    <tr>\n",
       "      <th>2</th>\n",
       "      <td>Marzo</td>\n",
       "      <td>3570</td>\n",
       "      <td>2140</td>\n",
       "    </tr>\n",
       "    <tr>\n",
       "      <th>3</th>\n",
       "      <td>Abril</td>\n",
       "      <td>4450</td>\n",
       "      <td>3370</td>\n",
       "    </tr>\n",
       "    <tr>\n",
       "      <th>4</th>\n",
       "      <td>Mayo</td>\n",
       "      <td>1330</td>\n",
       "      <td>2990</td>\n",
       "    </tr>\n",
       "    <tr>\n",
       "      <th>5</th>\n",
       "      <td>Junio</td>\n",
       "      <td>1610</td>\n",
       "      <td>1970</td>\n",
       "    </tr>\n",
       "    <tr>\n",
       "      <th>6</th>\n",
       "      <td>Julio</td>\n",
       "      <td>1500</td>\n",
       "      <td>2230</td>\n",
       "    </tr>\n",
       "    <tr>\n",
       "      <th>7</th>\n",
       "      <td>Agosto</td>\n",
       "      <td>2270</td>\n",
       "      <td>1240</td>\n",
       "    </tr>\n",
       "    <tr>\n",
       "      <th>8</th>\n",
       "      <td>Septiembre</td>\n",
       "      <td>1910</td>\n",
       "      <td>1470</td>\n",
       "    </tr>\n",
       "    <tr>\n",
       "      <th>9</th>\n",
       "      <td>Octubre</td>\n",
       "      <td>2120</td>\n",
       "      <td>2280</td>\n",
       "    </tr>\n",
       "    <tr>\n",
       "      <th>10</th>\n",
       "      <td>Noviembre</td>\n",
       "      <td>3950</td>\n",
       "      <td>1870</td>\n",
       "    </tr>\n",
       "    <tr>\n",
       "      <th>11</th>\n",
       "      <td>Diciembre</td>\n",
       "      <td>1380</td>\n",
       "      <td>3140</td>\n",
       "    </tr>\n",
       "  </tbody>\n",
       "</table>\n",
       "</div>"
      ],
      "text/plain": [
       "    Unnamed: 0  Ingreso  Gasto\n",
       "0        Enero     1340   1880\n",
       "1      Febrero     2590   3130\n",
       "2        Marzo     3570   2140\n",
       "3        Abril     4450   3370\n",
       "4         Mayo     1330   2990\n",
       "5        Junio     1610   1970\n",
       "6        Julio     1500   2230\n",
       "7       Agosto     2270   1240\n",
       "8   Septiembre     1910   1470\n",
       "9      Octubre     2120   2280\n",
       "10   Noviembre     3950   1870\n",
       "11   Diciembre     1380   3140"
      ]
     },
     "execution_count": 39,
     "metadata": {},
     "output_type": "execute_result"
    }
   ],
   "source": [
    "finanzas = pd.read_excel(\"datosCT.xlsx\")\n",
    "fin = pd.DataFrame(finanzas)\n",
    "fin"
   ]
  },
  {
   "cell_type": "code",
   "execution_count": 122,
   "id": "fc1f9944-e9b8-4006-89d7-86dd3c45c866",
   "metadata": {},
   "outputs": [
    {
     "data": {
      "text/plain": [
       "28020"
      ]
     },
     "execution_count": 122,
     "metadata": {},
     "output_type": "execute_result"
    }
   ],
   "source": [
    "#utilidad\n",
    "fin.columns\n",
    "ingresos = fin[\"Ingreso\"] \n",
    "ingresos.sum()\n"
   ]
  },
  {
   "cell_type": "code",
   "execution_count": 76,
   "id": "fa0cddea-d511-48d9-aeae-0b2759611039",
   "metadata": {},
   "outputs": [
    {
     "data": {
      "text/plain": [
       "Unnamed: 0    EneroFebreroMarzoAbrilMayoJunioJulioAgostoSept...\n",
       "Ingreso                                                   28020\n",
       "Gasto                                                     27710\n",
       "dtype: object"
      ]
     },
     "execution_count": 76,
     "metadata": {},
     "output_type": "execute_result"
    }
   ],
   "source": [
    "fin.sum()"
   ]
  },
  {
   "cell_type": "code",
   "execution_count": 120,
   "id": "e8168347-5f41-438a-89d6-94a5c37259eb",
   "metadata": {},
   "outputs": [
    {
     "data": {
      "text/plain": [
       "27710"
      ]
     },
     "execution_count": 120,
     "metadata": {},
     "output_type": "execute_result"
    }
   ],
   "source": [
    "gastos = fin[\"Gasto\"]\n",
    "gastos.sum()"
   ]
  },
  {
   "cell_type": "code",
   "execution_count": 126,
   "id": "c2dd9a75-2a68-4581-b3b9-ea1c25675fe5",
   "metadata": {},
   "outputs": [
    {
     "data": {
      "text/plain": [
       "310"
      ]
     },
     "execution_count": 126,
     "metadata": {},
     "output_type": "execute_result"
    }
   ],
   "source": [
    "Utilidades = ingresos.sum() - gastos.sum()\n",
    "Utilidades"
   ]
  },
  {
   "cell_type": "code",
   "execution_count": 140,
   "id": "b29fe5f6-dee5-49a6-8389-85cf1d96d174",
   "metadata": {},
   "outputs": [
    {
     "data": {
      "text/plain": [
       "array([[2],\n",
       "       [4]])"
      ]
     },
     "execution_count": 140,
     "metadata": {},
     "output_type": "execute_result"
    }
   ],
   "source": [
    "import numpy as np\n",
    "A = np.array([[1,2],[3,4]])\n",
    "b = np.array([[2],[4]])\n",
    "b\n"
   ]
  },
  {
   "cell_type": "code",
   "execution_count": 138,
   "id": "f101bb2b-0c80-4f8e-9bf5-62f97ec552b8",
   "metadata": {},
   "outputs": [
    {
     "data": {
      "text/plain": [
       "array([[1, 2],\n",
       "       [3, 4]])"
      ]
     },
     "execution_count": 138,
     "metadata": {},
     "output_type": "execute_result"
    }
   ],
   "source": [
    "\n"
   ]
  },
  {
   "cell_type": "code",
   "execution_count": null,
   "id": "c73a5c1a-1922-4031-ab6d-bf14dd68fac0",
   "metadata": {},
   "outputs": [],
   "source": []
  }
 ],
 "metadata": {
  "kernelspec": {
   "display_name": "Python 3 (ipykernel)",
   "language": "python",
   "name": "python3"
  },
  "language_info": {
   "codemirror_mode": {
    "name": "ipython",
    "version": 3
   },
   "file_extension": ".py",
   "mimetype": "text/x-python",
   "name": "python",
   "nbconvert_exporter": "python",
   "pygments_lexer": "ipython3",
   "version": "3.12.4"
  }
 },
 "nbformat": 4,
 "nbformat_minor": 5
}
