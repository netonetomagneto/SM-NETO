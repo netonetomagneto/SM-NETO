{
  "metadata": {
    "kernelspec": {
      "name": "python",
      "display_name": "Python (Pyodide)",
      "language": "python"
    },
    "language_info": {
      "codemirror_mode": {
        "name": "python",
        "version": 3
      },
      "file_extension": ".py",
      "mimetype": "text/x-python",
      "name": "python",
      "nbconvert_exporter": "python",
      "pygments_lexer": "ipython3",
      "version": "3.8"
    }
  },
  "nbformat_minor": 4,
  "nbformat": 4,
  "cells": [
    {
      "cell_type": "markdown",
      "source": "# Principio de Fermat (óptica)",
      "metadata": {}
    },
    {
      "cell_type": "markdown",
      "source": "## Primera definición del principio de Fermat",
      "metadata": {}
    },
    {
      "cell_type": "markdown",
      "source": "El principio de Fermat inició como *El principio de menor tiempo*, debido a que mediante una serie de experimentos de refracción y reflexión, la luz siempre mantenía el camino con menor distancia posible, utilizando líneas rectas desde punto A a B, como se muestra en la **Figura 1.1.**",
      "metadata": {}
    },
    {
      "cell_type": "markdown",
      "source": "![fermat imagen](https://homework.study.com/cimages/multimages/16/screenshot_274875915136150617908.jpg)",
      "metadata": {}
    },
    {
      "cell_type": "markdown",
      "source": "**Figura 1.1**\n",
      "metadata": {}
    },
    {
      "cell_type": "markdown",
      "source": "## Primera evolución del principio de Fermat\n",
      "metadata": {}
    },
    {
      "cell_type": "markdown",
      "source": "Cuando se comenzó a jugar con los medios de transmisión por los que pasaba la luz, se identificó que el índice de refracción era crucial para entender el ángulo que tomaba ",
      "metadata": {}
    }
  ]
}