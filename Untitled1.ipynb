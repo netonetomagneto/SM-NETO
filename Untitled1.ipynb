{
  "metadata": {
    "kernelspec": {
      "name": "python",
      "display_name": "Python (Pyodide)",
      "language": "python"
    },
    "language_info": {
      "codemirror_mode": {
        "name": "python",
        "version": 3
      },
      "file_extension": ".py",
      "mimetype": "text/x-python",
      "name": "python",
      "nbconvert_exporter": "python",
      "pygments_lexer": "ipython3",
      "version": "3.8"
    }
  },
  "nbformat_minor": 4,
  "nbformat": 4,
  "cells": [
    {
      "cell_type": "markdown",
      "source": "HUGO ERNESTO CÁRDENAS ALCARAZ, MARKDOWN 01, 15 DE AGOSTO 2024",
      "metadata": {}
    },
    {
      "cell_type": "markdown",
      "source": "# Principio de Fermat",
      "metadata": {}
    },
    {
      "cell_type": "markdown",
      "source": "El principio es utilizado para poder analizar y predecir la trayectoria de la luz en diferentes medios y es aplicado en múltiples dispositivos ópticos. Para poder llegar a la definición actual, la cual fue uno de los principios de la mecánica cuántica, se tuvo que pasar por las siguientes fases a lo largo de cientos de años:\n1. Primera definición del menro tiempo\n2. Segunda definición de la longitud de camino ",
      "metadata": {}
    },
    {
      "cell_type": "markdown",
      "source": "## Primera definición de Fermat",
      "metadata": {}
    },
    {
      "cell_type": "markdown",
      "source": "El principio de Fermat inció como *El principio de menor tiempo*, debido a que mediante una serie de experimentos de refracción y reflexión, la luz siempre mantenía el camino con menos distancia posible, utiliznado líneas rectas desde el punto A a B, com se muestra en la **Figura 1.1**",
      "metadata": {}
    },
    {
      "cell_type": "markdown",
      "source": "![fermat imagen](https://homework.study.com/cimages/multimages/16/screenshot_274875915136150617908.jpg)",
      "metadata": {}
    },
    {
      "cell_type": "markdown",
      "source": "***Figura 1.1***",
      "metadata": {}
    },
    {
      "cell_type": "markdown",
      "source": "## Primera evolución del principio de Fermat",
      "metadata": {}
    },
    {
      "cell_type": "markdown",
      "source": "Cuando se comenzó a observar el cambio en el medio de transmisión por lo que se postularon nuevas dependencias:\n* Medio\n* trayectoria\n* eficiencia",
      "metadata": {}
    },
    {
      "cell_type": "markdown",
      "source": "Las cuales determinaron que se debía obtener a partir de una nueva referencia la cual se conocería como _Optical Path Length_ (OPL) el cual se puede representar con la siguiente acuación:",
      "metadata": {}
    },
    {
      "cell_type": "markdown",
      "source": "$$OPL=\\int_{S}^{P} n(s)ds$$",
      "metadata": {}
    },
    {
      "cell_type": "markdown",
      "source": "## Última evolución del Principio de Fermat",
      "metadata": {}
    },
    {
      "cell_type": "markdown",
      "source": "El último problema a solucionar sería poder conocer por qué la trayectoria que tiene un rayo no logra desviarse. Para poder determinar la trayectoria se recurrió a los máximos y mínimos; el mínimo sería interpretado como el punto estable de una función del OPL en relación con la posición, lo cual se visualiza con la curva que representa su gráfica en donde la luz siempre seguirá la trayectora con la mayor estabilidad, la cual sigue el OPL.",
      "metadata": {}
    }
  ]
}